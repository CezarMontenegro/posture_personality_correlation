{
  "cells": [
    {
      "cell_type": "markdown",
      "metadata": {
        "id": "view-in-github",
        "colab_type": "text"
      },
      "source": [
        "<a href=\"https://colab.research.google.com/github/CezarMontenegro/posture_personlity_correlation/blob/main/posture_personality_correlation.ipynb\" target=\"_parent\"><img src=\"https://colab.research.google.com/assets/colab-badge.svg\" alt=\"Open In Colab\"/></a>"
      ]
    },
    {
      "cell_type": "markdown",
      "metadata": {
        "id": "5ps570V3Zbr4"
      },
      "source": [
        "# **Correlação entre postura e traços de personalidade**\n",
        "\n",
        "![postura.jpg](data:image/jpeg;base64,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)\n",
        "\n",
        "A dor nas costas ocupacional é um distúrbio que comumente afeta a população trabalhadora, resultando em incapacidade, utilização de serviços de saúde e um pesado fardo socioeconômico. Embora a etiologia da dor ocupacional permaneça em grande parte sem solução, existem evidências anedóticas da contribuição da personalidade e da postura para o controle da dor a longo prazo, apontando para uma contribuição direta do eixo mente-corpo.\n",
        "\n",
        "A classificação tipológica de Myers-Briggs (Myers–Briggs Type Indicator - MBTI) é um instrumento utilizado para identificar características e preferências pessoais. Um conceito fundamental para o MBTI é \"Tipo Psicológico\". A ideia é que os indivíduos acham certas maneiras de pensar e agir mais fáceis que as outras. O MBTI postula a existência de quatro pares opostos de maneiras de pensar e agir, chamados dicotomias (dimensões)\n",
        "\n",
        "Neste projeto iremos analizar o padrão postural e os traços de personalidade dos indivíduos e descobrir se existe uma correlação entre eles, também desenvolveremos um modelo que prevê o padrão postural de acordo com seus traços de personalidade."
      ]
    },
    {
      "cell_type": "markdown",
      "metadata": {
        "id": "ORmviJsTdaYt"
      },
      "source": [
        "## **Descrição dos atributos**\n",
        "\n",
        "AGE - Idade do participante em anos  \n",
        "HEIGHT - Altura do participante em polegadas  \n",
        "WEIGHT - Peso do participante em libras  \n",
        "SEX - Sexo do candidato  \n",
        "ACTIVITY LEVEL - Nível de atividade do candidato  \n",
        "PAIN 1 - Nível de dor no pescoço em uma escala de 1 a 10  \n",
        "PAIN 2 - Nível de dor na torácica em uma escala de 1 a 10  \n",
        "PAIN 3 - Nível de dor na lombar em uma escala de 1 a 10  \n",
        "PAIN 4 - Nível de dor em outras parte do corpo em uma escala de 1 a 10  \n",
        "MBTI - Myers Briggs Personality type  \n",
        "E - Extrovertism em uma escala de 1 a 26    \n",
        "I - Introvertism em uma escala de 1 a 26  \n",
        "S - Sensing em uma escala de 1 a 26  \n",
        "N - Intuition em uma escala de 1 a 26  \n",
        "T - Thinking em uma escala de 1 a 26  \n",
        "F - Feeling em uma escala de 1 a 26  \n",
        "J - Judging em uma escala de 1 a 26  \n",
        "P - Perceiving em uma escala de 1 a 26  \n",
        "POSTURE - ideal posture (A), kyphosis-lordosis (B), flat back (C), sway-back (D)\n"
      ]
    },
    {
      "cell_type": "markdown",
      "metadata": {
        "id": "7Gc-TVAbbLTC"
      },
      "source": [
        "## **1.0 Importando Bibliotecas e Dataset**"
      ]
    },
    {
      "cell_type": "code",
      "execution_count": 1174,
      "metadata": {
        "id": "WygUH08zY_j6"
      },
      "outputs": [],
      "source": [
        "import numpy as np\n",
        "import pandas as pd\n",
        "import matplotlib.pyplot as plt\n",
        "import seaborn as sns\n",
        "import plotly.express as px\n",
        "import warnings\n",
        "\n",
        "%matplotlib inline\n",
        "warnings.filterwarnings('ignore')"
      ]
    },
    {
      "cell_type": "code",
      "execution_count": 1175,
      "metadata": {
        "id": "JFTsQajvbZ-X"
      },
      "outputs": [],
      "source": [
        "posture_personality_df = pd.read_csv('Myers Briggs Table_S1.csv')"
      ]
    },
    {
      "cell_type": "markdown",
      "metadata": {
        "id": "0Ldzoxu_v8Yu"
      },
      "source": [
        "## **2.0 Limpeza/Tratamento dos dados**"
      ]
    },
    {
      "cell_type": "code",
      "execution_count": 1176,
      "metadata": {
        "colab": {
          "base_uri": "https://localhost:8080/",
          "height": 485
        },
        "id": "XtJEvNOIujYp",
        "outputId": "9c993368-0b07-4806-eaac-674ee1b49820"
      },
      "outputs": [
        {
          "output_type": "execute_result",
          "data": {
            "text/plain": [
              "    S No  AGE  HEIGHT  WEIGHT     SEX ACTIVITY LEVEL  PAIN 1  PAIN 2  PAIN 3  \\\n",
              "0      1   53      62     125  Female            Low     0.0     0.0     0.0   \n",
              "1      2   52      69     157    Male           High     7.0     8.0     5.0   \n",
              "2      3   30      69     200    Male           High     0.0     0.0     0.0   \n",
              "3      4   51      66     175    Male       Moderate     9.5     9.5     9.5   \n",
              "4      5   45      63     199  Female       Moderate     4.0     5.0     2.0   \n",
              "..   ...  ...     ...     ...     ...            ...     ...     ...     ...   \n",
              "92    93   16      58     100    Male       Moderate     0.0     0.0     0.0   \n",
              "93    94   45      62     134  Female       Moderate     0.0     4.0     0.0   \n",
              "94    95   43      69     188    Male       Moderate     2.0     0.0     0.0   \n",
              "95    96   28      67     180  Female            Low     0.0     0.0     0.0   \n",
              "96    97   43      69     188    Male       Moderate     4.0     0.0     0.0   \n",
              "\n",
              "    PAIN 4  MBTI   E   I   S   N   T   F   J   P POSTURE  \n",
              "0      0.0  ESFJ  18   3  17   9   9  13  18   4       A  \n",
              "1      3.0  ISTJ   6  15  14  12  21   3  13   9       B  \n",
              "2      0.0  ESTJ  15   6  16  10  15   9  12  10       A  \n",
              "3      1.5  ISTJ   6  15  21   5  13  11  19   3       D  \n",
              "4      2.0  ENFJ  14   7  20   6   9  15  16   6       A  \n",
              "..     ...   ...  ..  ..  ..  ..  ..  ..  ..  ..     ...  \n",
              "92     3.0  ESTP  19   2  22   4  19   5   2  20       B  \n",
              "93     0.0  ESFJ  11  10  17   9   6  18  13   9       B  \n",
              "94     0.0  ENFP  12   9   9  17   6  18   2  20       A  \n",
              "95     0.0  ESFJ  11  10  22  14   8  16  14   8       B  \n",
              "96     0.0  ENFP  12   9   9  17   6  18   2  20       A  \n",
              "\n",
              "[97 rows x 20 columns]"
            ],
            "text/html": [
              "\n",
              "  <div id=\"df-d1f45600-d47b-498f-9280-abbbc10fb9dc\">\n",
              "    <div class=\"colab-df-container\">\n",
              "      <div>\n",
              "<style scoped>\n",
              "    .dataframe tbody tr th:only-of-type {\n",
              "        vertical-align: middle;\n",
              "    }\n",
              "\n",
              "    .dataframe tbody tr th {\n",
              "        vertical-align: top;\n",
              "    }\n",
              "\n",
              "    .dataframe thead th {\n",
              "        text-align: right;\n",
              "    }\n",
              "</style>\n",
              "<table border=\"1\" class=\"dataframe\">\n",
              "  <thead>\n",
              "    <tr style=\"text-align: right;\">\n",
              "      <th></th>\n",
              "      <th>S No</th>\n",
              "      <th>AGE</th>\n",
              "      <th>HEIGHT</th>\n",
              "      <th>WEIGHT</th>\n",
              "      <th>SEX</th>\n",
              "      <th>ACTIVITY LEVEL</th>\n",
              "      <th>PAIN 1</th>\n",
              "      <th>PAIN 2</th>\n",
              "      <th>PAIN 3</th>\n",
              "      <th>PAIN 4</th>\n",
              "      <th>MBTI</th>\n",
              "      <th>E</th>\n",
              "      <th>I</th>\n",
              "      <th>S</th>\n",
              "      <th>N</th>\n",
              "      <th>T</th>\n",
              "      <th>F</th>\n",
              "      <th>J</th>\n",
              "      <th>P</th>\n",
              "      <th>POSTURE</th>\n",
              "    </tr>\n",
              "  </thead>\n",
              "  <tbody>\n",
              "    <tr>\n",
              "      <th>0</th>\n",
              "      <td>1</td>\n",
              "      <td>53</td>\n",
              "      <td>62</td>\n",
              "      <td>125</td>\n",
              "      <td>Female</td>\n",
              "      <td>Low</td>\n",
              "      <td>0.0</td>\n",
              "      <td>0.0</td>\n",
              "      <td>0.0</td>\n",
              "      <td>0.0</td>\n",
              "      <td>ESFJ</td>\n",
              "      <td>18</td>\n",
              "      <td>3</td>\n",
              "      <td>17</td>\n",
              "      <td>9</td>\n",
              "      <td>9</td>\n",
              "      <td>13</td>\n",
              "      <td>18</td>\n",
              "      <td>4</td>\n",
              "      <td>A</td>\n",
              "    </tr>\n",
              "    <tr>\n",
              "      <th>1</th>\n",
              "      <td>2</td>\n",
              "      <td>52</td>\n",
              "      <td>69</td>\n",
              "      <td>157</td>\n",
              "      <td>Male</td>\n",
              "      <td>High</td>\n",
              "      <td>7.0</td>\n",
              "      <td>8.0</td>\n",
              "      <td>5.0</td>\n",
              "      <td>3.0</td>\n",
              "      <td>ISTJ</td>\n",
              "      <td>6</td>\n",
              "      <td>15</td>\n",
              "      <td>14</td>\n",
              "      <td>12</td>\n",
              "      <td>21</td>\n",
              "      <td>3</td>\n",
              "      <td>13</td>\n",
              "      <td>9</td>\n",
              "      <td>B</td>\n",
              "    </tr>\n",
              "    <tr>\n",
              "      <th>2</th>\n",
              "      <td>3</td>\n",
              "      <td>30</td>\n",
              "      <td>69</td>\n",
              "      <td>200</td>\n",
              "      <td>Male</td>\n",
              "      <td>High</td>\n",
              "      <td>0.0</td>\n",
              "      <td>0.0</td>\n",
              "      <td>0.0</td>\n",
              "      <td>0.0</td>\n",
              "      <td>ESTJ</td>\n",
              "      <td>15</td>\n",
              "      <td>6</td>\n",
              "      <td>16</td>\n",
              "      <td>10</td>\n",
              "      <td>15</td>\n",
              "      <td>9</td>\n",
              "      <td>12</td>\n",
              "      <td>10</td>\n",
              "      <td>A</td>\n",
              "    </tr>\n",
              "    <tr>\n",
              "      <th>3</th>\n",
              "      <td>4</td>\n",
              "      <td>51</td>\n",
              "      <td>66</td>\n",
              "      <td>175</td>\n",
              "      <td>Male</td>\n",
              "      <td>Moderate</td>\n",
              "      <td>9.5</td>\n",
              "      <td>9.5</td>\n",
              "      <td>9.5</td>\n",
              "      <td>1.5</td>\n",
              "      <td>ISTJ</td>\n",
              "      <td>6</td>\n",
              "      <td>15</td>\n",
              "      <td>21</td>\n",
              "      <td>5</td>\n",
              "      <td>13</td>\n",
              "      <td>11</td>\n",
              "      <td>19</td>\n",
              "      <td>3</td>\n",
              "      <td>D</td>\n",
              "    </tr>\n",
              "    <tr>\n",
              "      <th>4</th>\n",
              "      <td>5</td>\n",
              "      <td>45</td>\n",
              "      <td>63</td>\n",
              "      <td>199</td>\n",
              "      <td>Female</td>\n",
              "      <td>Moderate</td>\n",
              "      <td>4.0</td>\n",
              "      <td>5.0</td>\n",
              "      <td>2.0</td>\n",
              "      <td>2.0</td>\n",
              "      <td>ENFJ</td>\n",
              "      <td>14</td>\n",
              "      <td>7</td>\n",
              "      <td>20</td>\n",
              "      <td>6</td>\n",
              "      <td>9</td>\n",
              "      <td>15</td>\n",
              "      <td>16</td>\n",
              "      <td>6</td>\n",
              "      <td>A</td>\n",
              "    </tr>\n",
              "    <tr>\n",
              "      <th>...</th>\n",
              "      <td>...</td>\n",
              "      <td>...</td>\n",
              "      <td>...</td>\n",
              "      <td>...</td>\n",
              "      <td>...</td>\n",
              "      <td>...</td>\n",
              "      <td>...</td>\n",
              "      <td>...</td>\n",
              "      <td>...</td>\n",
              "      <td>...</td>\n",
              "      <td>...</td>\n",
              "      <td>...</td>\n",
              "      <td>...</td>\n",
              "      <td>...</td>\n",
              "      <td>...</td>\n",
              "      <td>...</td>\n",
              "      <td>...</td>\n",
              "      <td>...</td>\n",
              "      <td>...</td>\n",
              "      <td>...</td>\n",
              "    </tr>\n",
              "    <tr>\n",
              "      <th>92</th>\n",
              "      <td>93</td>\n",
              "      <td>16</td>\n",
              "      <td>58</td>\n",
              "      <td>100</td>\n",
              "      <td>Male</td>\n",
              "      <td>Moderate</td>\n",
              "      <td>0.0</td>\n",
              "      <td>0.0</td>\n",
              "      <td>0.0</td>\n",
              "      <td>3.0</td>\n",
              "      <td>ESTP</td>\n",
              "      <td>19</td>\n",
              "      <td>2</td>\n",
              "      <td>22</td>\n",
              "      <td>4</td>\n",
              "      <td>19</td>\n",
              "      <td>5</td>\n",
              "      <td>2</td>\n",
              "      <td>20</td>\n",
              "      <td>B</td>\n",
              "    </tr>\n",
              "    <tr>\n",
              "      <th>93</th>\n",
              "      <td>94</td>\n",
              "      <td>45</td>\n",
              "      <td>62</td>\n",
              "      <td>134</td>\n",
              "      <td>Female</td>\n",
              "      <td>Moderate</td>\n",
              "      <td>0.0</td>\n",
              "      <td>4.0</td>\n",
              "      <td>0.0</td>\n",
              "      <td>0.0</td>\n",
              "      <td>ESFJ</td>\n",
              "      <td>11</td>\n",
              "      <td>10</td>\n",
              "      <td>17</td>\n",
              "      <td>9</td>\n",
              "      <td>6</td>\n",
              "      <td>18</td>\n",
              "      <td>13</td>\n",
              "      <td>9</td>\n",
              "      <td>B</td>\n",
              "    </tr>\n",
              "    <tr>\n",
              "      <th>94</th>\n",
              "      <td>95</td>\n",
              "      <td>43</td>\n",
              "      <td>69</td>\n",
              "      <td>188</td>\n",
              "      <td>Male</td>\n",
              "      <td>Moderate</td>\n",
              "      <td>2.0</td>\n",
              "      <td>0.0</td>\n",
              "      <td>0.0</td>\n",
              "      <td>0.0</td>\n",
              "      <td>ENFP</td>\n",
              "      <td>12</td>\n",
              "      <td>9</td>\n",
              "      <td>9</td>\n",
              "      <td>17</td>\n",
              "      <td>6</td>\n",
              "      <td>18</td>\n",
              "      <td>2</td>\n",
              "      <td>20</td>\n",
              "      <td>A</td>\n",
              "    </tr>\n",
              "    <tr>\n",
              "      <th>95</th>\n",
              "      <td>96</td>\n",
              "      <td>28</td>\n",
              "      <td>67</td>\n",
              "      <td>180</td>\n",
              "      <td>Female</td>\n",
              "      <td>Low</td>\n",
              "      <td>0.0</td>\n",
              "      <td>0.0</td>\n",
              "      <td>0.0</td>\n",
              "      <td>0.0</td>\n",
              "      <td>ESFJ</td>\n",
              "      <td>11</td>\n",
              "      <td>10</td>\n",
              "      <td>22</td>\n",
              "      <td>14</td>\n",
              "      <td>8</td>\n",
              "      <td>16</td>\n",
              "      <td>14</td>\n",
              "      <td>8</td>\n",
              "      <td>B</td>\n",
              "    </tr>\n",
              "    <tr>\n",
              "      <th>96</th>\n",
              "      <td>97</td>\n",
              "      <td>43</td>\n",
              "      <td>69</td>\n",
              "      <td>188</td>\n",
              "      <td>Male</td>\n",
              "      <td>Moderate</td>\n",
              "      <td>4.0</td>\n",
              "      <td>0.0</td>\n",
              "      <td>0.0</td>\n",
              "      <td>0.0</td>\n",
              "      <td>ENFP</td>\n",
              "      <td>12</td>\n",
              "      <td>9</td>\n",
              "      <td>9</td>\n",
              "      <td>17</td>\n",
              "      <td>6</td>\n",
              "      <td>18</td>\n",
              "      <td>2</td>\n",
              "      <td>20</td>\n",
              "      <td>A</td>\n",
              "    </tr>\n",
              "  </tbody>\n",
              "</table>\n",
              "<p>97 rows × 20 columns</p>\n",
              "</div>\n",
              "      <button class=\"colab-df-convert\" onclick=\"convertToInteractive('df-d1f45600-d47b-498f-9280-abbbc10fb9dc')\"\n",
              "              title=\"Convert this dataframe to an interactive table.\"\n",
              "              style=\"display:none;\">\n",
              "        \n",
              "  <svg xmlns=\"http://www.w3.org/2000/svg\" height=\"24px\"viewBox=\"0 0 24 24\"\n",
              "       width=\"24px\">\n",
              "    <path d=\"M0 0h24v24H0V0z\" fill=\"none\"/>\n",
              "    <path d=\"M18.56 5.44l.94 2.06.94-2.06 2.06-.94-2.06-.94-.94-2.06-.94 2.06-2.06.94zm-11 1L8.5 8.5l.94-2.06 2.06-.94-2.06-.94L8.5 2.5l-.94 2.06-2.06.94zm10 10l.94 2.06.94-2.06 2.06-.94-2.06-.94-.94-2.06-.94 2.06-2.06.94z\"/><path d=\"M17.41 7.96l-1.37-1.37c-.4-.4-.92-.59-1.43-.59-.52 0-1.04.2-1.43.59L10.3 9.45l-7.72 7.72c-.78.78-.78 2.05 0 2.83L4 21.41c.39.39.9.59 1.41.59.51 0 1.02-.2 1.41-.59l7.78-7.78 2.81-2.81c.8-.78.8-2.07 0-2.86zM5.41 20L4 18.59l7.72-7.72 1.47 1.35L5.41 20z\"/>\n",
              "  </svg>\n",
              "      </button>\n",
              "      \n",
              "  <style>\n",
              "    .colab-df-container {\n",
              "      display:flex;\n",
              "      flex-wrap:wrap;\n",
              "      gap: 12px;\n",
              "    }\n",
              "\n",
              "    .colab-df-convert {\n",
              "      background-color: #E8F0FE;\n",
              "      border: none;\n",
              "      border-radius: 50%;\n",
              "      cursor: pointer;\n",
              "      display: none;\n",
              "      fill: #1967D2;\n",
              "      height: 32px;\n",
              "      padding: 0 0 0 0;\n",
              "      width: 32px;\n",
              "    }\n",
              "\n",
              "    .colab-df-convert:hover {\n",
              "      background-color: #E2EBFA;\n",
              "      box-shadow: 0px 1px 2px rgba(60, 64, 67, 0.3), 0px 1px 3px 1px rgba(60, 64, 67, 0.15);\n",
              "      fill: #174EA6;\n",
              "    }\n",
              "\n",
              "    [theme=dark] .colab-df-convert {\n",
              "      background-color: #3B4455;\n",
              "      fill: #D2E3FC;\n",
              "    }\n",
              "\n",
              "    [theme=dark] .colab-df-convert:hover {\n",
              "      background-color: #434B5C;\n",
              "      box-shadow: 0px 1px 3px 1px rgba(0, 0, 0, 0.15);\n",
              "      filter: drop-shadow(0px 1px 2px rgba(0, 0, 0, 0.3));\n",
              "      fill: #FFFFFF;\n",
              "    }\n",
              "  </style>\n",
              "\n",
              "      <script>\n",
              "        const buttonEl =\n",
              "          document.querySelector('#df-d1f45600-d47b-498f-9280-abbbc10fb9dc button.colab-df-convert');\n",
              "        buttonEl.style.display =\n",
              "          google.colab.kernel.accessAllowed ? 'block' : 'none';\n",
              "\n",
              "        async function convertToInteractive(key) {\n",
              "          const element = document.querySelector('#df-d1f45600-d47b-498f-9280-abbbc10fb9dc');\n",
              "          const dataTable =\n",
              "            await google.colab.kernel.invokeFunction('convertToInteractive',\n",
              "                                                     [key], {});\n",
              "          if (!dataTable) return;\n",
              "\n",
              "          const docLinkHtml = 'Like what you see? Visit the ' +\n",
              "            '<a target=\"_blank\" href=https://colab.research.google.com/notebooks/data_table.ipynb>data table notebook</a>'\n",
              "            + ' to learn more about interactive tables.';\n",
              "          element.innerHTML = '';\n",
              "          dataTable['output_type'] = 'display_data';\n",
              "          await google.colab.output.renderOutput(dataTable, element);\n",
              "          const docLink = document.createElement('div');\n",
              "          docLink.innerHTML = docLinkHtml;\n",
              "          element.appendChild(docLink);\n",
              "        }\n",
              "      </script>\n",
              "    </div>\n",
              "  </div>\n",
              "  "
            ]
          },
          "metadata": {},
          "execution_count": 1176
        }
      ],
      "source": [
        "posture_personality_df"
      ]
    },
    {
      "cell_type": "code",
      "execution_count": 1177,
      "metadata": {
        "id": "stED9Y0LzrEB"
      },
      "outputs": [],
      "source": [
        "# Delete coluna S No (Serial Number) pois usaremos o index do pandas como referencia.\n",
        "posture_personality_df.drop('S No', axis=1, inplace=True)"
      ]
    },
    {
      "cell_type": "code",
      "execution_count": 1178,
      "metadata": {
        "id": "AAbNdhDx_i1W"
      },
      "outputs": [],
      "source": [
        "# Renomeando algumas colunas para melhor manipulação dos dados\n",
        "posture_personality_df.rename(columns={\n",
        "    'PAIN 1': 'NECK PAIN',\n",
        "    'PAIN 2': 'THORACIC PAIN',\n",
        "    'PAIN 3': 'LUMBAR PAIN',\n",
        "    'PAIN 4': 'OTHER PARTS PAIN',\n",
        "    'E': 'EXTROVERTISM',\n",
        "    'I': 'INTROVERTISM',\n",
        "    'S': 'SENSING',\n",
        "    'N': 'INTUITION',\n",
        "    'T': 'THINKING',\n",
        "    'F': 'FEELING',\n",
        "    'J': 'JUDGING',\n",
        "    'P': 'PERCEIVING',\n",
        "  }, inplace=True)"
      ]
    },
    {
      "cell_type": "code",
      "execution_count": 1179,
      "metadata": {
        "colab": {
          "base_uri": "https://localhost:8080/",
          "height": 522
        },
        "id": "ekfgTY8jfcCP",
        "outputId": "7e1b4500-03f3-4cb7-d9cb-e1b8b91f59ae"
      },
      "outputs": [
        {
          "output_type": "execute_result",
          "data": {
            "text/plain": [
              "    AGE  HEIGHT  WEIGHT     SEX ACTIVITY LEVEL  NECK PAIN  THORACIC PAIN  \\\n",
              "0    53      62     125  Female            Low        0.0            0.0   \n",
              "1    52      69     157    Male           High        7.0            8.0   \n",
              "2    30      69     200    Male           High        0.0            0.0   \n",
              "3    51      66     175    Male       Moderate        9.5            9.5   \n",
              "4    45      63     199  Female       Moderate        4.0            5.0   \n",
              "..  ...     ...     ...     ...            ...        ...            ...   \n",
              "92   16      58     100    Male       Moderate        0.0            0.0   \n",
              "93   45      62     134  Female       Moderate        0.0            4.0   \n",
              "94   43      69     188    Male       Moderate        2.0            0.0   \n",
              "95   28      67     180  Female            Low        0.0            0.0   \n",
              "96   43      69     188    Male       Moderate        4.0            0.0   \n",
              "\n",
              "    LUMBAR PAIN  OTHER PARTS PAIN  MBTI  EXTROVERTISM  INTROVERTISM  SENSING  \\\n",
              "0           0.0               0.0  ESFJ            18             3       17   \n",
              "1           5.0               3.0  ISTJ             6            15       14   \n",
              "2           0.0               0.0  ESTJ            15             6       16   \n",
              "3           9.5               1.5  ISTJ             6            15       21   \n",
              "4           2.0               2.0  ENFJ            14             7       20   \n",
              "..          ...               ...   ...           ...           ...      ...   \n",
              "92          0.0               3.0  ESTP            19             2       22   \n",
              "93          0.0               0.0  ESFJ            11            10       17   \n",
              "94          0.0               0.0  ENFP            12             9        9   \n",
              "95          0.0               0.0  ESFJ            11            10       22   \n",
              "96          0.0               0.0  ENFP            12             9        9   \n",
              "\n",
              "    INTUITION  THINKING  FEELING  JUDGING  PERCEIVING POSTURE  \n",
              "0           9         9       13       18           4       A  \n",
              "1          12        21        3       13           9       B  \n",
              "2          10        15        9       12          10       A  \n",
              "3           5        13       11       19           3       D  \n",
              "4           6         9       15       16           6       A  \n",
              "..        ...       ...      ...      ...         ...     ...  \n",
              "92          4        19        5        2          20       B  \n",
              "93          9         6       18       13           9       B  \n",
              "94         17         6       18        2          20       A  \n",
              "95         14         8       16       14           8       B  \n",
              "96         17         6       18        2          20       A  \n",
              "\n",
              "[97 rows x 19 columns]"
            ],
            "text/html": [
              "\n",
              "  <div id=\"df-737c8d02-e907-4612-8039-59b3d6df3cd0\">\n",
              "    <div class=\"colab-df-container\">\n",
              "      <div>\n",
              "<style scoped>\n",
              "    .dataframe tbody tr th:only-of-type {\n",
              "        vertical-align: middle;\n",
              "    }\n",
              "\n",
              "    .dataframe tbody tr th {\n",
              "        vertical-align: top;\n",
              "    }\n",
              "\n",
              "    .dataframe thead th {\n",
              "        text-align: right;\n",
              "    }\n",
              "</style>\n",
              "<table border=\"1\" class=\"dataframe\">\n",
              "  <thead>\n",
              "    <tr style=\"text-align: right;\">\n",
              "      <th></th>\n",
              "      <th>AGE</th>\n",
              "      <th>HEIGHT</th>\n",
              "      <th>WEIGHT</th>\n",
              "      <th>SEX</th>\n",
              "      <th>ACTIVITY LEVEL</th>\n",
              "      <th>NECK PAIN</th>\n",
              "      <th>THORACIC PAIN</th>\n",
              "      <th>LUMBAR PAIN</th>\n",
              "      <th>OTHER PARTS PAIN</th>\n",
              "      <th>MBTI</th>\n",
              "      <th>EXTROVERTISM</th>\n",
              "      <th>INTROVERTISM</th>\n",
              "      <th>SENSING</th>\n",
              "      <th>INTUITION</th>\n",
              "      <th>THINKING</th>\n",
              "      <th>FEELING</th>\n",
              "      <th>JUDGING</th>\n",
              "      <th>PERCEIVING</th>\n",
              "      <th>POSTURE</th>\n",
              "    </tr>\n",
              "  </thead>\n",
              "  <tbody>\n",
              "    <tr>\n",
              "      <th>0</th>\n",
              "      <td>53</td>\n",
              "      <td>62</td>\n",
              "      <td>125</td>\n",
              "      <td>Female</td>\n",
              "      <td>Low</td>\n",
              "      <td>0.0</td>\n",
              "      <td>0.0</td>\n",
              "      <td>0.0</td>\n",
              "      <td>0.0</td>\n",
              "      <td>ESFJ</td>\n",
              "      <td>18</td>\n",
              "      <td>3</td>\n",
              "      <td>17</td>\n",
              "      <td>9</td>\n",
              "      <td>9</td>\n",
              "      <td>13</td>\n",
              "      <td>18</td>\n",
              "      <td>4</td>\n",
              "      <td>A</td>\n",
              "    </tr>\n",
              "    <tr>\n",
              "      <th>1</th>\n",
              "      <td>52</td>\n",
              "      <td>69</td>\n",
              "      <td>157</td>\n",
              "      <td>Male</td>\n",
              "      <td>High</td>\n",
              "      <td>7.0</td>\n",
              "      <td>8.0</td>\n",
              "      <td>5.0</td>\n",
              "      <td>3.0</td>\n",
              "      <td>ISTJ</td>\n",
              "      <td>6</td>\n",
              "      <td>15</td>\n",
              "      <td>14</td>\n",
              "      <td>12</td>\n",
              "      <td>21</td>\n",
              "      <td>3</td>\n",
              "      <td>13</td>\n",
              "      <td>9</td>\n",
              "      <td>B</td>\n",
              "    </tr>\n",
              "    <tr>\n",
              "      <th>2</th>\n",
              "      <td>30</td>\n",
              "      <td>69</td>\n",
              "      <td>200</td>\n",
              "      <td>Male</td>\n",
              "      <td>High</td>\n",
              "      <td>0.0</td>\n",
              "      <td>0.0</td>\n",
              "      <td>0.0</td>\n",
              "      <td>0.0</td>\n",
              "      <td>ESTJ</td>\n",
              "      <td>15</td>\n",
              "      <td>6</td>\n",
              "      <td>16</td>\n",
              "      <td>10</td>\n",
              "      <td>15</td>\n",
              "      <td>9</td>\n",
              "      <td>12</td>\n",
              "      <td>10</td>\n",
              "      <td>A</td>\n",
              "    </tr>\n",
              "    <tr>\n",
              "      <th>3</th>\n",
              "      <td>51</td>\n",
              "      <td>66</td>\n",
              "      <td>175</td>\n",
              "      <td>Male</td>\n",
              "      <td>Moderate</td>\n",
              "      <td>9.5</td>\n",
              "      <td>9.5</td>\n",
              "      <td>9.5</td>\n",
              "      <td>1.5</td>\n",
              "      <td>ISTJ</td>\n",
              "      <td>6</td>\n",
              "      <td>15</td>\n",
              "      <td>21</td>\n",
              "      <td>5</td>\n",
              "      <td>13</td>\n",
              "      <td>11</td>\n",
              "      <td>19</td>\n",
              "      <td>3</td>\n",
              "      <td>D</td>\n",
              "    </tr>\n",
              "    <tr>\n",
              "      <th>4</th>\n",
              "      <td>45</td>\n",
              "      <td>63</td>\n",
              "      <td>199</td>\n",
              "      <td>Female</td>\n",
              "      <td>Moderate</td>\n",
              "      <td>4.0</td>\n",
              "      <td>5.0</td>\n",
              "      <td>2.0</td>\n",
              "      <td>2.0</td>\n",
              "      <td>ENFJ</td>\n",
              "      <td>14</td>\n",
              "      <td>7</td>\n",
              "      <td>20</td>\n",
              "      <td>6</td>\n",
              "      <td>9</td>\n",
              "      <td>15</td>\n",
              "      <td>16</td>\n",
              "      <td>6</td>\n",
              "      <td>A</td>\n",
              "    </tr>\n",
              "    <tr>\n",
              "      <th>...</th>\n",
              "      <td>...</td>\n",
              "      <td>...</td>\n",
              "      <td>...</td>\n",
              "      <td>...</td>\n",
              "      <td>...</td>\n",
              "      <td>...</td>\n",
              "      <td>...</td>\n",
              "      <td>...</td>\n",
              "      <td>...</td>\n",
              "      <td>...</td>\n",
              "      <td>...</td>\n",
              "      <td>...</td>\n",
              "      <td>...</td>\n",
              "      <td>...</td>\n",
              "      <td>...</td>\n",
              "      <td>...</td>\n",
              "      <td>...</td>\n",
              "      <td>...</td>\n",
              "      <td>...</td>\n",
              "    </tr>\n",
              "    <tr>\n",
              "      <th>92</th>\n",
              "      <td>16</td>\n",
              "      <td>58</td>\n",
              "      <td>100</td>\n",
              "      <td>Male</td>\n",
              "      <td>Moderate</td>\n",
              "      <td>0.0</td>\n",
              "      <td>0.0</td>\n",
              "      <td>0.0</td>\n",
              "      <td>3.0</td>\n",
              "      <td>ESTP</td>\n",
              "      <td>19</td>\n",
              "      <td>2</td>\n",
              "      <td>22</td>\n",
              "      <td>4</td>\n",
              "      <td>19</td>\n",
              "      <td>5</td>\n",
              "      <td>2</td>\n",
              "      <td>20</td>\n",
              "      <td>B</td>\n",
              "    </tr>\n",
              "    <tr>\n",
              "      <th>93</th>\n",
              "      <td>45</td>\n",
              "      <td>62</td>\n",
              "      <td>134</td>\n",
              "      <td>Female</td>\n",
              "      <td>Moderate</td>\n",
              "      <td>0.0</td>\n",
              "      <td>4.0</td>\n",
              "      <td>0.0</td>\n",
              "      <td>0.0</td>\n",
              "      <td>ESFJ</td>\n",
              "      <td>11</td>\n",
              "      <td>10</td>\n",
              "      <td>17</td>\n",
              "      <td>9</td>\n",
              "      <td>6</td>\n",
              "      <td>18</td>\n",
              "      <td>13</td>\n",
              "      <td>9</td>\n",
              "      <td>B</td>\n",
              "    </tr>\n",
              "    <tr>\n",
              "      <th>94</th>\n",
              "      <td>43</td>\n",
              "      <td>69</td>\n",
              "      <td>188</td>\n",
              "      <td>Male</td>\n",
              "      <td>Moderate</td>\n",
              "      <td>2.0</td>\n",
              "      <td>0.0</td>\n",
              "      <td>0.0</td>\n",
              "      <td>0.0</td>\n",
              "      <td>ENFP</td>\n",
              "      <td>12</td>\n",
              "      <td>9</td>\n",
              "      <td>9</td>\n",
              "      <td>17</td>\n",
              "      <td>6</td>\n",
              "      <td>18</td>\n",
              "      <td>2</td>\n",
              "      <td>20</td>\n",
              "      <td>A</td>\n",
              "    </tr>\n",
              "    <tr>\n",
              "      <th>95</th>\n",
              "      <td>28</td>\n",
              "      <td>67</td>\n",
              "      <td>180</td>\n",
              "      <td>Female</td>\n",
              "      <td>Low</td>\n",
              "      <td>0.0</td>\n",
              "      <td>0.0</td>\n",
              "      <td>0.0</td>\n",
              "      <td>0.0</td>\n",
              "      <td>ESFJ</td>\n",
              "      <td>11</td>\n",
              "      <td>10</td>\n",
              "      <td>22</td>\n",
              "      <td>14</td>\n",
              "      <td>8</td>\n",
              "      <td>16</td>\n",
              "      <td>14</td>\n",
              "      <td>8</td>\n",
              "      <td>B</td>\n",
              "    </tr>\n",
              "    <tr>\n",
              "      <th>96</th>\n",
              "      <td>43</td>\n",
              "      <td>69</td>\n",
              "      <td>188</td>\n",
              "      <td>Male</td>\n",
              "      <td>Moderate</td>\n",
              "      <td>4.0</td>\n",
              "      <td>0.0</td>\n",
              "      <td>0.0</td>\n",
              "      <td>0.0</td>\n",
              "      <td>ENFP</td>\n",
              "      <td>12</td>\n",
              "      <td>9</td>\n",
              "      <td>9</td>\n",
              "      <td>17</td>\n",
              "      <td>6</td>\n",
              "      <td>18</td>\n",
              "      <td>2</td>\n",
              "      <td>20</td>\n",
              "      <td>A</td>\n",
              "    </tr>\n",
              "  </tbody>\n",
              "</table>\n",
              "<p>97 rows × 19 columns</p>\n",
              "</div>\n",
              "      <button class=\"colab-df-convert\" onclick=\"convertToInteractive('df-737c8d02-e907-4612-8039-59b3d6df3cd0')\"\n",
              "              title=\"Convert this dataframe to an interactive table.\"\n",
              "              style=\"display:none;\">\n",
              "        \n",
              "  <svg xmlns=\"http://www.w3.org/2000/svg\" height=\"24px\"viewBox=\"0 0 24 24\"\n",
              "       width=\"24px\">\n",
              "    <path d=\"M0 0h24v24H0V0z\" fill=\"none\"/>\n",
              "    <path d=\"M18.56 5.44l.94 2.06.94-2.06 2.06-.94-2.06-.94-.94-2.06-.94 2.06-2.06.94zm-11 1L8.5 8.5l.94-2.06 2.06-.94-2.06-.94L8.5 2.5l-.94 2.06-2.06.94zm10 10l.94 2.06.94-2.06 2.06-.94-2.06-.94-.94-2.06-.94 2.06-2.06.94z\"/><path d=\"M17.41 7.96l-1.37-1.37c-.4-.4-.92-.59-1.43-.59-.52 0-1.04.2-1.43.59L10.3 9.45l-7.72 7.72c-.78.78-.78 2.05 0 2.83L4 21.41c.39.39.9.59 1.41.59.51 0 1.02-.2 1.41-.59l7.78-7.78 2.81-2.81c.8-.78.8-2.07 0-2.86zM5.41 20L4 18.59l7.72-7.72 1.47 1.35L5.41 20z\"/>\n",
              "  </svg>\n",
              "      </button>\n",
              "      \n",
              "  <style>\n",
              "    .colab-df-container {\n",
              "      display:flex;\n",
              "      flex-wrap:wrap;\n",
              "      gap: 12px;\n",
              "    }\n",
              "\n",
              "    .colab-df-convert {\n",
              "      background-color: #E8F0FE;\n",
              "      border: none;\n",
              "      border-radius: 50%;\n",
              "      cursor: pointer;\n",
              "      display: none;\n",
              "      fill: #1967D2;\n",
              "      height: 32px;\n",
              "      padding: 0 0 0 0;\n",
              "      width: 32px;\n",
              "    }\n",
              "\n",
              "    .colab-df-convert:hover {\n",
              "      background-color: #E2EBFA;\n",
              "      box-shadow: 0px 1px 2px rgba(60, 64, 67, 0.3), 0px 1px 3px 1px rgba(60, 64, 67, 0.15);\n",
              "      fill: #174EA6;\n",
              "    }\n",
              "\n",
              "    [theme=dark] .colab-df-convert {\n",
              "      background-color: #3B4455;\n",
              "      fill: #D2E3FC;\n",
              "    }\n",
              "\n",
              "    [theme=dark] .colab-df-convert:hover {\n",
              "      background-color: #434B5C;\n",
              "      box-shadow: 0px 1px 3px 1px rgba(0, 0, 0, 0.15);\n",
              "      filter: drop-shadow(0px 1px 2px rgba(0, 0, 0, 0.3));\n",
              "      fill: #FFFFFF;\n",
              "    }\n",
              "  </style>\n",
              "\n",
              "      <script>\n",
              "        const buttonEl =\n",
              "          document.querySelector('#df-737c8d02-e907-4612-8039-59b3d6df3cd0 button.colab-df-convert');\n",
              "        buttonEl.style.display =\n",
              "          google.colab.kernel.accessAllowed ? 'block' : 'none';\n",
              "\n",
              "        async function convertToInteractive(key) {\n",
              "          const element = document.querySelector('#df-737c8d02-e907-4612-8039-59b3d6df3cd0');\n",
              "          const dataTable =\n",
              "            await google.colab.kernel.invokeFunction('convertToInteractive',\n",
              "                                                     [key], {});\n",
              "          if (!dataTable) return;\n",
              "\n",
              "          const docLinkHtml = 'Like what you see? Visit the ' +\n",
              "            '<a target=\"_blank\" href=https://colab.research.google.com/notebooks/data_table.ipynb>data table notebook</a>'\n",
              "            + ' to learn more about interactive tables.';\n",
              "          element.innerHTML = '';\n",
              "          dataTable['output_type'] = 'display_data';\n",
              "          await google.colab.output.renderOutput(dataTable, element);\n",
              "          const docLink = document.createElement('div');\n",
              "          docLink.innerHTML = docLinkHtml;\n",
              "          element.appendChild(docLink);\n",
              "        }\n",
              "      </script>\n",
              "    </div>\n",
              "  </div>\n",
              "  "
            ]
          },
          "metadata": {},
          "execution_count": 1179
        }
      ],
      "source": [
        "posture_personality_df"
      ]
    },
    {
      "cell_type": "code",
      "execution_count": 1180,
      "metadata": {
        "colab": {
          "base_uri": "https://localhost:8080/"
        },
        "id": "Q57YCH4lzS7Q",
        "outputId": "0bc87ebc-3392-4aae-e7e1-29a150239fa6"
      },
      "outputs": [
        {
          "output_type": "execute_result",
          "data": {
            "text/plain": [
              "AGE                 0\n",
              "HEIGHT              0\n",
              "WEIGHT              0\n",
              "SEX                 0\n",
              "ACTIVITY LEVEL      0\n",
              "NECK PAIN           0\n",
              "THORACIC PAIN       0\n",
              "LUMBAR PAIN         0\n",
              "OTHER PARTS PAIN    0\n",
              "MBTI                0\n",
              "EXTROVERTISM        0\n",
              "INTROVERTISM        0\n",
              "SENSING             0\n",
              "INTUITION           0\n",
              "THINKING            0\n",
              "FEELING             0\n",
              "JUDGING             0\n",
              "PERCEIVING          0\n",
              "POSTURE             0\n",
              "dtype: int64"
            ]
          },
          "metadata": {},
          "execution_count": 1180
        }
      ],
      "source": [
        "# Conferindo valores nulos\n",
        "posture_personality_df.isnull().sum()"
      ]
    },
    {
      "cell_type": "code",
      "execution_count": 1181,
      "metadata": {
        "colab": {
          "base_uri": "https://localhost:8080/"
        },
        "id": "Fyf3PIHwzYQr",
        "outputId": "d2e6ed34-3482-48ca-f2e0-6ebb0ef5f51a"
      },
      "outputs": [
        {
          "output_type": "execute_result",
          "data": {
            "text/plain": [
              "1"
            ]
          },
          "metadata": {},
          "execution_count": 1181
        }
      ],
      "source": [
        "# Conferindo linhas duplicadas\n",
        "posture_personality_df.duplicated().sum()"
      ]
    },
    {
      "cell_type": "code",
      "execution_count": 1182,
      "metadata": {
        "id": "N-XYLYen0Kg8"
      },
      "outputs": [],
      "source": [
        "posture_personality_df.drop_duplicates(keep='first', inplace=True)"
      ]
    },
    {
      "cell_type": "markdown",
      "metadata": {
        "id": "yc0O9HWp5SRe"
      },
      "source": [
        "Nesta sessão iremos transformar váriaveis numéricas em categóricas"
      ]
    },
    {
      "cell_type": "code",
      "execution_count": 1183,
      "metadata": {
        "colab": {
          "base_uri": "https://localhost:8080/"
        },
        "id": "O61a8aGQampq",
        "outputId": "556e779b-9291-4923-e864-acfcddfecf52"
      },
      "outputs": [
        {
          "output_type": "execute_result",
          "data": {
            "text/plain": [
              "AGE                   int64\n",
              "HEIGHT                int64\n",
              "WEIGHT                int64\n",
              "SEX                  object\n",
              "ACTIVITY LEVEL       object\n",
              "NECK PAIN           float64\n",
              "THORACIC PAIN       float64\n",
              "LUMBAR PAIN         float64\n",
              "OTHER PARTS PAIN    float64\n",
              "MBTI                 object\n",
              "EXTROVERTISM          int64\n",
              "INTROVERTISM          int64\n",
              "SENSING               int64\n",
              "INTUITION             int64\n",
              "THINKING              int64\n",
              "FEELING               int64\n",
              "JUDGING               int64\n",
              "PERCEIVING            int64\n",
              "POSTURE              object\n",
              "dtype: object"
            ]
          },
          "metadata": {},
          "execution_count": 1183
        }
      ],
      "source": [
        "posture_personality_df.dtypes"
      ]
    },
    {
      "cell_type": "code",
      "execution_count": 1184,
      "metadata": {
        "id": "VoRceG1r6Nev"
      },
      "outputs": [],
      "source": [
        "def pain_transform(line):\n",
        "  if line < 2.5:\n",
        "    line = 'No Pain'\n",
        "  elif line < 5:\n",
        "    line = 'Low Pain'\n",
        "  elif line < 7.5:\n",
        "    line = 'Moderate Pain'\n",
        "  else:\n",
        "     line = 'High Pain'\n",
        "  return line"
      ]
    },
    {
      "cell_type": "code",
      "execution_count": 1185,
      "metadata": {
        "id": "jkXNUZNOz38o"
      },
      "outputs": [],
      "source": [
        "posture_personality_df['NECK PAIN'] = posture_personality_df['NECK PAIN'].apply( pain_transform )\n",
        "posture_personality_df['THORACIC PAIN'] = posture_personality_df['THORACIC PAIN'].apply( pain_transform )\n",
        "posture_personality_df['LUMBAR PAIN'] = posture_personality_df['LUMBAR PAIN'].apply( pain_transform )\n",
        "posture_personality_df['OTHER PARTS PAIN'] = posture_personality_df['OTHER PARTS PAIN'].apply(( pain_transform ))"
      ]
    },
    {
      "cell_type": "code",
      "execution_count": 1186,
      "metadata": {
        "id": "w_9n02oEz4b5"
      },
      "outputs": [],
      "source": [
        "def personality_transform(line):\n",
        "  if line < 6.5:\n",
        "    line = 'Low'\n",
        "  elif line < 13:\n",
        "    line = 'Moderate'\n",
        "  elif line < 19.5:\n",
        "    line = 'High'\n",
        "  else:\n",
        "     line = 'Extreme'\n",
        "  return line"
      ]
    },
    {
      "cell_type": "code",
      "execution_count": 1187,
      "metadata": {
        "id": "5g0SvZNa-au7"
      },
      "outputs": [],
      "source": [
        "posture_personality_df['EXTROVERTISM'] = posture_personality_df['EXTROVERTISM'].apply( personality_transform)\n",
        "posture_personality_df['INTROVERTISM'] = posture_personality_df['INTROVERTISM'].apply( personality_transform)\n",
        "posture_personality_df['INTUITION'] = posture_personality_df['INTUITION'].apply( personality_transform)\n",
        "posture_personality_df['SENSING'] = posture_personality_df['SENSING'].apply( personality_transform)\n",
        "posture_personality_df['THINKING'] = posture_personality_df['THINKING'].apply( personality_transform)\n",
        "posture_personality_df['FEELING'] = posture_personality_df['FEELING'].apply( personality_transform)\n",
        "posture_personality_df['JUDGING'] = posture_personality_df['JUDGING'].apply( personality_transform)\n",
        "posture_personality_df['PERCEIVING'] = posture_personality_df['PERCEIVING'].apply( personality_transform)"
      ]
    },
    {
      "cell_type": "code",
      "execution_count": 1188,
      "metadata": {
        "colab": {
          "base_uri": "https://localhost:8080/",
          "height": 592
        },
        "id": "GaTwZ31YZ5Lv",
        "outputId": "bddfb8f1-85cb-4cd7-84e6-8c760d6f52ea"
      },
      "outputs": [
        {
          "output_type": "execute_result",
          "data": {
            "text/plain": [
              "    AGE  HEIGHT  WEIGHT     SEX ACTIVITY LEVEL      NECK PAIN  THORACIC PAIN  \\\n",
              "0    53      62     125  Female            Low        No Pain        No Pain   \n",
              "1    52      69     157    Male           High  Moderate Pain      High Pain   \n",
              "2    30      69     200    Male           High        No Pain        No Pain   \n",
              "3    51      66     175    Male       Moderate      High Pain      High Pain   \n",
              "4    45      63     199  Female       Moderate       Low Pain  Moderate Pain   \n",
              "..  ...     ...     ...     ...            ...            ...            ...   \n",
              "91   16      69     130  Female       Moderate  Moderate Pain        No Pain   \n",
              "92   16      58     100    Male       Moderate        No Pain        No Pain   \n",
              "93   45      62     134  Female       Moderate        No Pain       Low Pain   \n",
              "94   43      69     188    Male       Moderate        No Pain        No Pain   \n",
              "96   43      69     188    Male       Moderate       Low Pain        No Pain   \n",
              "\n",
              "      LUMBAR PAIN OTHER PARTS PAIN  MBTI EXTROVERTISM INTROVERTISM   SENSING  \\\n",
              "0         No Pain          No Pain  ESFJ         High          Low      High   \n",
              "1   Moderate Pain         Low Pain  ISTJ          Low         High      High   \n",
              "2         No Pain          No Pain  ESTJ         High          Low      High   \n",
              "3       High Pain          No Pain  ISTJ          Low         High   Extreme   \n",
              "4         No Pain          No Pain  ENFJ         High     Moderate   Extreme   \n",
              "..            ...              ...   ...          ...          ...       ...   \n",
              "91  Moderate Pain    Moderate Pain  ENFJ         High          Low  Moderate   \n",
              "92        No Pain         Low Pain  ESTP         High          Low   Extreme   \n",
              "93        No Pain          No Pain  ESFJ     Moderate     Moderate      High   \n",
              "94        No Pain          No Pain  ENFP     Moderate     Moderate  Moderate   \n",
              "96        No Pain          No Pain  ENFP     Moderate     Moderate  Moderate   \n",
              "\n",
              "   INTUITION  THINKING   FEELING   JUDGING PERCEIVING POSTURE  \n",
              "0   Moderate  Moderate      High      High        Low       A  \n",
              "1   Moderate   Extreme       Low      High   Moderate       B  \n",
              "2   Moderate      High  Moderate  Moderate   Moderate       A  \n",
              "3        Low      High  Moderate      High        Low       D  \n",
              "4        Low  Moderate      High      High        Low       A  \n",
              "..       ...       ...       ...       ...        ...     ...  \n",
              "91      High       Low   Extreme  Moderate   Moderate       B  \n",
              "92       Low      High       Low       Low    Extreme       B  \n",
              "93  Moderate       Low      High      High   Moderate       B  \n",
              "94      High       Low      High       Low    Extreme       A  \n",
              "96      High       Low      High       Low    Extreme       A  \n",
              "\n",
              "[96 rows x 19 columns]"
            ],
            "text/html": [
              "\n",
              "  <div id=\"df-4c6ed99d-dc30-496c-beb7-1990884097ed\">\n",
              "    <div class=\"colab-df-container\">\n",
              "      <div>\n",
              "<style scoped>\n",
              "    .dataframe tbody tr th:only-of-type {\n",
              "        vertical-align: middle;\n",
              "    }\n",
              "\n",
              "    .dataframe tbody tr th {\n",
              "        vertical-align: top;\n",
              "    }\n",
              "\n",
              "    .dataframe thead th {\n",
              "        text-align: right;\n",
              "    }\n",
              "</style>\n",
              "<table border=\"1\" class=\"dataframe\">\n",
              "  <thead>\n",
              "    <tr style=\"text-align: right;\">\n",
              "      <th></th>\n",
              "      <th>AGE</th>\n",
              "      <th>HEIGHT</th>\n",
              "      <th>WEIGHT</th>\n",
              "      <th>SEX</th>\n",
              "      <th>ACTIVITY LEVEL</th>\n",
              "      <th>NECK PAIN</th>\n",
              "      <th>THORACIC PAIN</th>\n",
              "      <th>LUMBAR PAIN</th>\n",
              "      <th>OTHER PARTS PAIN</th>\n",
              "      <th>MBTI</th>\n",
              "      <th>EXTROVERTISM</th>\n",
              "      <th>INTROVERTISM</th>\n",
              "      <th>SENSING</th>\n",
              "      <th>INTUITION</th>\n",
              "      <th>THINKING</th>\n",
              "      <th>FEELING</th>\n",
              "      <th>JUDGING</th>\n",
              "      <th>PERCEIVING</th>\n",
              "      <th>POSTURE</th>\n",
              "    </tr>\n",
              "  </thead>\n",
              "  <tbody>\n",
              "    <tr>\n",
              "      <th>0</th>\n",
              "      <td>53</td>\n",
              "      <td>62</td>\n",
              "      <td>125</td>\n",
              "      <td>Female</td>\n",
              "      <td>Low</td>\n",
              "      <td>No Pain</td>\n",
              "      <td>No Pain</td>\n",
              "      <td>No Pain</td>\n",
              "      <td>No Pain</td>\n",
              "      <td>ESFJ</td>\n",
              "      <td>High</td>\n",
              "      <td>Low</td>\n",
              "      <td>High</td>\n",
              "      <td>Moderate</td>\n",
              "      <td>Moderate</td>\n",
              "      <td>High</td>\n",
              "      <td>High</td>\n",
              "      <td>Low</td>\n",
              "      <td>A</td>\n",
              "    </tr>\n",
              "    <tr>\n",
              "      <th>1</th>\n",
              "      <td>52</td>\n",
              "      <td>69</td>\n",
              "      <td>157</td>\n",
              "      <td>Male</td>\n",
              "      <td>High</td>\n",
              "      <td>Moderate Pain</td>\n",
              "      <td>High Pain</td>\n",
              "      <td>Moderate Pain</td>\n",
              "      <td>Low Pain</td>\n",
              "      <td>ISTJ</td>\n",
              "      <td>Low</td>\n",
              "      <td>High</td>\n",
              "      <td>High</td>\n",
              "      <td>Moderate</td>\n",
              "      <td>Extreme</td>\n",
              "      <td>Low</td>\n",
              "      <td>High</td>\n",
              "      <td>Moderate</td>\n",
              "      <td>B</td>\n",
              "    </tr>\n",
              "    <tr>\n",
              "      <th>2</th>\n",
              "      <td>30</td>\n",
              "      <td>69</td>\n",
              "      <td>200</td>\n",
              "      <td>Male</td>\n",
              "      <td>High</td>\n",
              "      <td>No Pain</td>\n",
              "      <td>No Pain</td>\n",
              "      <td>No Pain</td>\n",
              "      <td>No Pain</td>\n",
              "      <td>ESTJ</td>\n",
              "      <td>High</td>\n",
              "      <td>Low</td>\n",
              "      <td>High</td>\n",
              "      <td>Moderate</td>\n",
              "      <td>High</td>\n",
              "      <td>Moderate</td>\n",
              "      <td>Moderate</td>\n",
              "      <td>Moderate</td>\n",
              "      <td>A</td>\n",
              "    </tr>\n",
              "    <tr>\n",
              "      <th>3</th>\n",
              "      <td>51</td>\n",
              "      <td>66</td>\n",
              "      <td>175</td>\n",
              "      <td>Male</td>\n",
              "      <td>Moderate</td>\n",
              "      <td>High Pain</td>\n",
              "      <td>High Pain</td>\n",
              "      <td>High Pain</td>\n",
              "      <td>No Pain</td>\n",
              "      <td>ISTJ</td>\n",
              "      <td>Low</td>\n",
              "      <td>High</td>\n",
              "      <td>Extreme</td>\n",
              "      <td>Low</td>\n",
              "      <td>High</td>\n",
              "      <td>Moderate</td>\n",
              "      <td>High</td>\n",
              "      <td>Low</td>\n",
              "      <td>D</td>\n",
              "    </tr>\n",
              "    <tr>\n",
              "      <th>4</th>\n",
              "      <td>45</td>\n",
              "      <td>63</td>\n",
              "      <td>199</td>\n",
              "      <td>Female</td>\n",
              "      <td>Moderate</td>\n",
              "      <td>Low Pain</td>\n",
              "      <td>Moderate Pain</td>\n",
              "      <td>No Pain</td>\n",
              "      <td>No Pain</td>\n",
              "      <td>ENFJ</td>\n",
              "      <td>High</td>\n",
              "      <td>Moderate</td>\n",
              "      <td>Extreme</td>\n",
              "      <td>Low</td>\n",
              "      <td>Moderate</td>\n",
              "      <td>High</td>\n",
              "      <td>High</td>\n",
              "      <td>Low</td>\n",
              "      <td>A</td>\n",
              "    </tr>\n",
              "    <tr>\n",
              "      <th>...</th>\n",
              "      <td>...</td>\n",
              "      <td>...</td>\n",
              "      <td>...</td>\n",
              "      <td>...</td>\n",
              "      <td>...</td>\n",
              "      <td>...</td>\n",
              "      <td>...</td>\n",
              "      <td>...</td>\n",
              "      <td>...</td>\n",
              "      <td>...</td>\n",
              "      <td>...</td>\n",
              "      <td>...</td>\n",
              "      <td>...</td>\n",
              "      <td>...</td>\n",
              "      <td>...</td>\n",
              "      <td>...</td>\n",
              "      <td>...</td>\n",
              "      <td>...</td>\n",
              "      <td>...</td>\n",
              "    </tr>\n",
              "    <tr>\n",
              "      <th>91</th>\n",
              "      <td>16</td>\n",
              "      <td>69</td>\n",
              "      <td>130</td>\n",
              "      <td>Female</td>\n",
              "      <td>Moderate</td>\n",
              "      <td>Moderate Pain</td>\n",
              "      <td>No Pain</td>\n",
              "      <td>Moderate Pain</td>\n",
              "      <td>Moderate Pain</td>\n",
              "      <td>ENFJ</td>\n",
              "      <td>High</td>\n",
              "      <td>Low</td>\n",
              "      <td>Moderate</td>\n",
              "      <td>High</td>\n",
              "      <td>Low</td>\n",
              "      <td>Extreme</td>\n",
              "      <td>Moderate</td>\n",
              "      <td>Moderate</td>\n",
              "      <td>B</td>\n",
              "    </tr>\n",
              "    <tr>\n",
              "      <th>92</th>\n",
              "      <td>16</td>\n",
              "      <td>58</td>\n",
              "      <td>100</td>\n",
              "      <td>Male</td>\n",
              "      <td>Moderate</td>\n",
              "      <td>No Pain</td>\n",
              "      <td>No Pain</td>\n",
              "      <td>No Pain</td>\n",
              "      <td>Low Pain</td>\n",
              "      <td>ESTP</td>\n",
              "      <td>High</td>\n",
              "      <td>Low</td>\n",
              "      <td>Extreme</td>\n",
              "      <td>Low</td>\n",
              "      <td>High</td>\n",
              "      <td>Low</td>\n",
              "      <td>Low</td>\n",
              "      <td>Extreme</td>\n",
              "      <td>B</td>\n",
              "    </tr>\n",
              "    <tr>\n",
              "      <th>93</th>\n",
              "      <td>45</td>\n",
              "      <td>62</td>\n",
              "      <td>134</td>\n",
              "      <td>Female</td>\n",
              "      <td>Moderate</td>\n",
              "      <td>No Pain</td>\n",
              "      <td>Low Pain</td>\n",
              "      <td>No Pain</td>\n",
              "      <td>No Pain</td>\n",
              "      <td>ESFJ</td>\n",
              "      <td>Moderate</td>\n",
              "      <td>Moderate</td>\n",
              "      <td>High</td>\n",
              "      <td>Moderate</td>\n",
              "      <td>Low</td>\n",
              "      <td>High</td>\n",
              "      <td>High</td>\n",
              "      <td>Moderate</td>\n",
              "      <td>B</td>\n",
              "    </tr>\n",
              "    <tr>\n",
              "      <th>94</th>\n",
              "      <td>43</td>\n",
              "      <td>69</td>\n",
              "      <td>188</td>\n",
              "      <td>Male</td>\n",
              "      <td>Moderate</td>\n",
              "      <td>No Pain</td>\n",
              "      <td>No Pain</td>\n",
              "      <td>No Pain</td>\n",
              "      <td>No Pain</td>\n",
              "      <td>ENFP</td>\n",
              "      <td>Moderate</td>\n",
              "      <td>Moderate</td>\n",
              "      <td>Moderate</td>\n",
              "      <td>High</td>\n",
              "      <td>Low</td>\n",
              "      <td>High</td>\n",
              "      <td>Low</td>\n",
              "      <td>Extreme</td>\n",
              "      <td>A</td>\n",
              "    </tr>\n",
              "    <tr>\n",
              "      <th>96</th>\n",
              "      <td>43</td>\n",
              "      <td>69</td>\n",
              "      <td>188</td>\n",
              "      <td>Male</td>\n",
              "      <td>Moderate</td>\n",
              "      <td>Low Pain</td>\n",
              "      <td>No Pain</td>\n",
              "      <td>No Pain</td>\n",
              "      <td>No Pain</td>\n",
              "      <td>ENFP</td>\n",
              "      <td>Moderate</td>\n",
              "      <td>Moderate</td>\n",
              "      <td>Moderate</td>\n",
              "      <td>High</td>\n",
              "      <td>Low</td>\n",
              "      <td>High</td>\n",
              "      <td>Low</td>\n",
              "      <td>Extreme</td>\n",
              "      <td>A</td>\n",
              "    </tr>\n",
              "  </tbody>\n",
              "</table>\n",
              "<p>96 rows × 19 columns</p>\n",
              "</div>\n",
              "      <button class=\"colab-df-convert\" onclick=\"convertToInteractive('df-4c6ed99d-dc30-496c-beb7-1990884097ed')\"\n",
              "              title=\"Convert this dataframe to an interactive table.\"\n",
              "              style=\"display:none;\">\n",
              "        \n",
              "  <svg xmlns=\"http://www.w3.org/2000/svg\" height=\"24px\"viewBox=\"0 0 24 24\"\n",
              "       width=\"24px\">\n",
              "    <path d=\"M0 0h24v24H0V0z\" fill=\"none\"/>\n",
              "    <path d=\"M18.56 5.44l.94 2.06.94-2.06 2.06-.94-2.06-.94-.94-2.06-.94 2.06-2.06.94zm-11 1L8.5 8.5l.94-2.06 2.06-.94-2.06-.94L8.5 2.5l-.94 2.06-2.06.94zm10 10l.94 2.06.94-2.06 2.06-.94-2.06-.94-.94-2.06-.94 2.06-2.06.94z\"/><path d=\"M17.41 7.96l-1.37-1.37c-.4-.4-.92-.59-1.43-.59-.52 0-1.04.2-1.43.59L10.3 9.45l-7.72 7.72c-.78.78-.78 2.05 0 2.83L4 21.41c.39.39.9.59 1.41.59.51 0 1.02-.2 1.41-.59l7.78-7.78 2.81-2.81c.8-.78.8-2.07 0-2.86zM5.41 20L4 18.59l7.72-7.72 1.47 1.35L5.41 20z\"/>\n",
              "  </svg>\n",
              "      </button>\n",
              "      \n",
              "  <style>\n",
              "    .colab-df-container {\n",
              "      display:flex;\n",
              "      flex-wrap:wrap;\n",
              "      gap: 12px;\n",
              "    }\n",
              "\n",
              "    .colab-df-convert {\n",
              "      background-color: #E8F0FE;\n",
              "      border: none;\n",
              "      border-radius: 50%;\n",
              "      cursor: pointer;\n",
              "      display: none;\n",
              "      fill: #1967D2;\n",
              "      height: 32px;\n",
              "      padding: 0 0 0 0;\n",
              "      width: 32px;\n",
              "    }\n",
              "\n",
              "    .colab-df-convert:hover {\n",
              "      background-color: #E2EBFA;\n",
              "      box-shadow: 0px 1px 2px rgba(60, 64, 67, 0.3), 0px 1px 3px 1px rgba(60, 64, 67, 0.15);\n",
              "      fill: #174EA6;\n",
              "    }\n",
              "\n",
              "    [theme=dark] .colab-df-convert {\n",
              "      background-color: #3B4455;\n",
              "      fill: #D2E3FC;\n",
              "    }\n",
              "\n",
              "    [theme=dark] .colab-df-convert:hover {\n",
              "      background-color: #434B5C;\n",
              "      box-shadow: 0px 1px 3px 1px rgba(0, 0, 0, 0.15);\n",
              "      filter: drop-shadow(0px 1px 2px rgba(0, 0, 0, 0.3));\n",
              "      fill: #FFFFFF;\n",
              "    }\n",
              "  </style>\n",
              "\n",
              "      <script>\n",
              "        const buttonEl =\n",
              "          document.querySelector('#df-4c6ed99d-dc30-496c-beb7-1990884097ed button.colab-df-convert');\n",
              "        buttonEl.style.display =\n",
              "          google.colab.kernel.accessAllowed ? 'block' : 'none';\n",
              "\n",
              "        async function convertToInteractive(key) {\n",
              "          const element = document.querySelector('#df-4c6ed99d-dc30-496c-beb7-1990884097ed');\n",
              "          const dataTable =\n",
              "            await google.colab.kernel.invokeFunction('convertToInteractive',\n",
              "                                                     [key], {});\n",
              "          if (!dataTable) return;\n",
              "\n",
              "          const docLinkHtml = 'Like what you see? Visit the ' +\n",
              "            '<a target=\"_blank\" href=https://colab.research.google.com/notebooks/data_table.ipynb>data table notebook</a>'\n",
              "            + ' to learn more about interactive tables.';\n",
              "          element.innerHTML = '';\n",
              "          dataTable['output_type'] = 'display_data';\n",
              "          await google.colab.output.renderOutput(dataTable, element);\n",
              "          const docLink = document.createElement('div');\n",
              "          docLink.innerHTML = docLinkHtml;\n",
              "          element.appendChild(docLink);\n",
              "        }\n",
              "      </script>\n",
              "    </div>\n",
              "  </div>\n",
              "  "
            ]
          },
          "metadata": {},
          "execution_count": 1188
        }
      ],
      "source": [
        "posture_personality_df"
      ]
    },
    {
      "cell_type": "markdown",
      "metadata": {
        "id": "7jgd5JrqZM18"
      },
      "source": [
        "## **3.0 Análise Exploratória (EDA)**"
      ]
    },
    {
      "cell_type": "markdown",
      "metadata": {
        "id": "1CxmYcSNiECl"
      },
      "source": [
        "Iremos fazer uma série de gráficos de categorias paralélas para observar se existe correlação entre traço de personalidade e postura"
      ]
    },
    {
      "cell_type": "code",
      "execution_count": 1189,
      "metadata": {
        "colab": {
          "base_uri": "https://localhost:8080/",
          "height": 542
        },
        "id": "YVZt0DQVZN2f",
        "outputId": "b4b25206-cc77-4145-e727-88f8ce15177d"
      },
      "outputs": [
        {
          "output_type": "display_data",
          "data": {
            "text/html": [
              "<html>\n",
              "<head><meta charset=\"utf-8\" /></head>\n",
              "<body>\n",
              "    <div>            <script src=\"https://cdnjs.cloudflare.com/ajax/libs/mathjax/2.7.5/MathJax.js?config=TeX-AMS-MML_SVG\"></script><script type=\"text/javascript\">if (window.MathJax) {MathJax.Hub.Config({SVG: {font: \"STIX-Web\"}});}</script>                <script type=\"text/javascript\">window.PlotlyConfig = {MathJaxConfig: 'local'};</script>\n",
              "        <script src=\"https://cdn.plot.ly/plotly-2.8.3.min.js\"></script>                <div id=\"1351263e-e743-4316-8649-a98ac9e6b6d2\" class=\"plotly-graph-div\" style=\"height:525px; width:100%;\"></div>            <script type=\"text/javascript\">                                    window.PLOTLYENV=window.PLOTLYENV || {};                                    if (document.getElementById(\"1351263e-e743-4316-8649-a98ac9e6b6d2\")) {                    Plotly.newPlot(                        \"1351263e-e743-4316-8649-a98ac9e6b6d2\",                        [{\"dimensions\":[{\"label\":\"POSTURE\",\"values\":[\"A\",\"B\",\"A\",\"D\",\"A\",\"D\",\"B\",\"D\",\"C\",\"D\",\"B\",\"B\",\"D\",\"B\",\"A\",\"D\",\"A\",\"B\",\"B\",\"C\",\"D\",\"B\",\"B\",\"D\",\"C\",\"C\",\"A\",\"D\",\"D\",\"A\",\"A\",\"D\",\"B\",\"C\",\"D\",\"C\",\"C\",\"A\",\"B\",\"B\",\"C\",\"D\",\"A\",\"A\",\"A\",\"D\",\"D\",\"B\",\"B\",\"B\",\"C\",\"B\",\"A\",\"D\",\"B\",\"B\",\"B\",\"B\",\"C\",\"B\",\"B\",\"A\",\"B\",\"C\",\"A\",\"B\",\"C\",\"B\",\"C\",\"D\",\"A\",\"C\",\"B\",\"C\",\"B\",\"A\",\"C\",\"D\",\"B\",\"B\",\"C\",\"C\",\"D\",\"B\",\"D\",\"A\",\"A\",\"B\",\"B\",\"C\",\"A\",\"B\",\"B\",\"B\",\"A\",\"A\"]},{\"label\":\"MBTI\",\"values\":[\"ESFJ\",\"ISTJ\",\"ESTJ\",\"ISTJ\",\"ENFJ\",\"ISFP\",\"ISTP\",\"ESTJ\",\"ESFJ\",\"INFJ\",\"ENTP\",\"ISFJ\",\"ESFJ\",\"ENTJ\",\"ESTP\",\"ISTJ\",\"ESTJ\",\"ENFP\",\"ESFP\",\"ISFP\",\"INFP\",\"ESTP\",\"ESTP\",\"ESFJ\",\"INFJ\",\"ISFJ\",\"ESTP\",\"ISTP\",\"ENTJ\",\"ENFP\",\"ESFP\",\"ESTJ\",\"ESTP\",\"ENTJ\",\"ISFP\",\"ISTJ\",\"ENFJ\",\"ENFP\",\"ESTP\",\"ENFJ\",\"INFP\",\"ISFP\",\"ESFP\",\"ENFP\",\"ENFP\",\"ISTJ\",\"ISFP\",\"ENFJ\",\"ESTP\",\"INFJ\",\"ESFP\",\"ENTP\",\"ESFP\",\"INFJ\",\"ESFJ\",\"ESTJ\",\"ESFP\",\"ESFP\",\"ISFJ\",\"ISTP\",\"ESFJ\",\"ESTP\",\"ESFP\",\"ENTP\",\"ESFP\",\"ISTJ\",\"INTJ\",\"ENTP\",\"ISTP\",\"INFP\",\"ESFP\",\"ISFJ\",\"ENTJ\",\"ESFJ\",\"ESTJ\",\"ISFJ\",\"ESTP\",\"ISFP\",\"ESTJ\",\"ENFP\",\"INFP\",\"ESFP\",\"INFP\",\"ESFP\",\"ENTJ\",\"ENFP\",\"ENTP\",\"ESFJ\",\"ESFJ\",\"ISFP\",\"ENFP\",\"ENFJ\",\"ESTP\",\"ESFJ\",\"ENFP\",\"ENFP\"]}],\"domain\":{\"x\":[0.0,1.0],\"y\":[0.0,1.0]},\"name\":\"\",\"type\":\"parcats\"}],                        {\"template\":{\"data\":{\"bar\":[{\"error_x\":{\"color\":\"#2a3f5f\"},\"error_y\":{\"color\":\"#2a3f5f\"},\"marker\":{\"line\":{\"color\":\"#E5ECF6\",\"width\":0.5},\"pattern\":{\"fillmode\":\"overlay\",\"size\":10,\"solidity\":0.2}},\"type\":\"bar\"}],\"barpolar\":[{\"marker\":{\"line\":{\"color\":\"#E5ECF6\",\"width\":0.5},\"pattern\":{\"fillmode\":\"overlay\",\"size\":10,\"solidity\":0.2}},\"type\":\"barpolar\"}],\"carpet\":[{\"aaxis\":{\"endlinecolor\":\"#2a3f5f\",\"gridcolor\":\"white\",\"linecolor\":\"white\",\"minorgridcolor\":\"white\",\"startlinecolor\":\"#2a3f5f\"},\"baxis\":{\"endlinecolor\":\"#2a3f5f\",\"gridcolor\":\"white\",\"linecolor\":\"white\",\"minorgridcolor\":\"white\",\"startlinecolor\":\"#2a3f5f\"},\"type\":\"carpet\"}],\"choropleth\":[{\"colorbar\":{\"outlinewidth\":0,\"ticks\":\"\"},\"type\":\"choropleth\"}],\"contour\":[{\"colorbar\":{\"outlinewidth\":0,\"ticks\":\"\"},\"colorscale\":[[0.0,\"#0d0887\"],[0.1111111111111111,\"#46039f\"],[0.2222222222222222,\"#7201a8\"],[0.3333333333333333,\"#9c179e\"],[0.4444444444444444,\"#bd3786\"],[0.5555555555555556,\"#d8576b\"],[0.6666666666666666,\"#ed7953\"],[0.7777777777777778,\"#fb9f3a\"],[0.8888888888888888,\"#fdca26\"],[1.0,\"#f0f921\"]],\"type\":\"contour\"}],\"contourcarpet\":[{\"colorbar\":{\"outlinewidth\":0,\"ticks\":\"\"},\"type\":\"contourcarpet\"}],\"heatmap\":[{\"colorbar\":{\"outlinewidth\":0,\"ticks\":\"\"},\"colorscale\":[[0.0,\"#0d0887\"],[0.1111111111111111,\"#46039f\"],[0.2222222222222222,\"#7201a8\"],[0.3333333333333333,\"#9c179e\"],[0.4444444444444444,\"#bd3786\"],[0.5555555555555556,\"#d8576b\"],[0.6666666666666666,\"#ed7953\"],[0.7777777777777778,\"#fb9f3a\"],[0.8888888888888888,\"#fdca26\"],[1.0,\"#f0f921\"]],\"type\":\"heatmap\"}],\"heatmapgl\":[{\"colorbar\":{\"outlinewidth\":0,\"ticks\":\"\"},\"colorscale\":[[0.0,\"#0d0887\"],[0.1111111111111111,\"#46039f\"],[0.2222222222222222,\"#7201a8\"],[0.3333333333333333,\"#9c179e\"],[0.4444444444444444,\"#bd3786\"],[0.5555555555555556,\"#d8576b\"],[0.6666666666666666,\"#ed7953\"],[0.7777777777777778,\"#fb9f3a\"],[0.8888888888888888,\"#fdca26\"],[1.0,\"#f0f921\"]],\"type\":\"heatmapgl\"}],\"histogram\":[{\"marker\":{\"pattern\":{\"fillmode\":\"overlay\",\"size\":10,\"solidity\":0.2}},\"type\":\"histogram\"}],\"histogram2d\":[{\"colorbar\":{\"outlinewidth\":0,\"ticks\":\"\"},\"colorscale\":[[0.0,\"#0d0887\"],[0.1111111111111111,\"#46039f\"],[0.2222222222222222,\"#7201a8\"],[0.3333333333333333,\"#9c179e\"],[0.4444444444444444,\"#bd3786\"],[0.5555555555555556,\"#d8576b\"],[0.6666666666666666,\"#ed7953\"],[0.7777777777777778,\"#fb9f3a\"],[0.8888888888888888,\"#fdca26\"],[1.0,\"#f0f921\"]],\"type\":\"histogram2d\"}],\"histogram2dcontour\":[{\"colorbar\":{\"outlinewidth\":0,\"ticks\":\"\"},\"colorscale\":[[0.0,\"#0d0887\"],[0.1111111111111111,\"#46039f\"],[0.2222222222222222,\"#7201a8\"],[0.3333333333333333,\"#9c179e\"],[0.4444444444444444,\"#bd3786\"],[0.5555555555555556,\"#d8576b\"],[0.6666666666666666,\"#ed7953\"],[0.7777777777777778,\"#fb9f3a\"],[0.8888888888888888,\"#fdca26\"],[1.0,\"#f0f921\"]],\"type\":\"histogram2dcontour\"}],\"mesh3d\":[{\"colorbar\":{\"outlinewidth\":0,\"ticks\":\"\"},\"type\":\"mesh3d\"}],\"parcoords\":[{\"line\":{\"colorbar\":{\"outlinewidth\":0,\"ticks\":\"\"}},\"type\":\"parcoords\"}],\"pie\":[{\"automargin\":true,\"type\":\"pie\"}],\"scatter\":[{\"marker\":{\"colorbar\":{\"outlinewidth\":0,\"ticks\":\"\"}},\"type\":\"scatter\"}],\"scatter3d\":[{\"line\":{\"colorbar\":{\"outlinewidth\":0,\"ticks\":\"\"}},\"marker\":{\"colorbar\":{\"outlinewidth\":0,\"ticks\":\"\"}},\"type\":\"scatter3d\"}],\"scattercarpet\":[{\"marker\":{\"colorbar\":{\"outlinewidth\":0,\"ticks\":\"\"}},\"type\":\"scattercarpet\"}],\"scattergeo\":[{\"marker\":{\"colorbar\":{\"outlinewidth\":0,\"ticks\":\"\"}},\"type\":\"scattergeo\"}],\"scattergl\":[{\"marker\":{\"colorbar\":{\"outlinewidth\":0,\"ticks\":\"\"}},\"type\":\"scattergl\"}],\"scattermapbox\":[{\"marker\":{\"colorbar\":{\"outlinewidth\":0,\"ticks\":\"\"}},\"type\":\"scattermapbox\"}],\"scatterpolar\":[{\"marker\":{\"colorbar\":{\"outlinewidth\":0,\"ticks\":\"\"}},\"type\":\"scatterpolar\"}],\"scatterpolargl\":[{\"marker\":{\"colorbar\":{\"outlinewidth\":0,\"ticks\":\"\"}},\"type\":\"scatterpolargl\"}],\"scatterternary\":[{\"marker\":{\"colorbar\":{\"outlinewidth\":0,\"ticks\":\"\"}},\"type\":\"scatterternary\"}],\"surface\":[{\"colorbar\":{\"outlinewidth\":0,\"ticks\":\"\"},\"colorscale\":[[0.0,\"#0d0887\"],[0.1111111111111111,\"#46039f\"],[0.2222222222222222,\"#7201a8\"],[0.3333333333333333,\"#9c179e\"],[0.4444444444444444,\"#bd3786\"],[0.5555555555555556,\"#d8576b\"],[0.6666666666666666,\"#ed7953\"],[0.7777777777777778,\"#fb9f3a\"],[0.8888888888888888,\"#fdca26\"],[1.0,\"#f0f921\"]],\"type\":\"surface\"}],\"table\":[{\"cells\":{\"fill\":{\"color\":\"#EBF0F8\"},\"line\":{\"color\":\"white\"}},\"header\":{\"fill\":{\"color\":\"#C8D4E3\"},\"line\":{\"color\":\"white\"}},\"type\":\"table\"}]},\"layout\":{\"annotationdefaults\":{\"arrowcolor\":\"#2a3f5f\",\"arrowhead\":0,\"arrowwidth\":1},\"autotypenumbers\":\"strict\",\"coloraxis\":{\"colorbar\":{\"outlinewidth\":0,\"ticks\":\"\"}},\"colorscale\":{\"diverging\":[[0,\"#8e0152\"],[0.1,\"#c51b7d\"],[0.2,\"#de77ae\"],[0.3,\"#f1b6da\"],[0.4,\"#fde0ef\"],[0.5,\"#f7f7f7\"],[0.6,\"#e6f5d0\"],[0.7,\"#b8e186\"],[0.8,\"#7fbc41\"],[0.9,\"#4d9221\"],[1,\"#276419\"]],\"sequential\":[[0.0,\"#0d0887\"],[0.1111111111111111,\"#46039f\"],[0.2222222222222222,\"#7201a8\"],[0.3333333333333333,\"#9c179e\"],[0.4444444444444444,\"#bd3786\"],[0.5555555555555556,\"#d8576b\"],[0.6666666666666666,\"#ed7953\"],[0.7777777777777778,\"#fb9f3a\"],[0.8888888888888888,\"#fdca26\"],[1.0,\"#f0f921\"]],\"sequentialminus\":[[0.0,\"#0d0887\"],[0.1111111111111111,\"#46039f\"],[0.2222222222222222,\"#7201a8\"],[0.3333333333333333,\"#9c179e\"],[0.4444444444444444,\"#bd3786\"],[0.5555555555555556,\"#d8576b\"],[0.6666666666666666,\"#ed7953\"],[0.7777777777777778,\"#fb9f3a\"],[0.8888888888888888,\"#fdca26\"],[1.0,\"#f0f921\"]]},\"colorway\":[\"#636efa\",\"#EF553B\",\"#00cc96\",\"#ab63fa\",\"#FFA15A\",\"#19d3f3\",\"#FF6692\",\"#B6E880\",\"#FF97FF\",\"#FECB52\"],\"font\":{\"color\":\"#2a3f5f\"},\"geo\":{\"bgcolor\":\"white\",\"lakecolor\":\"white\",\"landcolor\":\"#E5ECF6\",\"showlakes\":true,\"showland\":true,\"subunitcolor\":\"white\"},\"hoverlabel\":{\"align\":\"left\"},\"hovermode\":\"closest\",\"mapbox\":{\"style\":\"light\"},\"paper_bgcolor\":\"white\",\"plot_bgcolor\":\"#E5ECF6\",\"polar\":{\"angularaxis\":{\"gridcolor\":\"white\",\"linecolor\":\"white\",\"ticks\":\"\"},\"bgcolor\":\"#E5ECF6\",\"radialaxis\":{\"gridcolor\":\"white\",\"linecolor\":\"white\",\"ticks\":\"\"}},\"scene\":{\"xaxis\":{\"backgroundcolor\":\"#E5ECF6\",\"gridcolor\":\"white\",\"gridwidth\":2,\"linecolor\":\"white\",\"showbackground\":true,\"ticks\":\"\",\"zerolinecolor\":\"white\"},\"yaxis\":{\"backgroundcolor\":\"#E5ECF6\",\"gridcolor\":\"white\",\"gridwidth\":2,\"linecolor\":\"white\",\"showbackground\":true,\"ticks\":\"\",\"zerolinecolor\":\"white\"},\"zaxis\":{\"backgroundcolor\":\"#E5ECF6\",\"gridcolor\":\"white\",\"gridwidth\":2,\"linecolor\":\"white\",\"showbackground\":true,\"ticks\":\"\",\"zerolinecolor\":\"white\"}},\"shapedefaults\":{\"line\":{\"color\":\"#2a3f5f\"}},\"ternary\":{\"aaxis\":{\"gridcolor\":\"white\",\"linecolor\":\"white\",\"ticks\":\"\"},\"baxis\":{\"gridcolor\":\"white\",\"linecolor\":\"white\",\"ticks\":\"\"},\"bgcolor\":\"#E5ECF6\",\"caxis\":{\"gridcolor\":\"white\",\"linecolor\":\"white\",\"ticks\":\"\"}},\"title\":{\"x\":0.05},\"xaxis\":{\"automargin\":true,\"gridcolor\":\"white\",\"linecolor\":\"white\",\"ticks\":\"\",\"title\":{\"standoff\":15},\"zerolinecolor\":\"white\",\"zerolinewidth\":2},\"yaxis\":{\"automargin\":true,\"gridcolor\":\"white\",\"linecolor\":\"white\",\"ticks\":\"\",\"title\":{\"standoff\":15},\"zerolinecolor\":\"white\",\"zerolinewidth\":2}}},\"legend\":{\"tracegroupgap\":0},\"margin\":{\"t\":60}},                        {\"responsive\": true}                    ).then(function(){\n",
              "                            \n",
              "var gd = document.getElementById('1351263e-e743-4316-8649-a98ac9e6b6d2');\n",
              "var x = new MutationObserver(function (mutations, observer) {{\n",
              "        var display = window.getComputedStyle(gd).display;\n",
              "        if (!display || display === 'none') {{\n",
              "            console.log([gd, 'removed!']);\n",
              "            Plotly.purge(gd);\n",
              "            observer.disconnect();\n",
              "        }}\n",
              "}});\n",
              "\n",
              "// Listen for the removal of the full notebook cells\n",
              "var notebookContainer = gd.closest('#notebook-container');\n",
              "if (notebookContainer) {{\n",
              "    x.observe(notebookContainer, {childList: true});\n",
              "}}\n",
              "\n",
              "// Listen for the clearing of the current output cell\n",
              "var outputEl = gd.closest('.output');\n",
              "if (outputEl) {{\n",
              "    x.observe(outputEl, {childList: true});\n",
              "}}\n",
              "\n",
              "                        })                };                            </script>        </div>\n",
              "</body>\n",
              "</html>"
            ]
          },
          "metadata": {}
        }
      ],
      "source": [
        "plot = px.parallel_categories(posture_personality_df, dimensions=['POSTURE', 'MBTI'])\n",
        "plot.show()"
      ]
    },
    {
      "cell_type": "code",
      "execution_count": 1190,
      "metadata": {
        "colab": {
          "base_uri": "https://localhost:8080/",
          "height": 542
        },
        "id": "dXupN1zLCn-w",
        "outputId": "c01710fc-e25a-49b4-d180-fba43d4a1249"
      },
      "outputs": [
        {
          "output_type": "display_data",
          "data": {
            "text/html": [
              "<html>\n",
              "<head><meta charset=\"utf-8\" /></head>\n",
              "<body>\n",
              "    <div>            <script src=\"https://cdnjs.cloudflare.com/ajax/libs/mathjax/2.7.5/MathJax.js?config=TeX-AMS-MML_SVG\"></script><script type=\"text/javascript\">if (window.MathJax) {MathJax.Hub.Config({SVG: {font: \"STIX-Web\"}});}</script>                <script type=\"text/javascript\">window.PlotlyConfig = {MathJaxConfig: 'local'};</script>\n",
              "        <script src=\"https://cdn.plot.ly/plotly-2.8.3.min.js\"></script>                <div id=\"92513dcc-e231-4350-b88f-e3245985f0df\" class=\"plotly-graph-div\" style=\"height:525px; width:100%;\"></div>            <script type=\"text/javascript\">                                    window.PLOTLYENV=window.PLOTLYENV || {};                                    if (document.getElementById(\"92513dcc-e231-4350-b88f-e3245985f0df\")) {                    Plotly.newPlot(                        \"92513dcc-e231-4350-b88f-e3245985f0df\",                        [{\"dimensions\":[{\"label\":\"EXTROVERTISM\",\"values\":[\"High\",\"Low\",\"High\",\"Low\",\"High\",\"Low\",\"Moderate\",\"High\",\"High\",\"Low\",\"Moderate\",\"Low\",\"High\",\"High\",\"Extreme\",\"Low\",\"Moderate\",\"High\",\"High\",\"Moderate\",\"Low\",\"High\",\"High\",\"Moderate\",\"Low\",\"Low\",\"High\",\"Moderate\",\"High\",\"Extreme\",\"High\",\"Moderate\",\"High\",\"Extreme\",\"Low\",\"Low\",\"High\",\"High\",\"High\",\"High\",\"Moderate\",\"Low\",\"Extreme\",\"Extreme\",\"High\",\"Moderate\",\"Moderate\",\"Extreme\",\"High\",\"Moderate\",\"High\",\"High\",\"High\",\"Moderate\",\"High\",\"High\",\"High\",\"High\",\"Moderate\",\"Low\",\"Extreme\",\"High\",\"Moderate\",\"High\",\"High\",\"Low\",\"Low\",\"High\",\"Moderate\",\"Moderate\",\"High\",\"Low\",\"High\",\"High\",\"High\",\"Low\",\"High\",\"Low\",\"Moderate\",\"High\",\"Low\",\"Moderate\",\"Moderate\",\"High\",\"High\",\"Extreme\",\"Extreme\",\"Moderate\",\"High\",\"Moderate\",\"High\",\"High\",\"High\",\"Moderate\",\"Moderate\",\"Moderate\"]},{\"label\":\"POSTURE\",\"values\":[\"A\",\"B\",\"A\",\"D\",\"A\",\"D\",\"B\",\"D\",\"C\",\"D\",\"B\",\"B\",\"D\",\"B\",\"A\",\"D\",\"A\",\"B\",\"B\",\"C\",\"D\",\"B\",\"B\",\"D\",\"C\",\"C\",\"A\",\"D\",\"D\",\"A\",\"A\",\"D\",\"B\",\"C\",\"D\",\"C\",\"C\",\"A\",\"B\",\"B\",\"C\",\"D\",\"A\",\"A\",\"A\",\"D\",\"D\",\"B\",\"B\",\"B\",\"C\",\"B\",\"A\",\"D\",\"B\",\"B\",\"B\",\"B\",\"C\",\"B\",\"B\",\"A\",\"B\",\"C\",\"A\",\"B\",\"C\",\"B\",\"C\",\"D\",\"A\",\"C\",\"B\",\"C\",\"B\",\"A\",\"C\",\"D\",\"B\",\"B\",\"C\",\"C\",\"D\",\"B\",\"D\",\"A\",\"A\",\"B\",\"B\",\"C\",\"A\",\"B\",\"B\",\"B\",\"A\",\"A\"]}],\"domain\":{\"x\":[0.0,1.0],\"y\":[0.0,1.0]},\"name\":\"\",\"type\":\"parcats\"}],                        {\"template\":{\"data\":{\"bar\":[{\"error_x\":{\"color\":\"#2a3f5f\"},\"error_y\":{\"color\":\"#2a3f5f\"},\"marker\":{\"line\":{\"color\":\"#E5ECF6\",\"width\":0.5},\"pattern\":{\"fillmode\":\"overlay\",\"size\":10,\"solidity\":0.2}},\"type\":\"bar\"}],\"barpolar\":[{\"marker\":{\"line\":{\"color\":\"#E5ECF6\",\"width\":0.5},\"pattern\":{\"fillmode\":\"overlay\",\"size\":10,\"solidity\":0.2}},\"type\":\"barpolar\"}],\"carpet\":[{\"aaxis\":{\"endlinecolor\":\"#2a3f5f\",\"gridcolor\":\"white\",\"linecolor\":\"white\",\"minorgridcolor\":\"white\",\"startlinecolor\":\"#2a3f5f\"},\"baxis\":{\"endlinecolor\":\"#2a3f5f\",\"gridcolor\":\"white\",\"linecolor\":\"white\",\"minorgridcolor\":\"white\",\"startlinecolor\":\"#2a3f5f\"},\"type\":\"carpet\"}],\"choropleth\":[{\"colorbar\":{\"outlinewidth\":0,\"ticks\":\"\"},\"type\":\"choropleth\"}],\"contour\":[{\"colorbar\":{\"outlinewidth\":0,\"ticks\":\"\"},\"colorscale\":[[0.0,\"#0d0887\"],[0.1111111111111111,\"#46039f\"],[0.2222222222222222,\"#7201a8\"],[0.3333333333333333,\"#9c179e\"],[0.4444444444444444,\"#bd3786\"],[0.5555555555555556,\"#d8576b\"],[0.6666666666666666,\"#ed7953\"],[0.7777777777777778,\"#fb9f3a\"],[0.8888888888888888,\"#fdca26\"],[1.0,\"#f0f921\"]],\"type\":\"contour\"}],\"contourcarpet\":[{\"colorbar\":{\"outlinewidth\":0,\"ticks\":\"\"},\"type\":\"contourcarpet\"}],\"heatmap\":[{\"colorbar\":{\"outlinewidth\":0,\"ticks\":\"\"},\"colorscale\":[[0.0,\"#0d0887\"],[0.1111111111111111,\"#46039f\"],[0.2222222222222222,\"#7201a8\"],[0.3333333333333333,\"#9c179e\"],[0.4444444444444444,\"#bd3786\"],[0.5555555555555556,\"#d8576b\"],[0.6666666666666666,\"#ed7953\"],[0.7777777777777778,\"#fb9f3a\"],[0.8888888888888888,\"#fdca26\"],[1.0,\"#f0f921\"]],\"type\":\"heatmap\"}],\"heatmapgl\":[{\"colorbar\":{\"outlinewidth\":0,\"ticks\":\"\"},\"colorscale\":[[0.0,\"#0d0887\"],[0.1111111111111111,\"#46039f\"],[0.2222222222222222,\"#7201a8\"],[0.3333333333333333,\"#9c179e\"],[0.4444444444444444,\"#bd3786\"],[0.5555555555555556,\"#d8576b\"],[0.6666666666666666,\"#ed7953\"],[0.7777777777777778,\"#fb9f3a\"],[0.8888888888888888,\"#fdca26\"],[1.0,\"#f0f921\"]],\"type\":\"heatmapgl\"}],\"histogram\":[{\"marker\":{\"pattern\":{\"fillmode\":\"overlay\",\"size\":10,\"solidity\":0.2}},\"type\":\"histogram\"}],\"histogram2d\":[{\"colorbar\":{\"outlinewidth\":0,\"ticks\":\"\"},\"colorscale\":[[0.0,\"#0d0887\"],[0.1111111111111111,\"#46039f\"],[0.2222222222222222,\"#7201a8\"],[0.3333333333333333,\"#9c179e\"],[0.4444444444444444,\"#bd3786\"],[0.5555555555555556,\"#d8576b\"],[0.6666666666666666,\"#ed7953\"],[0.7777777777777778,\"#fb9f3a\"],[0.8888888888888888,\"#fdca26\"],[1.0,\"#f0f921\"]],\"type\":\"histogram2d\"}],\"histogram2dcontour\":[{\"colorbar\":{\"outlinewidth\":0,\"ticks\":\"\"},\"colorscale\":[[0.0,\"#0d0887\"],[0.1111111111111111,\"#46039f\"],[0.2222222222222222,\"#7201a8\"],[0.3333333333333333,\"#9c179e\"],[0.4444444444444444,\"#bd3786\"],[0.5555555555555556,\"#d8576b\"],[0.6666666666666666,\"#ed7953\"],[0.7777777777777778,\"#fb9f3a\"],[0.8888888888888888,\"#fdca26\"],[1.0,\"#f0f921\"]],\"type\":\"histogram2dcontour\"}],\"mesh3d\":[{\"colorbar\":{\"outlinewidth\":0,\"ticks\":\"\"},\"type\":\"mesh3d\"}],\"parcoords\":[{\"line\":{\"colorbar\":{\"outlinewidth\":0,\"ticks\":\"\"}},\"type\":\"parcoords\"}],\"pie\":[{\"automargin\":true,\"type\":\"pie\"}],\"scatter\":[{\"marker\":{\"colorbar\":{\"outlinewidth\":0,\"ticks\":\"\"}},\"type\":\"scatter\"}],\"scatter3d\":[{\"line\":{\"colorbar\":{\"outlinewidth\":0,\"ticks\":\"\"}},\"marker\":{\"colorbar\":{\"outlinewidth\":0,\"ticks\":\"\"}},\"type\":\"scatter3d\"}],\"scattercarpet\":[{\"marker\":{\"colorbar\":{\"outlinewidth\":0,\"ticks\":\"\"}},\"type\":\"scattercarpet\"}],\"scattergeo\":[{\"marker\":{\"colorbar\":{\"outlinewidth\":0,\"ticks\":\"\"}},\"type\":\"scattergeo\"}],\"scattergl\":[{\"marker\":{\"colorbar\":{\"outlinewidth\":0,\"ticks\":\"\"}},\"type\":\"scattergl\"}],\"scattermapbox\":[{\"marker\":{\"colorbar\":{\"outlinewidth\":0,\"ticks\":\"\"}},\"type\":\"scattermapbox\"}],\"scatterpolar\":[{\"marker\":{\"colorbar\":{\"outlinewidth\":0,\"ticks\":\"\"}},\"type\":\"scatterpolar\"}],\"scatterpolargl\":[{\"marker\":{\"colorbar\":{\"outlinewidth\":0,\"ticks\":\"\"}},\"type\":\"scatterpolargl\"}],\"scatterternary\":[{\"marker\":{\"colorbar\":{\"outlinewidth\":0,\"ticks\":\"\"}},\"type\":\"scatterternary\"}],\"surface\":[{\"colorbar\":{\"outlinewidth\":0,\"ticks\":\"\"},\"colorscale\":[[0.0,\"#0d0887\"],[0.1111111111111111,\"#46039f\"],[0.2222222222222222,\"#7201a8\"],[0.3333333333333333,\"#9c179e\"],[0.4444444444444444,\"#bd3786\"],[0.5555555555555556,\"#d8576b\"],[0.6666666666666666,\"#ed7953\"],[0.7777777777777778,\"#fb9f3a\"],[0.8888888888888888,\"#fdca26\"],[1.0,\"#f0f921\"]],\"type\":\"surface\"}],\"table\":[{\"cells\":{\"fill\":{\"color\":\"#EBF0F8\"},\"line\":{\"color\":\"white\"}},\"header\":{\"fill\":{\"color\":\"#C8D4E3\"},\"line\":{\"color\":\"white\"}},\"type\":\"table\"}]},\"layout\":{\"annotationdefaults\":{\"arrowcolor\":\"#2a3f5f\",\"arrowhead\":0,\"arrowwidth\":1},\"autotypenumbers\":\"strict\",\"coloraxis\":{\"colorbar\":{\"outlinewidth\":0,\"ticks\":\"\"}},\"colorscale\":{\"diverging\":[[0,\"#8e0152\"],[0.1,\"#c51b7d\"],[0.2,\"#de77ae\"],[0.3,\"#f1b6da\"],[0.4,\"#fde0ef\"],[0.5,\"#f7f7f7\"],[0.6,\"#e6f5d0\"],[0.7,\"#b8e186\"],[0.8,\"#7fbc41\"],[0.9,\"#4d9221\"],[1,\"#276419\"]],\"sequential\":[[0.0,\"#0d0887\"],[0.1111111111111111,\"#46039f\"],[0.2222222222222222,\"#7201a8\"],[0.3333333333333333,\"#9c179e\"],[0.4444444444444444,\"#bd3786\"],[0.5555555555555556,\"#d8576b\"],[0.6666666666666666,\"#ed7953\"],[0.7777777777777778,\"#fb9f3a\"],[0.8888888888888888,\"#fdca26\"],[1.0,\"#f0f921\"]],\"sequentialminus\":[[0.0,\"#0d0887\"],[0.1111111111111111,\"#46039f\"],[0.2222222222222222,\"#7201a8\"],[0.3333333333333333,\"#9c179e\"],[0.4444444444444444,\"#bd3786\"],[0.5555555555555556,\"#d8576b\"],[0.6666666666666666,\"#ed7953\"],[0.7777777777777778,\"#fb9f3a\"],[0.8888888888888888,\"#fdca26\"],[1.0,\"#f0f921\"]]},\"colorway\":[\"#636efa\",\"#EF553B\",\"#00cc96\",\"#ab63fa\",\"#FFA15A\",\"#19d3f3\",\"#FF6692\",\"#B6E880\",\"#FF97FF\",\"#FECB52\"],\"font\":{\"color\":\"#2a3f5f\"},\"geo\":{\"bgcolor\":\"white\",\"lakecolor\":\"white\",\"landcolor\":\"#E5ECF6\",\"showlakes\":true,\"showland\":true,\"subunitcolor\":\"white\"},\"hoverlabel\":{\"align\":\"left\"},\"hovermode\":\"closest\",\"mapbox\":{\"style\":\"light\"},\"paper_bgcolor\":\"white\",\"plot_bgcolor\":\"#E5ECF6\",\"polar\":{\"angularaxis\":{\"gridcolor\":\"white\",\"linecolor\":\"white\",\"ticks\":\"\"},\"bgcolor\":\"#E5ECF6\",\"radialaxis\":{\"gridcolor\":\"white\",\"linecolor\":\"white\",\"ticks\":\"\"}},\"scene\":{\"xaxis\":{\"backgroundcolor\":\"#E5ECF6\",\"gridcolor\":\"white\",\"gridwidth\":2,\"linecolor\":\"white\",\"showbackground\":true,\"ticks\":\"\",\"zerolinecolor\":\"white\"},\"yaxis\":{\"backgroundcolor\":\"#E5ECF6\",\"gridcolor\":\"white\",\"gridwidth\":2,\"linecolor\":\"white\",\"showbackground\":true,\"ticks\":\"\",\"zerolinecolor\":\"white\"},\"zaxis\":{\"backgroundcolor\":\"#E5ECF6\",\"gridcolor\":\"white\",\"gridwidth\":2,\"linecolor\":\"white\",\"showbackground\":true,\"ticks\":\"\",\"zerolinecolor\":\"white\"}},\"shapedefaults\":{\"line\":{\"color\":\"#2a3f5f\"}},\"ternary\":{\"aaxis\":{\"gridcolor\":\"white\",\"linecolor\":\"white\",\"ticks\":\"\"},\"baxis\":{\"gridcolor\":\"white\",\"linecolor\":\"white\",\"ticks\":\"\"},\"bgcolor\":\"#E5ECF6\",\"caxis\":{\"gridcolor\":\"white\",\"linecolor\":\"white\",\"ticks\":\"\"}},\"title\":{\"x\":0.05},\"xaxis\":{\"automargin\":true,\"gridcolor\":\"white\",\"linecolor\":\"white\",\"ticks\":\"\",\"title\":{\"standoff\":15},\"zerolinecolor\":\"white\",\"zerolinewidth\":2},\"yaxis\":{\"automargin\":true,\"gridcolor\":\"white\",\"linecolor\":\"white\",\"ticks\":\"\",\"title\":{\"standoff\":15},\"zerolinecolor\":\"white\",\"zerolinewidth\":2}}},\"legend\":{\"tracegroupgap\":0},\"margin\":{\"t\":60}},                        {\"responsive\": true}                    ).then(function(){\n",
              "                            \n",
              "var gd = document.getElementById('92513dcc-e231-4350-b88f-e3245985f0df');\n",
              "var x = new MutationObserver(function (mutations, observer) {{\n",
              "        var display = window.getComputedStyle(gd).display;\n",
              "        if (!display || display === 'none') {{\n",
              "            console.log([gd, 'removed!']);\n",
              "            Plotly.purge(gd);\n",
              "            observer.disconnect();\n",
              "        }}\n",
              "}});\n",
              "\n",
              "// Listen for the removal of the full notebook cells\n",
              "var notebookContainer = gd.closest('#notebook-container');\n",
              "if (notebookContainer) {{\n",
              "    x.observe(notebookContainer, {childList: true});\n",
              "}}\n",
              "\n",
              "// Listen for the clearing of the current output cell\n",
              "var outputEl = gd.closest('.output');\n",
              "if (outputEl) {{\n",
              "    x.observe(outputEl, {childList: true});\n",
              "}}\n",
              "\n",
              "                        })                };                            </script>        </div>\n",
              "</body>\n",
              "</html>"
            ]
          },
          "metadata": {}
        }
      ],
      "source": [
        "plot = px.parallel_categories(posture_personality_df, dimensions=['EXTROVERTISM', 'POSTURE'])\n",
        "plot.show()"
      ]
    },
    {
      "cell_type": "code",
      "execution_count": 1191,
      "metadata": {
        "colab": {
          "base_uri": "https://localhost:8080/",
          "height": 542
        },
        "id": "LGoZQI6ffs_P",
        "outputId": "0e39c6b3-a42a-4ffd-96dd-c417777c97bf"
      },
      "outputs": [
        {
          "output_type": "display_data",
          "data": {
            "text/html": [
              "<html>\n",
              "<head><meta charset=\"utf-8\" /></head>\n",
              "<body>\n",
              "    <div>            <script src=\"https://cdnjs.cloudflare.com/ajax/libs/mathjax/2.7.5/MathJax.js?config=TeX-AMS-MML_SVG\"></script><script type=\"text/javascript\">if (window.MathJax) {MathJax.Hub.Config({SVG: {font: \"STIX-Web\"}});}</script>                <script type=\"text/javascript\">window.PlotlyConfig = {MathJaxConfig: 'local'};</script>\n",
              "        <script src=\"https://cdn.plot.ly/plotly-2.8.3.min.js\"></script>                <div id=\"c9ac543a-0dbd-4522-b5a1-b3f0366490ba\" class=\"plotly-graph-div\" style=\"height:525px; width:100%;\"></div>            <script type=\"text/javascript\">                                    window.PLOTLYENV=window.PLOTLYENV || {};                                    if (document.getElementById(\"c9ac543a-0dbd-4522-b5a1-b3f0366490ba\")) {                    Plotly.newPlot(                        \"c9ac543a-0dbd-4522-b5a1-b3f0366490ba\",                        [{\"dimensions\":[{\"label\":\"INTROVERTISM\",\"values\":[\"Low\",\"High\",\"Low\",\"High\",\"Moderate\",\"High\",\"High\",\"Low\",\"Low\",\"High\",\"Moderate\",\"High\",\"Moderate\",\"Low\",\"Low\",\"High\",\"Moderate\",\"Low\",\"Moderate\",\"High\",\"High\",\"Moderate\",\"Moderate\",\"Moderate\",\"High\",\"High\",\"Low\",\"High\",\"Low\",\"Low\",\"Low\",\"Moderate\",\"Low\",\"Low\",\"High\",\"High\",\"Low\",\"Low\",\"Low\",\"Moderate\",\"Moderate\",\"High\",\"Low\",\"Low\",\"Low\",\"Moderate\",\"Moderate\",\"Low\",\"Low\",\"Moderate\",\"Low\",\"Low\",\"Moderate\",\"High\",\"Low\",\"Low\",\"Low\",\"Low\",\"Moderate\",\"High\",\"Low\",\"Low\",\"Moderate\",\"Low\",\"Low\",\"High\",\"High\",\"Low\",\"High\",\"Moderate\",\"Low\",\"High\",\"Low\",\"Low\",\"Low\",\"High\",\"Low\",\"High\",\"Moderate\",\"Low\",\"High\",\"Moderate\",\"High\",\"Moderate\",\"Low\",\"Low\",\"Low\",\"Moderate\",\"Low\",\"Moderate\",\"Low\",\"Low\",\"Low\",\"Moderate\",\"Moderate\",\"Moderate\"]},{\"label\":\"POSTURE\",\"values\":[\"A\",\"B\",\"A\",\"D\",\"A\",\"D\",\"B\",\"D\",\"C\",\"D\",\"B\",\"B\",\"D\",\"B\",\"A\",\"D\",\"A\",\"B\",\"B\",\"C\",\"D\",\"B\",\"B\",\"D\",\"C\",\"C\",\"A\",\"D\",\"D\",\"A\",\"A\",\"D\",\"B\",\"C\",\"D\",\"C\",\"C\",\"A\",\"B\",\"B\",\"C\",\"D\",\"A\",\"A\",\"A\",\"D\",\"D\",\"B\",\"B\",\"B\",\"C\",\"B\",\"A\",\"D\",\"B\",\"B\",\"B\",\"B\",\"C\",\"B\",\"B\",\"A\",\"B\",\"C\",\"A\",\"B\",\"C\",\"B\",\"C\",\"D\",\"A\",\"C\",\"B\",\"C\",\"B\",\"A\",\"C\",\"D\",\"B\",\"B\",\"C\",\"C\",\"D\",\"B\",\"D\",\"A\",\"A\",\"B\",\"B\",\"C\",\"A\",\"B\",\"B\",\"B\",\"A\",\"A\"]}],\"domain\":{\"x\":[0.0,1.0],\"y\":[0.0,1.0]},\"name\":\"\",\"type\":\"parcats\"}],                        {\"template\":{\"data\":{\"bar\":[{\"error_x\":{\"color\":\"#2a3f5f\"},\"error_y\":{\"color\":\"#2a3f5f\"},\"marker\":{\"line\":{\"color\":\"#E5ECF6\",\"width\":0.5},\"pattern\":{\"fillmode\":\"overlay\",\"size\":10,\"solidity\":0.2}},\"type\":\"bar\"}],\"barpolar\":[{\"marker\":{\"line\":{\"color\":\"#E5ECF6\",\"width\":0.5},\"pattern\":{\"fillmode\":\"overlay\",\"size\":10,\"solidity\":0.2}},\"type\":\"barpolar\"}],\"carpet\":[{\"aaxis\":{\"endlinecolor\":\"#2a3f5f\",\"gridcolor\":\"white\",\"linecolor\":\"white\",\"minorgridcolor\":\"white\",\"startlinecolor\":\"#2a3f5f\"},\"baxis\":{\"endlinecolor\":\"#2a3f5f\",\"gridcolor\":\"white\",\"linecolor\":\"white\",\"minorgridcolor\":\"white\",\"startlinecolor\":\"#2a3f5f\"},\"type\":\"carpet\"}],\"choropleth\":[{\"colorbar\":{\"outlinewidth\":0,\"ticks\":\"\"},\"type\":\"choropleth\"}],\"contour\":[{\"colorbar\":{\"outlinewidth\":0,\"ticks\":\"\"},\"colorscale\":[[0.0,\"#0d0887\"],[0.1111111111111111,\"#46039f\"],[0.2222222222222222,\"#7201a8\"],[0.3333333333333333,\"#9c179e\"],[0.4444444444444444,\"#bd3786\"],[0.5555555555555556,\"#d8576b\"],[0.6666666666666666,\"#ed7953\"],[0.7777777777777778,\"#fb9f3a\"],[0.8888888888888888,\"#fdca26\"],[1.0,\"#f0f921\"]],\"type\":\"contour\"}],\"contourcarpet\":[{\"colorbar\":{\"outlinewidth\":0,\"ticks\":\"\"},\"type\":\"contourcarpet\"}],\"heatmap\":[{\"colorbar\":{\"outlinewidth\":0,\"ticks\":\"\"},\"colorscale\":[[0.0,\"#0d0887\"],[0.1111111111111111,\"#46039f\"],[0.2222222222222222,\"#7201a8\"],[0.3333333333333333,\"#9c179e\"],[0.4444444444444444,\"#bd3786\"],[0.5555555555555556,\"#d8576b\"],[0.6666666666666666,\"#ed7953\"],[0.7777777777777778,\"#fb9f3a\"],[0.8888888888888888,\"#fdca26\"],[1.0,\"#f0f921\"]],\"type\":\"heatmap\"}],\"heatmapgl\":[{\"colorbar\":{\"outlinewidth\":0,\"ticks\":\"\"},\"colorscale\":[[0.0,\"#0d0887\"],[0.1111111111111111,\"#46039f\"],[0.2222222222222222,\"#7201a8\"],[0.3333333333333333,\"#9c179e\"],[0.4444444444444444,\"#bd3786\"],[0.5555555555555556,\"#d8576b\"],[0.6666666666666666,\"#ed7953\"],[0.7777777777777778,\"#fb9f3a\"],[0.8888888888888888,\"#fdca26\"],[1.0,\"#f0f921\"]],\"type\":\"heatmapgl\"}],\"histogram\":[{\"marker\":{\"pattern\":{\"fillmode\":\"overlay\",\"size\":10,\"solidity\":0.2}},\"type\":\"histogram\"}],\"histogram2d\":[{\"colorbar\":{\"outlinewidth\":0,\"ticks\":\"\"},\"colorscale\":[[0.0,\"#0d0887\"],[0.1111111111111111,\"#46039f\"],[0.2222222222222222,\"#7201a8\"],[0.3333333333333333,\"#9c179e\"],[0.4444444444444444,\"#bd3786\"],[0.5555555555555556,\"#d8576b\"],[0.6666666666666666,\"#ed7953\"],[0.7777777777777778,\"#fb9f3a\"],[0.8888888888888888,\"#fdca26\"],[1.0,\"#f0f921\"]],\"type\":\"histogram2d\"}],\"histogram2dcontour\":[{\"colorbar\":{\"outlinewidth\":0,\"ticks\":\"\"},\"colorscale\":[[0.0,\"#0d0887\"],[0.1111111111111111,\"#46039f\"],[0.2222222222222222,\"#7201a8\"],[0.3333333333333333,\"#9c179e\"],[0.4444444444444444,\"#bd3786\"],[0.5555555555555556,\"#d8576b\"],[0.6666666666666666,\"#ed7953\"],[0.7777777777777778,\"#fb9f3a\"],[0.8888888888888888,\"#fdca26\"],[1.0,\"#f0f921\"]],\"type\":\"histogram2dcontour\"}],\"mesh3d\":[{\"colorbar\":{\"outlinewidth\":0,\"ticks\":\"\"},\"type\":\"mesh3d\"}],\"parcoords\":[{\"line\":{\"colorbar\":{\"outlinewidth\":0,\"ticks\":\"\"}},\"type\":\"parcoords\"}],\"pie\":[{\"automargin\":true,\"type\":\"pie\"}],\"scatter\":[{\"marker\":{\"colorbar\":{\"outlinewidth\":0,\"ticks\":\"\"}},\"type\":\"scatter\"}],\"scatter3d\":[{\"line\":{\"colorbar\":{\"outlinewidth\":0,\"ticks\":\"\"}},\"marker\":{\"colorbar\":{\"outlinewidth\":0,\"ticks\":\"\"}},\"type\":\"scatter3d\"}],\"scattercarpet\":[{\"marker\":{\"colorbar\":{\"outlinewidth\":0,\"ticks\":\"\"}},\"type\":\"scattercarpet\"}],\"scattergeo\":[{\"marker\":{\"colorbar\":{\"outlinewidth\":0,\"ticks\":\"\"}},\"type\":\"scattergeo\"}],\"scattergl\":[{\"marker\":{\"colorbar\":{\"outlinewidth\":0,\"ticks\":\"\"}},\"type\":\"scattergl\"}],\"scattermapbox\":[{\"marker\":{\"colorbar\":{\"outlinewidth\":0,\"ticks\":\"\"}},\"type\":\"scattermapbox\"}],\"scatterpolar\":[{\"marker\":{\"colorbar\":{\"outlinewidth\":0,\"ticks\":\"\"}},\"type\":\"scatterpolar\"}],\"scatterpolargl\":[{\"marker\":{\"colorbar\":{\"outlinewidth\":0,\"ticks\":\"\"}},\"type\":\"scatterpolargl\"}],\"scatterternary\":[{\"marker\":{\"colorbar\":{\"outlinewidth\":0,\"ticks\":\"\"}},\"type\":\"scatterternary\"}],\"surface\":[{\"colorbar\":{\"outlinewidth\":0,\"ticks\":\"\"},\"colorscale\":[[0.0,\"#0d0887\"],[0.1111111111111111,\"#46039f\"],[0.2222222222222222,\"#7201a8\"],[0.3333333333333333,\"#9c179e\"],[0.4444444444444444,\"#bd3786\"],[0.5555555555555556,\"#d8576b\"],[0.6666666666666666,\"#ed7953\"],[0.7777777777777778,\"#fb9f3a\"],[0.8888888888888888,\"#fdca26\"],[1.0,\"#f0f921\"]],\"type\":\"surface\"}],\"table\":[{\"cells\":{\"fill\":{\"color\":\"#EBF0F8\"},\"line\":{\"color\":\"white\"}},\"header\":{\"fill\":{\"color\":\"#C8D4E3\"},\"line\":{\"color\":\"white\"}},\"type\":\"table\"}]},\"layout\":{\"annotationdefaults\":{\"arrowcolor\":\"#2a3f5f\",\"arrowhead\":0,\"arrowwidth\":1},\"autotypenumbers\":\"strict\",\"coloraxis\":{\"colorbar\":{\"outlinewidth\":0,\"ticks\":\"\"}},\"colorscale\":{\"diverging\":[[0,\"#8e0152\"],[0.1,\"#c51b7d\"],[0.2,\"#de77ae\"],[0.3,\"#f1b6da\"],[0.4,\"#fde0ef\"],[0.5,\"#f7f7f7\"],[0.6,\"#e6f5d0\"],[0.7,\"#b8e186\"],[0.8,\"#7fbc41\"],[0.9,\"#4d9221\"],[1,\"#276419\"]],\"sequential\":[[0.0,\"#0d0887\"],[0.1111111111111111,\"#46039f\"],[0.2222222222222222,\"#7201a8\"],[0.3333333333333333,\"#9c179e\"],[0.4444444444444444,\"#bd3786\"],[0.5555555555555556,\"#d8576b\"],[0.6666666666666666,\"#ed7953\"],[0.7777777777777778,\"#fb9f3a\"],[0.8888888888888888,\"#fdca26\"],[1.0,\"#f0f921\"]],\"sequentialminus\":[[0.0,\"#0d0887\"],[0.1111111111111111,\"#46039f\"],[0.2222222222222222,\"#7201a8\"],[0.3333333333333333,\"#9c179e\"],[0.4444444444444444,\"#bd3786\"],[0.5555555555555556,\"#d8576b\"],[0.6666666666666666,\"#ed7953\"],[0.7777777777777778,\"#fb9f3a\"],[0.8888888888888888,\"#fdca26\"],[1.0,\"#f0f921\"]]},\"colorway\":[\"#636efa\",\"#EF553B\",\"#00cc96\",\"#ab63fa\",\"#FFA15A\",\"#19d3f3\",\"#FF6692\",\"#B6E880\",\"#FF97FF\",\"#FECB52\"],\"font\":{\"color\":\"#2a3f5f\"},\"geo\":{\"bgcolor\":\"white\",\"lakecolor\":\"white\",\"landcolor\":\"#E5ECF6\",\"showlakes\":true,\"showland\":true,\"subunitcolor\":\"white\"},\"hoverlabel\":{\"align\":\"left\"},\"hovermode\":\"closest\",\"mapbox\":{\"style\":\"light\"},\"paper_bgcolor\":\"white\",\"plot_bgcolor\":\"#E5ECF6\",\"polar\":{\"angularaxis\":{\"gridcolor\":\"white\",\"linecolor\":\"white\",\"ticks\":\"\"},\"bgcolor\":\"#E5ECF6\",\"radialaxis\":{\"gridcolor\":\"white\",\"linecolor\":\"white\",\"ticks\":\"\"}},\"scene\":{\"xaxis\":{\"backgroundcolor\":\"#E5ECF6\",\"gridcolor\":\"white\",\"gridwidth\":2,\"linecolor\":\"white\",\"showbackground\":true,\"ticks\":\"\",\"zerolinecolor\":\"white\"},\"yaxis\":{\"backgroundcolor\":\"#E5ECF6\",\"gridcolor\":\"white\",\"gridwidth\":2,\"linecolor\":\"white\",\"showbackground\":true,\"ticks\":\"\",\"zerolinecolor\":\"white\"},\"zaxis\":{\"backgroundcolor\":\"#E5ECF6\",\"gridcolor\":\"white\",\"gridwidth\":2,\"linecolor\":\"white\",\"showbackground\":true,\"ticks\":\"\",\"zerolinecolor\":\"white\"}},\"shapedefaults\":{\"line\":{\"color\":\"#2a3f5f\"}},\"ternary\":{\"aaxis\":{\"gridcolor\":\"white\",\"linecolor\":\"white\",\"ticks\":\"\"},\"baxis\":{\"gridcolor\":\"white\",\"linecolor\":\"white\",\"ticks\":\"\"},\"bgcolor\":\"#E5ECF6\",\"caxis\":{\"gridcolor\":\"white\",\"linecolor\":\"white\",\"ticks\":\"\"}},\"title\":{\"x\":0.05},\"xaxis\":{\"automargin\":true,\"gridcolor\":\"white\",\"linecolor\":\"white\",\"ticks\":\"\",\"title\":{\"standoff\":15},\"zerolinecolor\":\"white\",\"zerolinewidth\":2},\"yaxis\":{\"automargin\":true,\"gridcolor\":\"white\",\"linecolor\":\"white\",\"ticks\":\"\",\"title\":{\"standoff\":15},\"zerolinecolor\":\"white\",\"zerolinewidth\":2}}},\"legend\":{\"tracegroupgap\":0},\"margin\":{\"t\":60}},                        {\"responsive\": true}                    ).then(function(){\n",
              "                            \n",
              "var gd = document.getElementById('c9ac543a-0dbd-4522-b5a1-b3f0366490ba');\n",
              "var x = new MutationObserver(function (mutations, observer) {{\n",
              "        var display = window.getComputedStyle(gd).display;\n",
              "        if (!display || display === 'none') {{\n",
              "            console.log([gd, 'removed!']);\n",
              "            Plotly.purge(gd);\n",
              "            observer.disconnect();\n",
              "        }}\n",
              "}});\n",
              "\n",
              "// Listen for the removal of the full notebook cells\n",
              "var notebookContainer = gd.closest('#notebook-container');\n",
              "if (notebookContainer) {{\n",
              "    x.observe(notebookContainer, {childList: true});\n",
              "}}\n",
              "\n",
              "// Listen for the clearing of the current output cell\n",
              "var outputEl = gd.closest('.output');\n",
              "if (outputEl) {{\n",
              "    x.observe(outputEl, {childList: true});\n",
              "}}\n",
              "\n",
              "                        })                };                            </script>        </div>\n",
              "</body>\n",
              "</html>"
            ]
          },
          "metadata": {}
        }
      ],
      "source": [
        "plot = px.parallel_categories(posture_personality_df, dimensions=['INTROVERTISM', 'POSTURE'])\n",
        "plot.show()"
      ]
    },
    {
      "cell_type": "code",
      "execution_count": 1192,
      "metadata": {
        "colab": {
          "base_uri": "https://localhost:8080/",
          "height": 542
        },
        "id": "ycmvlVIJftJ6",
        "outputId": "0804e226-eaa0-4134-c9bc-7291fabb04b9"
      },
      "outputs": [
        {
          "output_type": "display_data",
          "data": {
            "text/html": [
              "<html>\n",
              "<head><meta charset=\"utf-8\" /></head>\n",
              "<body>\n",
              "    <div>            <script src=\"https://cdnjs.cloudflare.com/ajax/libs/mathjax/2.7.5/MathJax.js?config=TeX-AMS-MML_SVG\"></script><script type=\"text/javascript\">if (window.MathJax) {MathJax.Hub.Config({SVG: {font: \"STIX-Web\"}});}</script>                <script type=\"text/javascript\">window.PlotlyConfig = {MathJaxConfig: 'local'};</script>\n",
              "        <script src=\"https://cdn.plot.ly/plotly-2.8.3.min.js\"></script>                <div id=\"454f595b-f4be-4d2b-95c5-b01d30df0f2b\" class=\"plotly-graph-div\" style=\"height:525px; width:100%;\"></div>            <script type=\"text/javascript\">                                    window.PLOTLYENV=window.PLOTLYENV || {};                                    if (document.getElementById(\"454f595b-f4be-4d2b-95c5-b01d30df0f2b\")) {                    Plotly.newPlot(                        \"454f595b-f4be-4d2b-95c5-b01d30df0f2b\",                        [{\"dimensions\":[{\"label\":\"SENSING\",\"values\":[\"High\",\"High\",\"High\",\"Extreme\",\"Extreme\",\"High\",\"Extreme\",\"High\",\"High\",\"High\",\"Low\",\"Extreme\",\"High\",\"Moderate\",\"Extreme\",\"High\",\"High\",\"Moderate\",\"High\",\"High\",\"Moderate\",\"Extreme\",\"High\",\"Extreme\",\"Moderate\",\"Extreme\",\"Extreme\",\"High\",\"Moderate\",\"Low\",\"High\",\"High\",\"High\",\"Low\",\"Extreme\",\"High\",\"Moderate\",\"Low\",\"Extreme\",\"Moderate\",\"Moderate\",\"High\",\"Extreme\",\"Moderate\",\"Moderate\",\"High\",\"Extreme\",\"Moderate\",\"High\",\"High\",\"Extreme\",\"Moderate\",\"High\",\"High\",\"High\",\"Extreme\",\"High\",\"High\",\"Extreme\",\"High\",\"Extreme\",\"High\",\"High\",\"Moderate\",\"High\",\"Extreme\",\"Moderate\",\"Low\",\"High\",\"Moderate\",\"Extreme\",\"High\",\"High\",\"High\",\"High\",\"High\",\"High\",\"High\",\"High\",\"Moderate\",\"Moderate\",\"High\",\"High\",\"Moderate\",\"Moderate\",\"Moderate\",\"Moderate\",\"Extreme\",\"High\",\"High\",\"High\",\"Moderate\",\"Extreme\",\"High\",\"Moderate\",\"Moderate\"]},{\"label\":\"POSTURE\",\"values\":[\"A\",\"B\",\"A\",\"D\",\"A\",\"D\",\"B\",\"D\",\"C\",\"D\",\"B\",\"B\",\"D\",\"B\",\"A\",\"D\",\"A\",\"B\",\"B\",\"C\",\"D\",\"B\",\"B\",\"D\",\"C\",\"C\",\"A\",\"D\",\"D\",\"A\",\"A\",\"D\",\"B\",\"C\",\"D\",\"C\",\"C\",\"A\",\"B\",\"B\",\"C\",\"D\",\"A\",\"A\",\"A\",\"D\",\"D\",\"B\",\"B\",\"B\",\"C\",\"B\",\"A\",\"D\",\"B\",\"B\",\"B\",\"B\",\"C\",\"B\",\"B\",\"A\",\"B\",\"C\",\"A\",\"B\",\"C\",\"B\",\"C\",\"D\",\"A\",\"C\",\"B\",\"C\",\"B\",\"A\",\"C\",\"D\",\"B\",\"B\",\"C\",\"C\",\"D\",\"B\",\"D\",\"A\",\"A\",\"B\",\"B\",\"C\",\"A\",\"B\",\"B\",\"B\",\"A\",\"A\"]}],\"domain\":{\"x\":[0.0,1.0],\"y\":[0.0,1.0]},\"name\":\"\",\"type\":\"parcats\"}],                        {\"template\":{\"data\":{\"bar\":[{\"error_x\":{\"color\":\"#2a3f5f\"},\"error_y\":{\"color\":\"#2a3f5f\"},\"marker\":{\"line\":{\"color\":\"#E5ECF6\",\"width\":0.5},\"pattern\":{\"fillmode\":\"overlay\",\"size\":10,\"solidity\":0.2}},\"type\":\"bar\"}],\"barpolar\":[{\"marker\":{\"line\":{\"color\":\"#E5ECF6\",\"width\":0.5},\"pattern\":{\"fillmode\":\"overlay\",\"size\":10,\"solidity\":0.2}},\"type\":\"barpolar\"}],\"carpet\":[{\"aaxis\":{\"endlinecolor\":\"#2a3f5f\",\"gridcolor\":\"white\",\"linecolor\":\"white\",\"minorgridcolor\":\"white\",\"startlinecolor\":\"#2a3f5f\"},\"baxis\":{\"endlinecolor\":\"#2a3f5f\",\"gridcolor\":\"white\",\"linecolor\":\"white\",\"minorgridcolor\":\"white\",\"startlinecolor\":\"#2a3f5f\"},\"type\":\"carpet\"}],\"choropleth\":[{\"colorbar\":{\"outlinewidth\":0,\"ticks\":\"\"},\"type\":\"choropleth\"}],\"contour\":[{\"colorbar\":{\"outlinewidth\":0,\"ticks\":\"\"},\"colorscale\":[[0.0,\"#0d0887\"],[0.1111111111111111,\"#46039f\"],[0.2222222222222222,\"#7201a8\"],[0.3333333333333333,\"#9c179e\"],[0.4444444444444444,\"#bd3786\"],[0.5555555555555556,\"#d8576b\"],[0.6666666666666666,\"#ed7953\"],[0.7777777777777778,\"#fb9f3a\"],[0.8888888888888888,\"#fdca26\"],[1.0,\"#f0f921\"]],\"type\":\"contour\"}],\"contourcarpet\":[{\"colorbar\":{\"outlinewidth\":0,\"ticks\":\"\"},\"type\":\"contourcarpet\"}],\"heatmap\":[{\"colorbar\":{\"outlinewidth\":0,\"ticks\":\"\"},\"colorscale\":[[0.0,\"#0d0887\"],[0.1111111111111111,\"#46039f\"],[0.2222222222222222,\"#7201a8\"],[0.3333333333333333,\"#9c179e\"],[0.4444444444444444,\"#bd3786\"],[0.5555555555555556,\"#d8576b\"],[0.6666666666666666,\"#ed7953\"],[0.7777777777777778,\"#fb9f3a\"],[0.8888888888888888,\"#fdca26\"],[1.0,\"#f0f921\"]],\"type\":\"heatmap\"}],\"heatmapgl\":[{\"colorbar\":{\"outlinewidth\":0,\"ticks\":\"\"},\"colorscale\":[[0.0,\"#0d0887\"],[0.1111111111111111,\"#46039f\"],[0.2222222222222222,\"#7201a8\"],[0.3333333333333333,\"#9c179e\"],[0.4444444444444444,\"#bd3786\"],[0.5555555555555556,\"#d8576b\"],[0.6666666666666666,\"#ed7953\"],[0.7777777777777778,\"#fb9f3a\"],[0.8888888888888888,\"#fdca26\"],[1.0,\"#f0f921\"]],\"type\":\"heatmapgl\"}],\"histogram\":[{\"marker\":{\"pattern\":{\"fillmode\":\"overlay\",\"size\":10,\"solidity\":0.2}},\"type\":\"histogram\"}],\"histogram2d\":[{\"colorbar\":{\"outlinewidth\":0,\"ticks\":\"\"},\"colorscale\":[[0.0,\"#0d0887\"],[0.1111111111111111,\"#46039f\"],[0.2222222222222222,\"#7201a8\"],[0.3333333333333333,\"#9c179e\"],[0.4444444444444444,\"#bd3786\"],[0.5555555555555556,\"#d8576b\"],[0.6666666666666666,\"#ed7953\"],[0.7777777777777778,\"#fb9f3a\"],[0.8888888888888888,\"#fdca26\"],[1.0,\"#f0f921\"]],\"type\":\"histogram2d\"}],\"histogram2dcontour\":[{\"colorbar\":{\"outlinewidth\":0,\"ticks\":\"\"},\"colorscale\":[[0.0,\"#0d0887\"],[0.1111111111111111,\"#46039f\"],[0.2222222222222222,\"#7201a8\"],[0.3333333333333333,\"#9c179e\"],[0.4444444444444444,\"#bd3786\"],[0.5555555555555556,\"#d8576b\"],[0.6666666666666666,\"#ed7953\"],[0.7777777777777778,\"#fb9f3a\"],[0.8888888888888888,\"#fdca26\"],[1.0,\"#f0f921\"]],\"type\":\"histogram2dcontour\"}],\"mesh3d\":[{\"colorbar\":{\"outlinewidth\":0,\"ticks\":\"\"},\"type\":\"mesh3d\"}],\"parcoords\":[{\"line\":{\"colorbar\":{\"outlinewidth\":0,\"ticks\":\"\"}},\"type\":\"parcoords\"}],\"pie\":[{\"automargin\":true,\"type\":\"pie\"}],\"scatter\":[{\"marker\":{\"colorbar\":{\"outlinewidth\":0,\"ticks\":\"\"}},\"type\":\"scatter\"}],\"scatter3d\":[{\"line\":{\"colorbar\":{\"outlinewidth\":0,\"ticks\":\"\"}},\"marker\":{\"colorbar\":{\"outlinewidth\":0,\"ticks\":\"\"}},\"type\":\"scatter3d\"}],\"scattercarpet\":[{\"marker\":{\"colorbar\":{\"outlinewidth\":0,\"ticks\":\"\"}},\"type\":\"scattercarpet\"}],\"scattergeo\":[{\"marker\":{\"colorbar\":{\"outlinewidth\":0,\"ticks\":\"\"}},\"type\":\"scattergeo\"}],\"scattergl\":[{\"marker\":{\"colorbar\":{\"outlinewidth\":0,\"ticks\":\"\"}},\"type\":\"scattergl\"}],\"scattermapbox\":[{\"marker\":{\"colorbar\":{\"outlinewidth\":0,\"ticks\":\"\"}},\"type\":\"scattermapbox\"}],\"scatterpolar\":[{\"marker\":{\"colorbar\":{\"outlinewidth\":0,\"ticks\":\"\"}},\"type\":\"scatterpolar\"}],\"scatterpolargl\":[{\"marker\":{\"colorbar\":{\"outlinewidth\":0,\"ticks\":\"\"}},\"type\":\"scatterpolargl\"}],\"scatterternary\":[{\"marker\":{\"colorbar\":{\"outlinewidth\":0,\"ticks\":\"\"}},\"type\":\"scatterternary\"}],\"surface\":[{\"colorbar\":{\"outlinewidth\":0,\"ticks\":\"\"},\"colorscale\":[[0.0,\"#0d0887\"],[0.1111111111111111,\"#46039f\"],[0.2222222222222222,\"#7201a8\"],[0.3333333333333333,\"#9c179e\"],[0.4444444444444444,\"#bd3786\"],[0.5555555555555556,\"#d8576b\"],[0.6666666666666666,\"#ed7953\"],[0.7777777777777778,\"#fb9f3a\"],[0.8888888888888888,\"#fdca26\"],[1.0,\"#f0f921\"]],\"type\":\"surface\"}],\"table\":[{\"cells\":{\"fill\":{\"color\":\"#EBF0F8\"},\"line\":{\"color\":\"white\"}},\"header\":{\"fill\":{\"color\":\"#C8D4E3\"},\"line\":{\"color\":\"white\"}},\"type\":\"table\"}]},\"layout\":{\"annotationdefaults\":{\"arrowcolor\":\"#2a3f5f\",\"arrowhead\":0,\"arrowwidth\":1},\"autotypenumbers\":\"strict\",\"coloraxis\":{\"colorbar\":{\"outlinewidth\":0,\"ticks\":\"\"}},\"colorscale\":{\"diverging\":[[0,\"#8e0152\"],[0.1,\"#c51b7d\"],[0.2,\"#de77ae\"],[0.3,\"#f1b6da\"],[0.4,\"#fde0ef\"],[0.5,\"#f7f7f7\"],[0.6,\"#e6f5d0\"],[0.7,\"#b8e186\"],[0.8,\"#7fbc41\"],[0.9,\"#4d9221\"],[1,\"#276419\"]],\"sequential\":[[0.0,\"#0d0887\"],[0.1111111111111111,\"#46039f\"],[0.2222222222222222,\"#7201a8\"],[0.3333333333333333,\"#9c179e\"],[0.4444444444444444,\"#bd3786\"],[0.5555555555555556,\"#d8576b\"],[0.6666666666666666,\"#ed7953\"],[0.7777777777777778,\"#fb9f3a\"],[0.8888888888888888,\"#fdca26\"],[1.0,\"#f0f921\"]],\"sequentialminus\":[[0.0,\"#0d0887\"],[0.1111111111111111,\"#46039f\"],[0.2222222222222222,\"#7201a8\"],[0.3333333333333333,\"#9c179e\"],[0.4444444444444444,\"#bd3786\"],[0.5555555555555556,\"#d8576b\"],[0.6666666666666666,\"#ed7953\"],[0.7777777777777778,\"#fb9f3a\"],[0.8888888888888888,\"#fdca26\"],[1.0,\"#f0f921\"]]},\"colorway\":[\"#636efa\",\"#EF553B\",\"#00cc96\",\"#ab63fa\",\"#FFA15A\",\"#19d3f3\",\"#FF6692\",\"#B6E880\",\"#FF97FF\",\"#FECB52\"],\"font\":{\"color\":\"#2a3f5f\"},\"geo\":{\"bgcolor\":\"white\",\"lakecolor\":\"white\",\"landcolor\":\"#E5ECF6\",\"showlakes\":true,\"showland\":true,\"subunitcolor\":\"white\"},\"hoverlabel\":{\"align\":\"left\"},\"hovermode\":\"closest\",\"mapbox\":{\"style\":\"light\"},\"paper_bgcolor\":\"white\",\"plot_bgcolor\":\"#E5ECF6\",\"polar\":{\"angularaxis\":{\"gridcolor\":\"white\",\"linecolor\":\"white\",\"ticks\":\"\"},\"bgcolor\":\"#E5ECF6\",\"radialaxis\":{\"gridcolor\":\"white\",\"linecolor\":\"white\",\"ticks\":\"\"}},\"scene\":{\"xaxis\":{\"backgroundcolor\":\"#E5ECF6\",\"gridcolor\":\"white\",\"gridwidth\":2,\"linecolor\":\"white\",\"showbackground\":true,\"ticks\":\"\",\"zerolinecolor\":\"white\"},\"yaxis\":{\"backgroundcolor\":\"#E5ECF6\",\"gridcolor\":\"white\",\"gridwidth\":2,\"linecolor\":\"white\",\"showbackground\":true,\"ticks\":\"\",\"zerolinecolor\":\"white\"},\"zaxis\":{\"backgroundcolor\":\"#E5ECF6\",\"gridcolor\":\"white\",\"gridwidth\":2,\"linecolor\":\"white\",\"showbackground\":true,\"ticks\":\"\",\"zerolinecolor\":\"white\"}},\"shapedefaults\":{\"line\":{\"color\":\"#2a3f5f\"}},\"ternary\":{\"aaxis\":{\"gridcolor\":\"white\",\"linecolor\":\"white\",\"ticks\":\"\"},\"baxis\":{\"gridcolor\":\"white\",\"linecolor\":\"white\",\"ticks\":\"\"},\"bgcolor\":\"#E5ECF6\",\"caxis\":{\"gridcolor\":\"white\",\"linecolor\":\"white\",\"ticks\":\"\"}},\"title\":{\"x\":0.05},\"xaxis\":{\"automargin\":true,\"gridcolor\":\"white\",\"linecolor\":\"white\",\"ticks\":\"\",\"title\":{\"standoff\":15},\"zerolinecolor\":\"white\",\"zerolinewidth\":2},\"yaxis\":{\"automargin\":true,\"gridcolor\":\"white\",\"linecolor\":\"white\",\"ticks\":\"\",\"title\":{\"standoff\":15},\"zerolinecolor\":\"white\",\"zerolinewidth\":2}}},\"legend\":{\"tracegroupgap\":0},\"margin\":{\"t\":60}},                        {\"responsive\": true}                    ).then(function(){\n",
              "                            \n",
              "var gd = document.getElementById('454f595b-f4be-4d2b-95c5-b01d30df0f2b');\n",
              "var x = new MutationObserver(function (mutations, observer) {{\n",
              "        var display = window.getComputedStyle(gd).display;\n",
              "        if (!display || display === 'none') {{\n",
              "            console.log([gd, 'removed!']);\n",
              "            Plotly.purge(gd);\n",
              "            observer.disconnect();\n",
              "        }}\n",
              "}});\n",
              "\n",
              "// Listen for the removal of the full notebook cells\n",
              "var notebookContainer = gd.closest('#notebook-container');\n",
              "if (notebookContainer) {{\n",
              "    x.observe(notebookContainer, {childList: true});\n",
              "}}\n",
              "\n",
              "// Listen for the clearing of the current output cell\n",
              "var outputEl = gd.closest('.output');\n",
              "if (outputEl) {{\n",
              "    x.observe(outputEl, {childList: true});\n",
              "}}\n",
              "\n",
              "                        })                };                            </script>        </div>\n",
              "</body>\n",
              "</html>"
            ]
          },
          "metadata": {}
        }
      ],
      "source": [
        "plot = px.parallel_categories(posture_personality_df, dimensions=['SENSING', 'POSTURE'])\n",
        "plot.show()"
      ]
    },
    {
      "cell_type": "code",
      "execution_count": 1193,
      "metadata": {
        "colab": {
          "base_uri": "https://localhost:8080/",
          "height": 542
        },
        "id": "gS9bkyWBftTr",
        "outputId": "8d548836-6275-417e-ee62-d6cfefd1ac9e"
      },
      "outputs": [
        {
          "output_type": "display_data",
          "data": {
            "text/html": [
              "<html>\n",
              "<head><meta charset=\"utf-8\" /></head>\n",
              "<body>\n",
              "    <div>            <script src=\"https://cdnjs.cloudflare.com/ajax/libs/mathjax/2.7.5/MathJax.js?config=TeX-AMS-MML_SVG\"></script><script type=\"text/javascript\">if (window.MathJax) {MathJax.Hub.Config({SVG: {font: \"STIX-Web\"}});}</script>                <script type=\"text/javascript\">window.PlotlyConfig = {MathJaxConfig: 'local'};</script>\n",
              "        <script src=\"https://cdn.plot.ly/plotly-2.8.3.min.js\"></script>                <div id=\"c26c6c1b-f789-4d12-87de-6d19f6ed8152\" class=\"plotly-graph-div\" style=\"height:525px; width:100%;\"></div>            <script type=\"text/javascript\">                                    window.PLOTLYENV=window.PLOTLYENV || {};                                    if (document.getElementById(\"c26c6c1b-f789-4d12-87de-6d19f6ed8152\")) {                    Plotly.newPlot(                        \"c26c6c1b-f789-4d12-87de-6d19f6ed8152\",                        [{\"dimensions\":[{\"label\":\"THINKING\",\"values\":[\"Moderate\",\"Extreme\",\"High\",\"High\",\"Moderate\",\"Moderate\",\"High\",\"High\",\"Moderate\",\"Moderate\",\"High\",\"Moderate\",\"Moderate\",\"High\",\"High\",\"Extreme\",\"High\",\"Moderate\",\"Moderate\",\"Moderate\",\"Moderate\",\"High\",\"High\",\"Low\",\"Low\",\"Low\",\"High\",\"High\",\"High\",\"Low\",\"Moderate\",\"High\",\"High\",\"High\",\"Moderate\",\"High\",\"Moderate\",\"Low\",\"High\",\"Moderate\",\"Low\",\"Moderate\",\"Low\",\"Low\",\"Low\",\"Extreme\",\"Low\",\"Low\",\"High\",\"Moderate\",\"Low\",\"High\",\"Low\",\"Moderate\",\"Moderate\",\"Moderate\",\"Low\",\"Moderate\",\"Low\",\"High\",\"Low\",\"High\",\"Moderate\",\"Extreme\",\"Low\",\"High\",\"High\",\"High\",\"High\",\"Low\",\"Moderate\",\"Moderate\",\"High\",\"Moderate\",\"High\",\"Moderate\",\"High\",\"Moderate\",\"High\",\"Low\",\"Low\",\"Low\",\"Moderate\",\"Moderate\",\"Low\",\"Low\",\"High\",\"Moderate\",\"Moderate\",\"Low\",\"Moderate\",\"Low\",\"High\",\"Low\",\"Low\",\"Low\"]},{\"label\":\"POSTURE\",\"values\":[\"A\",\"B\",\"A\",\"D\",\"A\",\"D\",\"B\",\"D\",\"C\",\"D\",\"B\",\"B\",\"D\",\"B\",\"A\",\"D\",\"A\",\"B\",\"B\",\"C\",\"D\",\"B\",\"B\",\"D\",\"C\",\"C\",\"A\",\"D\",\"D\",\"A\",\"A\",\"D\",\"B\",\"C\",\"D\",\"C\",\"C\",\"A\",\"B\",\"B\",\"C\",\"D\",\"A\",\"A\",\"A\",\"D\",\"D\",\"B\",\"B\",\"B\",\"C\",\"B\",\"A\",\"D\",\"B\",\"B\",\"B\",\"B\",\"C\",\"B\",\"B\",\"A\",\"B\",\"C\",\"A\",\"B\",\"C\",\"B\",\"C\",\"D\",\"A\",\"C\",\"B\",\"C\",\"B\",\"A\",\"C\",\"D\",\"B\",\"B\",\"C\",\"C\",\"D\",\"B\",\"D\",\"A\",\"A\",\"B\",\"B\",\"C\",\"A\",\"B\",\"B\",\"B\",\"A\",\"A\"]}],\"domain\":{\"x\":[0.0,1.0],\"y\":[0.0,1.0]},\"name\":\"\",\"type\":\"parcats\"}],                        {\"template\":{\"data\":{\"bar\":[{\"error_x\":{\"color\":\"#2a3f5f\"},\"error_y\":{\"color\":\"#2a3f5f\"},\"marker\":{\"line\":{\"color\":\"#E5ECF6\",\"width\":0.5},\"pattern\":{\"fillmode\":\"overlay\",\"size\":10,\"solidity\":0.2}},\"type\":\"bar\"}],\"barpolar\":[{\"marker\":{\"line\":{\"color\":\"#E5ECF6\",\"width\":0.5},\"pattern\":{\"fillmode\":\"overlay\",\"size\":10,\"solidity\":0.2}},\"type\":\"barpolar\"}],\"carpet\":[{\"aaxis\":{\"endlinecolor\":\"#2a3f5f\",\"gridcolor\":\"white\",\"linecolor\":\"white\",\"minorgridcolor\":\"white\",\"startlinecolor\":\"#2a3f5f\"},\"baxis\":{\"endlinecolor\":\"#2a3f5f\",\"gridcolor\":\"white\",\"linecolor\":\"white\",\"minorgridcolor\":\"white\",\"startlinecolor\":\"#2a3f5f\"},\"type\":\"carpet\"}],\"choropleth\":[{\"colorbar\":{\"outlinewidth\":0,\"ticks\":\"\"},\"type\":\"choropleth\"}],\"contour\":[{\"colorbar\":{\"outlinewidth\":0,\"ticks\":\"\"},\"colorscale\":[[0.0,\"#0d0887\"],[0.1111111111111111,\"#46039f\"],[0.2222222222222222,\"#7201a8\"],[0.3333333333333333,\"#9c179e\"],[0.4444444444444444,\"#bd3786\"],[0.5555555555555556,\"#d8576b\"],[0.6666666666666666,\"#ed7953\"],[0.7777777777777778,\"#fb9f3a\"],[0.8888888888888888,\"#fdca26\"],[1.0,\"#f0f921\"]],\"type\":\"contour\"}],\"contourcarpet\":[{\"colorbar\":{\"outlinewidth\":0,\"ticks\":\"\"},\"type\":\"contourcarpet\"}],\"heatmap\":[{\"colorbar\":{\"outlinewidth\":0,\"ticks\":\"\"},\"colorscale\":[[0.0,\"#0d0887\"],[0.1111111111111111,\"#46039f\"],[0.2222222222222222,\"#7201a8\"],[0.3333333333333333,\"#9c179e\"],[0.4444444444444444,\"#bd3786\"],[0.5555555555555556,\"#d8576b\"],[0.6666666666666666,\"#ed7953\"],[0.7777777777777778,\"#fb9f3a\"],[0.8888888888888888,\"#fdca26\"],[1.0,\"#f0f921\"]],\"type\":\"heatmap\"}],\"heatmapgl\":[{\"colorbar\":{\"outlinewidth\":0,\"ticks\":\"\"},\"colorscale\":[[0.0,\"#0d0887\"],[0.1111111111111111,\"#46039f\"],[0.2222222222222222,\"#7201a8\"],[0.3333333333333333,\"#9c179e\"],[0.4444444444444444,\"#bd3786\"],[0.5555555555555556,\"#d8576b\"],[0.6666666666666666,\"#ed7953\"],[0.7777777777777778,\"#fb9f3a\"],[0.8888888888888888,\"#fdca26\"],[1.0,\"#f0f921\"]],\"type\":\"heatmapgl\"}],\"histogram\":[{\"marker\":{\"pattern\":{\"fillmode\":\"overlay\",\"size\":10,\"solidity\":0.2}},\"type\":\"histogram\"}],\"histogram2d\":[{\"colorbar\":{\"outlinewidth\":0,\"ticks\":\"\"},\"colorscale\":[[0.0,\"#0d0887\"],[0.1111111111111111,\"#46039f\"],[0.2222222222222222,\"#7201a8\"],[0.3333333333333333,\"#9c179e\"],[0.4444444444444444,\"#bd3786\"],[0.5555555555555556,\"#d8576b\"],[0.6666666666666666,\"#ed7953\"],[0.7777777777777778,\"#fb9f3a\"],[0.8888888888888888,\"#fdca26\"],[1.0,\"#f0f921\"]],\"type\":\"histogram2d\"}],\"histogram2dcontour\":[{\"colorbar\":{\"outlinewidth\":0,\"ticks\":\"\"},\"colorscale\":[[0.0,\"#0d0887\"],[0.1111111111111111,\"#46039f\"],[0.2222222222222222,\"#7201a8\"],[0.3333333333333333,\"#9c179e\"],[0.4444444444444444,\"#bd3786\"],[0.5555555555555556,\"#d8576b\"],[0.6666666666666666,\"#ed7953\"],[0.7777777777777778,\"#fb9f3a\"],[0.8888888888888888,\"#fdca26\"],[1.0,\"#f0f921\"]],\"type\":\"histogram2dcontour\"}],\"mesh3d\":[{\"colorbar\":{\"outlinewidth\":0,\"ticks\":\"\"},\"type\":\"mesh3d\"}],\"parcoords\":[{\"line\":{\"colorbar\":{\"outlinewidth\":0,\"ticks\":\"\"}},\"type\":\"parcoords\"}],\"pie\":[{\"automargin\":true,\"type\":\"pie\"}],\"scatter\":[{\"marker\":{\"colorbar\":{\"outlinewidth\":0,\"ticks\":\"\"}},\"type\":\"scatter\"}],\"scatter3d\":[{\"line\":{\"colorbar\":{\"outlinewidth\":0,\"ticks\":\"\"}},\"marker\":{\"colorbar\":{\"outlinewidth\":0,\"ticks\":\"\"}},\"type\":\"scatter3d\"}],\"scattercarpet\":[{\"marker\":{\"colorbar\":{\"outlinewidth\":0,\"ticks\":\"\"}},\"type\":\"scattercarpet\"}],\"scattergeo\":[{\"marker\":{\"colorbar\":{\"outlinewidth\":0,\"ticks\":\"\"}},\"type\":\"scattergeo\"}],\"scattergl\":[{\"marker\":{\"colorbar\":{\"outlinewidth\":0,\"ticks\":\"\"}},\"type\":\"scattergl\"}],\"scattermapbox\":[{\"marker\":{\"colorbar\":{\"outlinewidth\":0,\"ticks\":\"\"}},\"type\":\"scattermapbox\"}],\"scatterpolar\":[{\"marker\":{\"colorbar\":{\"outlinewidth\":0,\"ticks\":\"\"}},\"type\":\"scatterpolar\"}],\"scatterpolargl\":[{\"marker\":{\"colorbar\":{\"outlinewidth\":0,\"ticks\":\"\"}},\"type\":\"scatterpolargl\"}],\"scatterternary\":[{\"marker\":{\"colorbar\":{\"outlinewidth\":0,\"ticks\":\"\"}},\"type\":\"scatterternary\"}],\"surface\":[{\"colorbar\":{\"outlinewidth\":0,\"ticks\":\"\"},\"colorscale\":[[0.0,\"#0d0887\"],[0.1111111111111111,\"#46039f\"],[0.2222222222222222,\"#7201a8\"],[0.3333333333333333,\"#9c179e\"],[0.4444444444444444,\"#bd3786\"],[0.5555555555555556,\"#d8576b\"],[0.6666666666666666,\"#ed7953\"],[0.7777777777777778,\"#fb9f3a\"],[0.8888888888888888,\"#fdca26\"],[1.0,\"#f0f921\"]],\"type\":\"surface\"}],\"table\":[{\"cells\":{\"fill\":{\"color\":\"#EBF0F8\"},\"line\":{\"color\":\"white\"}},\"header\":{\"fill\":{\"color\":\"#C8D4E3\"},\"line\":{\"color\":\"white\"}},\"type\":\"table\"}]},\"layout\":{\"annotationdefaults\":{\"arrowcolor\":\"#2a3f5f\",\"arrowhead\":0,\"arrowwidth\":1},\"autotypenumbers\":\"strict\",\"coloraxis\":{\"colorbar\":{\"outlinewidth\":0,\"ticks\":\"\"}},\"colorscale\":{\"diverging\":[[0,\"#8e0152\"],[0.1,\"#c51b7d\"],[0.2,\"#de77ae\"],[0.3,\"#f1b6da\"],[0.4,\"#fde0ef\"],[0.5,\"#f7f7f7\"],[0.6,\"#e6f5d0\"],[0.7,\"#b8e186\"],[0.8,\"#7fbc41\"],[0.9,\"#4d9221\"],[1,\"#276419\"]],\"sequential\":[[0.0,\"#0d0887\"],[0.1111111111111111,\"#46039f\"],[0.2222222222222222,\"#7201a8\"],[0.3333333333333333,\"#9c179e\"],[0.4444444444444444,\"#bd3786\"],[0.5555555555555556,\"#d8576b\"],[0.6666666666666666,\"#ed7953\"],[0.7777777777777778,\"#fb9f3a\"],[0.8888888888888888,\"#fdca26\"],[1.0,\"#f0f921\"]],\"sequentialminus\":[[0.0,\"#0d0887\"],[0.1111111111111111,\"#46039f\"],[0.2222222222222222,\"#7201a8\"],[0.3333333333333333,\"#9c179e\"],[0.4444444444444444,\"#bd3786\"],[0.5555555555555556,\"#d8576b\"],[0.6666666666666666,\"#ed7953\"],[0.7777777777777778,\"#fb9f3a\"],[0.8888888888888888,\"#fdca26\"],[1.0,\"#f0f921\"]]},\"colorway\":[\"#636efa\",\"#EF553B\",\"#00cc96\",\"#ab63fa\",\"#FFA15A\",\"#19d3f3\",\"#FF6692\",\"#B6E880\",\"#FF97FF\",\"#FECB52\"],\"font\":{\"color\":\"#2a3f5f\"},\"geo\":{\"bgcolor\":\"white\",\"lakecolor\":\"white\",\"landcolor\":\"#E5ECF6\",\"showlakes\":true,\"showland\":true,\"subunitcolor\":\"white\"},\"hoverlabel\":{\"align\":\"left\"},\"hovermode\":\"closest\",\"mapbox\":{\"style\":\"light\"},\"paper_bgcolor\":\"white\",\"plot_bgcolor\":\"#E5ECF6\",\"polar\":{\"angularaxis\":{\"gridcolor\":\"white\",\"linecolor\":\"white\",\"ticks\":\"\"},\"bgcolor\":\"#E5ECF6\",\"radialaxis\":{\"gridcolor\":\"white\",\"linecolor\":\"white\",\"ticks\":\"\"}},\"scene\":{\"xaxis\":{\"backgroundcolor\":\"#E5ECF6\",\"gridcolor\":\"white\",\"gridwidth\":2,\"linecolor\":\"white\",\"showbackground\":true,\"ticks\":\"\",\"zerolinecolor\":\"white\"},\"yaxis\":{\"backgroundcolor\":\"#E5ECF6\",\"gridcolor\":\"white\",\"gridwidth\":2,\"linecolor\":\"white\",\"showbackground\":true,\"ticks\":\"\",\"zerolinecolor\":\"white\"},\"zaxis\":{\"backgroundcolor\":\"#E5ECF6\",\"gridcolor\":\"white\",\"gridwidth\":2,\"linecolor\":\"white\",\"showbackground\":true,\"ticks\":\"\",\"zerolinecolor\":\"white\"}},\"shapedefaults\":{\"line\":{\"color\":\"#2a3f5f\"}},\"ternary\":{\"aaxis\":{\"gridcolor\":\"white\",\"linecolor\":\"white\",\"ticks\":\"\"},\"baxis\":{\"gridcolor\":\"white\",\"linecolor\":\"white\",\"ticks\":\"\"},\"bgcolor\":\"#E5ECF6\",\"caxis\":{\"gridcolor\":\"white\",\"linecolor\":\"white\",\"ticks\":\"\"}},\"title\":{\"x\":0.05},\"xaxis\":{\"automargin\":true,\"gridcolor\":\"white\",\"linecolor\":\"white\",\"ticks\":\"\",\"title\":{\"standoff\":15},\"zerolinecolor\":\"white\",\"zerolinewidth\":2},\"yaxis\":{\"automargin\":true,\"gridcolor\":\"white\",\"linecolor\":\"white\",\"ticks\":\"\",\"title\":{\"standoff\":15},\"zerolinecolor\":\"white\",\"zerolinewidth\":2}}},\"legend\":{\"tracegroupgap\":0},\"margin\":{\"t\":60}},                        {\"responsive\": true}                    ).then(function(){\n",
              "                            \n",
              "var gd = document.getElementById('c26c6c1b-f789-4d12-87de-6d19f6ed8152');\n",
              "var x = new MutationObserver(function (mutations, observer) {{\n",
              "        var display = window.getComputedStyle(gd).display;\n",
              "        if (!display || display === 'none') {{\n",
              "            console.log([gd, 'removed!']);\n",
              "            Plotly.purge(gd);\n",
              "            observer.disconnect();\n",
              "        }}\n",
              "}});\n",
              "\n",
              "// Listen for the removal of the full notebook cells\n",
              "var notebookContainer = gd.closest('#notebook-container');\n",
              "if (notebookContainer) {{\n",
              "    x.observe(notebookContainer, {childList: true});\n",
              "}}\n",
              "\n",
              "// Listen for the clearing of the current output cell\n",
              "var outputEl = gd.closest('.output');\n",
              "if (outputEl) {{\n",
              "    x.observe(outputEl, {childList: true});\n",
              "}}\n",
              "\n",
              "                        })                };                            </script>        </div>\n",
              "</body>\n",
              "</html>"
            ]
          },
          "metadata": {}
        }
      ],
      "source": [
        "plot = px.parallel_categories(posture_personality_df, dimensions=['THINKING', 'POSTURE'])\n",
        "plot.show()"
      ]
    },
    {
      "cell_type": "code",
      "execution_count": 1194,
      "metadata": {
        "colab": {
          "base_uri": "https://localhost:8080/",
          "height": 542
        },
        "id": "tHTC9MJvftcp",
        "outputId": "f675bb98-43bf-4d28-e756-04b74d767262"
      },
      "outputs": [
        {
          "output_type": "display_data",
          "data": {
            "text/html": [
              "<html>\n",
              "<head><meta charset=\"utf-8\" /></head>\n",
              "<body>\n",
              "    <div>            <script src=\"https://cdnjs.cloudflare.com/ajax/libs/mathjax/2.7.5/MathJax.js?config=TeX-AMS-MML_SVG\"></script><script type=\"text/javascript\">if (window.MathJax) {MathJax.Hub.Config({SVG: {font: \"STIX-Web\"}});}</script>                <script type=\"text/javascript\">window.PlotlyConfig = {MathJaxConfig: 'local'};</script>\n",
              "        <script src=\"https://cdn.plot.ly/plotly-2.8.3.min.js\"></script>                <div id=\"a8fa5c10-975f-473a-9835-b6a2d1d2d5c7\" class=\"plotly-graph-div\" style=\"height:525px; width:100%;\"></div>            <script type=\"text/javascript\">                                    window.PLOTLYENV=window.PLOTLYENV || {};                                    if (document.getElementById(\"a8fa5c10-975f-473a-9835-b6a2d1d2d5c7\")) {                    Plotly.newPlot(                        \"a8fa5c10-975f-473a-9835-b6a2d1d2d5c7\",                        [{\"dimensions\":[{\"label\":\"FEELING\",\"values\":[\"High\",\"Low\",\"Moderate\",\"Moderate\",\"High\",\"High\",\"Moderate\",\"Low\",\"High\",\"High\",\"Moderate\",\"High\",\"High\",\"Moderate\",\"Moderate\",\"Low\",\"Moderate\",\"High\",\"Moderate\",\"High\",\"High\",\"Low\",\"Moderate\",\"High\",\"Extreme\",\"High\",\"Moderate\",\"Moderate\",\"Moderate\",\"Extreme\",\"Moderate\",\"Moderate\",\"Moderate\",\"Moderate\",\"High\",\"Moderate\",\"High\",\"Extreme\",\"Moderate\",\"High\",\"High\",\"Moderate\",\"High\",\"Extreme\",\"High\",\"Low\",\"Extreme\",\"Extreme\",\"Moderate\",\"High\",\"High\",\"Moderate\",\"Extreme\",\"Moderate\",\"High\",\"High\",\"Extreme\",\"High\",\"High\",\"Moderate\",\"Extreme\",\"Low\",\"High\",\"Low\",\"High\",\"Moderate\",\"Moderate\",\"Low\",\"Moderate\",\"Extreme\",\"Moderate\",\"Moderate\",\"Moderate\",\"Moderate\",\"Low\",\"Moderate\",\"Moderate\",\"High\",\"Moderate\",\"High\",\"High\",\"High\",\"High\",\"High\",\"High\",\"Extreme\",\"Low\",\"High\",\"High\",\"Extreme\",\"Moderate\",\"Extreme\",\"Low\",\"High\",\"High\",\"High\"]},{\"label\":\"POSTURE\",\"values\":[\"A\",\"B\",\"A\",\"D\",\"A\",\"D\",\"B\",\"D\",\"C\",\"D\",\"B\",\"B\",\"D\",\"B\",\"A\",\"D\",\"A\",\"B\",\"B\",\"C\",\"D\",\"B\",\"B\",\"D\",\"C\",\"C\",\"A\",\"D\",\"D\",\"A\",\"A\",\"D\",\"B\",\"C\",\"D\",\"C\",\"C\",\"A\",\"B\",\"B\",\"C\",\"D\",\"A\",\"A\",\"A\",\"D\",\"D\",\"B\",\"B\",\"B\",\"C\",\"B\",\"A\",\"D\",\"B\",\"B\",\"B\",\"B\",\"C\",\"B\",\"B\",\"A\",\"B\",\"C\",\"A\",\"B\",\"C\",\"B\",\"C\",\"D\",\"A\",\"C\",\"B\",\"C\",\"B\",\"A\",\"C\",\"D\",\"B\",\"B\",\"C\",\"C\",\"D\",\"B\",\"D\",\"A\",\"A\",\"B\",\"B\",\"C\",\"A\",\"B\",\"B\",\"B\",\"A\",\"A\"]}],\"domain\":{\"x\":[0.0,1.0],\"y\":[0.0,1.0]},\"name\":\"\",\"type\":\"parcats\"}],                        {\"template\":{\"data\":{\"bar\":[{\"error_x\":{\"color\":\"#2a3f5f\"},\"error_y\":{\"color\":\"#2a3f5f\"},\"marker\":{\"line\":{\"color\":\"#E5ECF6\",\"width\":0.5},\"pattern\":{\"fillmode\":\"overlay\",\"size\":10,\"solidity\":0.2}},\"type\":\"bar\"}],\"barpolar\":[{\"marker\":{\"line\":{\"color\":\"#E5ECF6\",\"width\":0.5},\"pattern\":{\"fillmode\":\"overlay\",\"size\":10,\"solidity\":0.2}},\"type\":\"barpolar\"}],\"carpet\":[{\"aaxis\":{\"endlinecolor\":\"#2a3f5f\",\"gridcolor\":\"white\",\"linecolor\":\"white\",\"minorgridcolor\":\"white\",\"startlinecolor\":\"#2a3f5f\"},\"baxis\":{\"endlinecolor\":\"#2a3f5f\",\"gridcolor\":\"white\",\"linecolor\":\"white\",\"minorgridcolor\":\"white\",\"startlinecolor\":\"#2a3f5f\"},\"type\":\"carpet\"}],\"choropleth\":[{\"colorbar\":{\"outlinewidth\":0,\"ticks\":\"\"},\"type\":\"choropleth\"}],\"contour\":[{\"colorbar\":{\"outlinewidth\":0,\"ticks\":\"\"},\"colorscale\":[[0.0,\"#0d0887\"],[0.1111111111111111,\"#46039f\"],[0.2222222222222222,\"#7201a8\"],[0.3333333333333333,\"#9c179e\"],[0.4444444444444444,\"#bd3786\"],[0.5555555555555556,\"#d8576b\"],[0.6666666666666666,\"#ed7953\"],[0.7777777777777778,\"#fb9f3a\"],[0.8888888888888888,\"#fdca26\"],[1.0,\"#f0f921\"]],\"type\":\"contour\"}],\"contourcarpet\":[{\"colorbar\":{\"outlinewidth\":0,\"ticks\":\"\"},\"type\":\"contourcarpet\"}],\"heatmap\":[{\"colorbar\":{\"outlinewidth\":0,\"ticks\":\"\"},\"colorscale\":[[0.0,\"#0d0887\"],[0.1111111111111111,\"#46039f\"],[0.2222222222222222,\"#7201a8\"],[0.3333333333333333,\"#9c179e\"],[0.4444444444444444,\"#bd3786\"],[0.5555555555555556,\"#d8576b\"],[0.6666666666666666,\"#ed7953\"],[0.7777777777777778,\"#fb9f3a\"],[0.8888888888888888,\"#fdca26\"],[1.0,\"#f0f921\"]],\"type\":\"heatmap\"}],\"heatmapgl\":[{\"colorbar\":{\"outlinewidth\":0,\"ticks\":\"\"},\"colorscale\":[[0.0,\"#0d0887\"],[0.1111111111111111,\"#46039f\"],[0.2222222222222222,\"#7201a8\"],[0.3333333333333333,\"#9c179e\"],[0.4444444444444444,\"#bd3786\"],[0.5555555555555556,\"#d8576b\"],[0.6666666666666666,\"#ed7953\"],[0.7777777777777778,\"#fb9f3a\"],[0.8888888888888888,\"#fdca26\"],[1.0,\"#f0f921\"]],\"type\":\"heatmapgl\"}],\"histogram\":[{\"marker\":{\"pattern\":{\"fillmode\":\"overlay\",\"size\":10,\"solidity\":0.2}},\"type\":\"histogram\"}],\"histogram2d\":[{\"colorbar\":{\"outlinewidth\":0,\"ticks\":\"\"},\"colorscale\":[[0.0,\"#0d0887\"],[0.1111111111111111,\"#46039f\"],[0.2222222222222222,\"#7201a8\"],[0.3333333333333333,\"#9c179e\"],[0.4444444444444444,\"#bd3786\"],[0.5555555555555556,\"#d8576b\"],[0.6666666666666666,\"#ed7953\"],[0.7777777777777778,\"#fb9f3a\"],[0.8888888888888888,\"#fdca26\"],[1.0,\"#f0f921\"]],\"type\":\"histogram2d\"}],\"histogram2dcontour\":[{\"colorbar\":{\"outlinewidth\":0,\"ticks\":\"\"},\"colorscale\":[[0.0,\"#0d0887\"],[0.1111111111111111,\"#46039f\"],[0.2222222222222222,\"#7201a8\"],[0.3333333333333333,\"#9c179e\"],[0.4444444444444444,\"#bd3786\"],[0.5555555555555556,\"#d8576b\"],[0.6666666666666666,\"#ed7953\"],[0.7777777777777778,\"#fb9f3a\"],[0.8888888888888888,\"#fdca26\"],[1.0,\"#f0f921\"]],\"type\":\"histogram2dcontour\"}],\"mesh3d\":[{\"colorbar\":{\"outlinewidth\":0,\"ticks\":\"\"},\"type\":\"mesh3d\"}],\"parcoords\":[{\"line\":{\"colorbar\":{\"outlinewidth\":0,\"ticks\":\"\"}},\"type\":\"parcoords\"}],\"pie\":[{\"automargin\":true,\"type\":\"pie\"}],\"scatter\":[{\"marker\":{\"colorbar\":{\"outlinewidth\":0,\"ticks\":\"\"}},\"type\":\"scatter\"}],\"scatter3d\":[{\"line\":{\"colorbar\":{\"outlinewidth\":0,\"ticks\":\"\"}},\"marker\":{\"colorbar\":{\"outlinewidth\":0,\"ticks\":\"\"}},\"type\":\"scatter3d\"}],\"scattercarpet\":[{\"marker\":{\"colorbar\":{\"outlinewidth\":0,\"ticks\":\"\"}},\"type\":\"scattercarpet\"}],\"scattergeo\":[{\"marker\":{\"colorbar\":{\"outlinewidth\":0,\"ticks\":\"\"}},\"type\":\"scattergeo\"}],\"scattergl\":[{\"marker\":{\"colorbar\":{\"outlinewidth\":0,\"ticks\":\"\"}},\"type\":\"scattergl\"}],\"scattermapbox\":[{\"marker\":{\"colorbar\":{\"outlinewidth\":0,\"ticks\":\"\"}},\"type\":\"scattermapbox\"}],\"scatterpolar\":[{\"marker\":{\"colorbar\":{\"outlinewidth\":0,\"ticks\":\"\"}},\"type\":\"scatterpolar\"}],\"scatterpolargl\":[{\"marker\":{\"colorbar\":{\"outlinewidth\":0,\"ticks\":\"\"}},\"type\":\"scatterpolargl\"}],\"scatterternary\":[{\"marker\":{\"colorbar\":{\"outlinewidth\":0,\"ticks\":\"\"}},\"type\":\"scatterternary\"}],\"surface\":[{\"colorbar\":{\"outlinewidth\":0,\"ticks\":\"\"},\"colorscale\":[[0.0,\"#0d0887\"],[0.1111111111111111,\"#46039f\"],[0.2222222222222222,\"#7201a8\"],[0.3333333333333333,\"#9c179e\"],[0.4444444444444444,\"#bd3786\"],[0.5555555555555556,\"#d8576b\"],[0.6666666666666666,\"#ed7953\"],[0.7777777777777778,\"#fb9f3a\"],[0.8888888888888888,\"#fdca26\"],[1.0,\"#f0f921\"]],\"type\":\"surface\"}],\"table\":[{\"cells\":{\"fill\":{\"color\":\"#EBF0F8\"},\"line\":{\"color\":\"white\"}},\"header\":{\"fill\":{\"color\":\"#C8D4E3\"},\"line\":{\"color\":\"white\"}},\"type\":\"table\"}]},\"layout\":{\"annotationdefaults\":{\"arrowcolor\":\"#2a3f5f\",\"arrowhead\":0,\"arrowwidth\":1},\"autotypenumbers\":\"strict\",\"coloraxis\":{\"colorbar\":{\"outlinewidth\":0,\"ticks\":\"\"}},\"colorscale\":{\"diverging\":[[0,\"#8e0152\"],[0.1,\"#c51b7d\"],[0.2,\"#de77ae\"],[0.3,\"#f1b6da\"],[0.4,\"#fde0ef\"],[0.5,\"#f7f7f7\"],[0.6,\"#e6f5d0\"],[0.7,\"#b8e186\"],[0.8,\"#7fbc41\"],[0.9,\"#4d9221\"],[1,\"#276419\"]],\"sequential\":[[0.0,\"#0d0887\"],[0.1111111111111111,\"#46039f\"],[0.2222222222222222,\"#7201a8\"],[0.3333333333333333,\"#9c179e\"],[0.4444444444444444,\"#bd3786\"],[0.5555555555555556,\"#d8576b\"],[0.6666666666666666,\"#ed7953\"],[0.7777777777777778,\"#fb9f3a\"],[0.8888888888888888,\"#fdca26\"],[1.0,\"#f0f921\"]],\"sequentialminus\":[[0.0,\"#0d0887\"],[0.1111111111111111,\"#46039f\"],[0.2222222222222222,\"#7201a8\"],[0.3333333333333333,\"#9c179e\"],[0.4444444444444444,\"#bd3786\"],[0.5555555555555556,\"#d8576b\"],[0.6666666666666666,\"#ed7953\"],[0.7777777777777778,\"#fb9f3a\"],[0.8888888888888888,\"#fdca26\"],[1.0,\"#f0f921\"]]},\"colorway\":[\"#636efa\",\"#EF553B\",\"#00cc96\",\"#ab63fa\",\"#FFA15A\",\"#19d3f3\",\"#FF6692\",\"#B6E880\",\"#FF97FF\",\"#FECB52\"],\"font\":{\"color\":\"#2a3f5f\"},\"geo\":{\"bgcolor\":\"white\",\"lakecolor\":\"white\",\"landcolor\":\"#E5ECF6\",\"showlakes\":true,\"showland\":true,\"subunitcolor\":\"white\"},\"hoverlabel\":{\"align\":\"left\"},\"hovermode\":\"closest\",\"mapbox\":{\"style\":\"light\"},\"paper_bgcolor\":\"white\",\"plot_bgcolor\":\"#E5ECF6\",\"polar\":{\"angularaxis\":{\"gridcolor\":\"white\",\"linecolor\":\"white\",\"ticks\":\"\"},\"bgcolor\":\"#E5ECF6\",\"radialaxis\":{\"gridcolor\":\"white\",\"linecolor\":\"white\",\"ticks\":\"\"}},\"scene\":{\"xaxis\":{\"backgroundcolor\":\"#E5ECF6\",\"gridcolor\":\"white\",\"gridwidth\":2,\"linecolor\":\"white\",\"showbackground\":true,\"ticks\":\"\",\"zerolinecolor\":\"white\"},\"yaxis\":{\"backgroundcolor\":\"#E5ECF6\",\"gridcolor\":\"white\",\"gridwidth\":2,\"linecolor\":\"white\",\"showbackground\":true,\"ticks\":\"\",\"zerolinecolor\":\"white\"},\"zaxis\":{\"backgroundcolor\":\"#E5ECF6\",\"gridcolor\":\"white\",\"gridwidth\":2,\"linecolor\":\"white\",\"showbackground\":true,\"ticks\":\"\",\"zerolinecolor\":\"white\"}},\"shapedefaults\":{\"line\":{\"color\":\"#2a3f5f\"}},\"ternary\":{\"aaxis\":{\"gridcolor\":\"white\",\"linecolor\":\"white\",\"ticks\":\"\"},\"baxis\":{\"gridcolor\":\"white\",\"linecolor\":\"white\",\"ticks\":\"\"},\"bgcolor\":\"#E5ECF6\",\"caxis\":{\"gridcolor\":\"white\",\"linecolor\":\"white\",\"ticks\":\"\"}},\"title\":{\"x\":0.05},\"xaxis\":{\"automargin\":true,\"gridcolor\":\"white\",\"linecolor\":\"white\",\"ticks\":\"\",\"title\":{\"standoff\":15},\"zerolinecolor\":\"white\",\"zerolinewidth\":2},\"yaxis\":{\"automargin\":true,\"gridcolor\":\"white\",\"linecolor\":\"white\",\"ticks\":\"\",\"title\":{\"standoff\":15},\"zerolinecolor\":\"white\",\"zerolinewidth\":2}}},\"legend\":{\"tracegroupgap\":0},\"margin\":{\"t\":60}},                        {\"responsive\": true}                    ).then(function(){\n",
              "                            \n",
              "var gd = document.getElementById('a8fa5c10-975f-473a-9835-b6a2d1d2d5c7');\n",
              "var x = new MutationObserver(function (mutations, observer) {{\n",
              "        var display = window.getComputedStyle(gd).display;\n",
              "        if (!display || display === 'none') {{\n",
              "            console.log([gd, 'removed!']);\n",
              "            Plotly.purge(gd);\n",
              "            observer.disconnect();\n",
              "        }}\n",
              "}});\n",
              "\n",
              "// Listen for the removal of the full notebook cells\n",
              "var notebookContainer = gd.closest('#notebook-container');\n",
              "if (notebookContainer) {{\n",
              "    x.observe(notebookContainer, {childList: true});\n",
              "}}\n",
              "\n",
              "// Listen for the clearing of the current output cell\n",
              "var outputEl = gd.closest('.output');\n",
              "if (outputEl) {{\n",
              "    x.observe(outputEl, {childList: true});\n",
              "}}\n",
              "\n",
              "                        })                };                            </script>        </div>\n",
              "</body>\n",
              "</html>"
            ]
          },
          "metadata": {}
        }
      ],
      "source": [
        "plot = px.parallel_categories(posture_personality_df, dimensions=['FEELING', 'POSTURE'])\n",
        "plot.show()"
      ]
    },
    {
      "cell_type": "code",
      "execution_count": 1195,
      "metadata": {
        "colab": {
          "base_uri": "https://localhost:8080/",
          "height": 542
        },
        "id": "tHMYLG_SftmV",
        "outputId": "6049c117-d7fa-43db-a9f3-14b190dce2cd"
      },
      "outputs": [
        {
          "output_type": "display_data",
          "data": {
            "text/html": [
              "<html>\n",
              "<head><meta charset=\"utf-8\" /></head>\n",
              "<body>\n",
              "    <div>            <script src=\"https://cdnjs.cloudflare.com/ajax/libs/mathjax/2.7.5/MathJax.js?config=TeX-AMS-MML_SVG\"></script><script type=\"text/javascript\">if (window.MathJax) {MathJax.Hub.Config({SVG: {font: \"STIX-Web\"}});}</script>                <script type=\"text/javascript\">window.PlotlyConfig = {MathJaxConfig: 'local'};</script>\n",
              "        <script src=\"https://cdn.plot.ly/plotly-2.8.3.min.js\"></script>                <div id=\"ca87b36b-dcff-4a99-91a9-10332c34ff77\" class=\"plotly-graph-div\" style=\"height:525px; width:100%;\"></div>            <script type=\"text/javascript\">                                    window.PLOTLYENV=window.PLOTLYENV || {};                                    if (document.getElementById(\"ca87b36b-dcff-4a99-91a9-10332c34ff77\")) {                    Plotly.newPlot(                        \"ca87b36b-dcff-4a99-91a9-10332c34ff77\",                        [{\"dimensions\":[{\"label\":\"JUDGING\",\"values\":[\"High\",\"High\",\"Moderate\",\"High\",\"High\",\"Low\",\"Moderate\",\"High\",\"High\",\"High\",\"Moderate\",\"Moderate\",\"High\",\"High\",\"Moderate\",\"High\",\"Extreme\",\"Low\",\"Moderate\",\"Moderate\",\"Moderate\",\"Moderate\",\"Moderate\",\"High\",\"Moderate\",\"High\",\"Moderate\",\"Low\",\"High\",\"Low\",\"Low\",\"High\",\"Low\",\"High\",\"Low\",\"High\",\"High\",\"Low\",\"Low\",\"Extreme\",\"Moderate\",\"Moderate\",\"Low\",\"Low\",\"Low\",\"High\",\"Low\",\"High\",\"Moderate\",\"High\",\"Moderate\",\"Low\",\"Low\",\"High\",\"High\",\"High\",\"Low\",\"Low\",\"High\",\"Moderate\",\"High\",\"Moderate\",\"Low\",\"Moderate\",\"Low\",\"Extreme\",\"High\",\"Moderate\",\"Low\",\"Low\",\"Moderate\",\"High\",\"High\",\"High\",\"High\",\"High\",\"Moderate\",\"Low\",\"High\",\"Moderate\",\"Low\",\"Moderate\",\"Low\",\"Low\",\"Moderate\",\"Low\",\"Low\",\"High\",\"High\",\"Low\",\"Moderate\",\"Moderate\",\"Low\",\"High\",\"Low\",\"Low\"]},{\"label\":\"POSTURE\",\"values\":[\"A\",\"B\",\"A\",\"D\",\"A\",\"D\",\"B\",\"D\",\"C\",\"D\",\"B\",\"B\",\"D\",\"B\",\"A\",\"D\",\"A\",\"B\",\"B\",\"C\",\"D\",\"B\",\"B\",\"D\",\"C\",\"C\",\"A\",\"D\",\"D\",\"A\",\"A\",\"D\",\"B\",\"C\",\"D\",\"C\",\"C\",\"A\",\"B\",\"B\",\"C\",\"D\",\"A\",\"A\",\"A\",\"D\",\"D\",\"B\",\"B\",\"B\",\"C\",\"B\",\"A\",\"D\",\"B\",\"B\",\"B\",\"B\",\"C\",\"B\",\"B\",\"A\",\"B\",\"C\",\"A\",\"B\",\"C\",\"B\",\"C\",\"D\",\"A\",\"C\",\"B\",\"C\",\"B\",\"A\",\"C\",\"D\",\"B\",\"B\",\"C\",\"C\",\"D\",\"B\",\"D\",\"A\",\"A\",\"B\",\"B\",\"C\",\"A\",\"B\",\"B\",\"B\",\"A\",\"A\"]}],\"domain\":{\"x\":[0.0,1.0],\"y\":[0.0,1.0]},\"name\":\"\",\"type\":\"parcats\"}],                        {\"template\":{\"data\":{\"bar\":[{\"error_x\":{\"color\":\"#2a3f5f\"},\"error_y\":{\"color\":\"#2a3f5f\"},\"marker\":{\"line\":{\"color\":\"#E5ECF6\",\"width\":0.5},\"pattern\":{\"fillmode\":\"overlay\",\"size\":10,\"solidity\":0.2}},\"type\":\"bar\"}],\"barpolar\":[{\"marker\":{\"line\":{\"color\":\"#E5ECF6\",\"width\":0.5},\"pattern\":{\"fillmode\":\"overlay\",\"size\":10,\"solidity\":0.2}},\"type\":\"barpolar\"}],\"carpet\":[{\"aaxis\":{\"endlinecolor\":\"#2a3f5f\",\"gridcolor\":\"white\",\"linecolor\":\"white\",\"minorgridcolor\":\"white\",\"startlinecolor\":\"#2a3f5f\"},\"baxis\":{\"endlinecolor\":\"#2a3f5f\",\"gridcolor\":\"white\",\"linecolor\":\"white\",\"minorgridcolor\":\"white\",\"startlinecolor\":\"#2a3f5f\"},\"type\":\"carpet\"}],\"choropleth\":[{\"colorbar\":{\"outlinewidth\":0,\"ticks\":\"\"},\"type\":\"choropleth\"}],\"contour\":[{\"colorbar\":{\"outlinewidth\":0,\"ticks\":\"\"},\"colorscale\":[[0.0,\"#0d0887\"],[0.1111111111111111,\"#46039f\"],[0.2222222222222222,\"#7201a8\"],[0.3333333333333333,\"#9c179e\"],[0.4444444444444444,\"#bd3786\"],[0.5555555555555556,\"#d8576b\"],[0.6666666666666666,\"#ed7953\"],[0.7777777777777778,\"#fb9f3a\"],[0.8888888888888888,\"#fdca26\"],[1.0,\"#f0f921\"]],\"type\":\"contour\"}],\"contourcarpet\":[{\"colorbar\":{\"outlinewidth\":0,\"ticks\":\"\"},\"type\":\"contourcarpet\"}],\"heatmap\":[{\"colorbar\":{\"outlinewidth\":0,\"ticks\":\"\"},\"colorscale\":[[0.0,\"#0d0887\"],[0.1111111111111111,\"#46039f\"],[0.2222222222222222,\"#7201a8\"],[0.3333333333333333,\"#9c179e\"],[0.4444444444444444,\"#bd3786\"],[0.5555555555555556,\"#d8576b\"],[0.6666666666666666,\"#ed7953\"],[0.7777777777777778,\"#fb9f3a\"],[0.8888888888888888,\"#fdca26\"],[1.0,\"#f0f921\"]],\"type\":\"heatmap\"}],\"heatmapgl\":[{\"colorbar\":{\"outlinewidth\":0,\"ticks\":\"\"},\"colorscale\":[[0.0,\"#0d0887\"],[0.1111111111111111,\"#46039f\"],[0.2222222222222222,\"#7201a8\"],[0.3333333333333333,\"#9c179e\"],[0.4444444444444444,\"#bd3786\"],[0.5555555555555556,\"#d8576b\"],[0.6666666666666666,\"#ed7953\"],[0.7777777777777778,\"#fb9f3a\"],[0.8888888888888888,\"#fdca26\"],[1.0,\"#f0f921\"]],\"type\":\"heatmapgl\"}],\"histogram\":[{\"marker\":{\"pattern\":{\"fillmode\":\"overlay\",\"size\":10,\"solidity\":0.2}},\"type\":\"histogram\"}],\"histogram2d\":[{\"colorbar\":{\"outlinewidth\":0,\"ticks\":\"\"},\"colorscale\":[[0.0,\"#0d0887\"],[0.1111111111111111,\"#46039f\"],[0.2222222222222222,\"#7201a8\"],[0.3333333333333333,\"#9c179e\"],[0.4444444444444444,\"#bd3786\"],[0.5555555555555556,\"#d8576b\"],[0.6666666666666666,\"#ed7953\"],[0.7777777777777778,\"#fb9f3a\"],[0.8888888888888888,\"#fdca26\"],[1.0,\"#f0f921\"]],\"type\":\"histogram2d\"}],\"histogram2dcontour\":[{\"colorbar\":{\"outlinewidth\":0,\"ticks\":\"\"},\"colorscale\":[[0.0,\"#0d0887\"],[0.1111111111111111,\"#46039f\"],[0.2222222222222222,\"#7201a8\"],[0.3333333333333333,\"#9c179e\"],[0.4444444444444444,\"#bd3786\"],[0.5555555555555556,\"#d8576b\"],[0.6666666666666666,\"#ed7953\"],[0.7777777777777778,\"#fb9f3a\"],[0.8888888888888888,\"#fdca26\"],[1.0,\"#f0f921\"]],\"type\":\"histogram2dcontour\"}],\"mesh3d\":[{\"colorbar\":{\"outlinewidth\":0,\"ticks\":\"\"},\"type\":\"mesh3d\"}],\"parcoords\":[{\"line\":{\"colorbar\":{\"outlinewidth\":0,\"ticks\":\"\"}},\"type\":\"parcoords\"}],\"pie\":[{\"automargin\":true,\"type\":\"pie\"}],\"scatter\":[{\"marker\":{\"colorbar\":{\"outlinewidth\":0,\"ticks\":\"\"}},\"type\":\"scatter\"}],\"scatter3d\":[{\"line\":{\"colorbar\":{\"outlinewidth\":0,\"ticks\":\"\"}},\"marker\":{\"colorbar\":{\"outlinewidth\":0,\"ticks\":\"\"}},\"type\":\"scatter3d\"}],\"scattercarpet\":[{\"marker\":{\"colorbar\":{\"outlinewidth\":0,\"ticks\":\"\"}},\"type\":\"scattercarpet\"}],\"scattergeo\":[{\"marker\":{\"colorbar\":{\"outlinewidth\":0,\"ticks\":\"\"}},\"type\":\"scattergeo\"}],\"scattergl\":[{\"marker\":{\"colorbar\":{\"outlinewidth\":0,\"ticks\":\"\"}},\"type\":\"scattergl\"}],\"scattermapbox\":[{\"marker\":{\"colorbar\":{\"outlinewidth\":0,\"ticks\":\"\"}},\"type\":\"scattermapbox\"}],\"scatterpolar\":[{\"marker\":{\"colorbar\":{\"outlinewidth\":0,\"ticks\":\"\"}},\"type\":\"scatterpolar\"}],\"scatterpolargl\":[{\"marker\":{\"colorbar\":{\"outlinewidth\":0,\"ticks\":\"\"}},\"type\":\"scatterpolargl\"}],\"scatterternary\":[{\"marker\":{\"colorbar\":{\"outlinewidth\":0,\"ticks\":\"\"}},\"type\":\"scatterternary\"}],\"surface\":[{\"colorbar\":{\"outlinewidth\":0,\"ticks\":\"\"},\"colorscale\":[[0.0,\"#0d0887\"],[0.1111111111111111,\"#46039f\"],[0.2222222222222222,\"#7201a8\"],[0.3333333333333333,\"#9c179e\"],[0.4444444444444444,\"#bd3786\"],[0.5555555555555556,\"#d8576b\"],[0.6666666666666666,\"#ed7953\"],[0.7777777777777778,\"#fb9f3a\"],[0.8888888888888888,\"#fdca26\"],[1.0,\"#f0f921\"]],\"type\":\"surface\"}],\"table\":[{\"cells\":{\"fill\":{\"color\":\"#EBF0F8\"},\"line\":{\"color\":\"white\"}},\"header\":{\"fill\":{\"color\":\"#C8D4E3\"},\"line\":{\"color\":\"white\"}},\"type\":\"table\"}]},\"layout\":{\"annotationdefaults\":{\"arrowcolor\":\"#2a3f5f\",\"arrowhead\":0,\"arrowwidth\":1},\"autotypenumbers\":\"strict\",\"coloraxis\":{\"colorbar\":{\"outlinewidth\":0,\"ticks\":\"\"}},\"colorscale\":{\"diverging\":[[0,\"#8e0152\"],[0.1,\"#c51b7d\"],[0.2,\"#de77ae\"],[0.3,\"#f1b6da\"],[0.4,\"#fde0ef\"],[0.5,\"#f7f7f7\"],[0.6,\"#e6f5d0\"],[0.7,\"#b8e186\"],[0.8,\"#7fbc41\"],[0.9,\"#4d9221\"],[1,\"#276419\"]],\"sequential\":[[0.0,\"#0d0887\"],[0.1111111111111111,\"#46039f\"],[0.2222222222222222,\"#7201a8\"],[0.3333333333333333,\"#9c179e\"],[0.4444444444444444,\"#bd3786\"],[0.5555555555555556,\"#d8576b\"],[0.6666666666666666,\"#ed7953\"],[0.7777777777777778,\"#fb9f3a\"],[0.8888888888888888,\"#fdca26\"],[1.0,\"#f0f921\"]],\"sequentialminus\":[[0.0,\"#0d0887\"],[0.1111111111111111,\"#46039f\"],[0.2222222222222222,\"#7201a8\"],[0.3333333333333333,\"#9c179e\"],[0.4444444444444444,\"#bd3786\"],[0.5555555555555556,\"#d8576b\"],[0.6666666666666666,\"#ed7953\"],[0.7777777777777778,\"#fb9f3a\"],[0.8888888888888888,\"#fdca26\"],[1.0,\"#f0f921\"]]},\"colorway\":[\"#636efa\",\"#EF553B\",\"#00cc96\",\"#ab63fa\",\"#FFA15A\",\"#19d3f3\",\"#FF6692\",\"#B6E880\",\"#FF97FF\",\"#FECB52\"],\"font\":{\"color\":\"#2a3f5f\"},\"geo\":{\"bgcolor\":\"white\",\"lakecolor\":\"white\",\"landcolor\":\"#E5ECF6\",\"showlakes\":true,\"showland\":true,\"subunitcolor\":\"white\"},\"hoverlabel\":{\"align\":\"left\"},\"hovermode\":\"closest\",\"mapbox\":{\"style\":\"light\"},\"paper_bgcolor\":\"white\",\"plot_bgcolor\":\"#E5ECF6\",\"polar\":{\"angularaxis\":{\"gridcolor\":\"white\",\"linecolor\":\"white\",\"ticks\":\"\"},\"bgcolor\":\"#E5ECF6\",\"radialaxis\":{\"gridcolor\":\"white\",\"linecolor\":\"white\",\"ticks\":\"\"}},\"scene\":{\"xaxis\":{\"backgroundcolor\":\"#E5ECF6\",\"gridcolor\":\"white\",\"gridwidth\":2,\"linecolor\":\"white\",\"showbackground\":true,\"ticks\":\"\",\"zerolinecolor\":\"white\"},\"yaxis\":{\"backgroundcolor\":\"#E5ECF6\",\"gridcolor\":\"white\",\"gridwidth\":2,\"linecolor\":\"white\",\"showbackground\":true,\"ticks\":\"\",\"zerolinecolor\":\"white\"},\"zaxis\":{\"backgroundcolor\":\"#E5ECF6\",\"gridcolor\":\"white\",\"gridwidth\":2,\"linecolor\":\"white\",\"showbackground\":true,\"ticks\":\"\",\"zerolinecolor\":\"white\"}},\"shapedefaults\":{\"line\":{\"color\":\"#2a3f5f\"}},\"ternary\":{\"aaxis\":{\"gridcolor\":\"white\",\"linecolor\":\"white\",\"ticks\":\"\"},\"baxis\":{\"gridcolor\":\"white\",\"linecolor\":\"white\",\"ticks\":\"\"},\"bgcolor\":\"#E5ECF6\",\"caxis\":{\"gridcolor\":\"white\",\"linecolor\":\"white\",\"ticks\":\"\"}},\"title\":{\"x\":0.05},\"xaxis\":{\"automargin\":true,\"gridcolor\":\"white\",\"linecolor\":\"white\",\"ticks\":\"\",\"title\":{\"standoff\":15},\"zerolinecolor\":\"white\",\"zerolinewidth\":2},\"yaxis\":{\"automargin\":true,\"gridcolor\":\"white\",\"linecolor\":\"white\",\"ticks\":\"\",\"title\":{\"standoff\":15},\"zerolinecolor\":\"white\",\"zerolinewidth\":2}}},\"legend\":{\"tracegroupgap\":0},\"margin\":{\"t\":60}},                        {\"responsive\": true}                    ).then(function(){\n",
              "                            \n",
              "var gd = document.getElementById('ca87b36b-dcff-4a99-91a9-10332c34ff77');\n",
              "var x = new MutationObserver(function (mutations, observer) {{\n",
              "        var display = window.getComputedStyle(gd).display;\n",
              "        if (!display || display === 'none') {{\n",
              "            console.log([gd, 'removed!']);\n",
              "            Plotly.purge(gd);\n",
              "            observer.disconnect();\n",
              "        }}\n",
              "}});\n",
              "\n",
              "// Listen for the removal of the full notebook cells\n",
              "var notebookContainer = gd.closest('#notebook-container');\n",
              "if (notebookContainer) {{\n",
              "    x.observe(notebookContainer, {childList: true});\n",
              "}}\n",
              "\n",
              "// Listen for the clearing of the current output cell\n",
              "var outputEl = gd.closest('.output');\n",
              "if (outputEl) {{\n",
              "    x.observe(outputEl, {childList: true});\n",
              "}}\n",
              "\n",
              "                        })                };                            </script>        </div>\n",
              "</body>\n",
              "</html>"
            ]
          },
          "metadata": {}
        }
      ],
      "source": [
        "plot = px.parallel_categories(posture_personality_df, dimensions=['JUDGING', 'POSTURE'])\n",
        "plot.show()"
      ]
    },
    {
      "cell_type": "code",
      "execution_count": 1196,
      "metadata": {
        "colab": {
          "base_uri": "https://localhost:8080/",
          "height": 542
        },
        "id": "ivtj7Cxdftvj",
        "outputId": "067c14c4-c9f2-42d1-abdf-896d5c0aa305"
      },
      "outputs": [
        {
          "output_type": "display_data",
          "data": {
            "text/html": [
              "<html>\n",
              "<head><meta charset=\"utf-8\" /></head>\n",
              "<body>\n",
              "    <div>            <script src=\"https://cdnjs.cloudflare.com/ajax/libs/mathjax/2.7.5/MathJax.js?config=TeX-AMS-MML_SVG\"></script><script type=\"text/javascript\">if (window.MathJax) {MathJax.Hub.Config({SVG: {font: \"STIX-Web\"}});}</script>                <script type=\"text/javascript\">window.PlotlyConfig = {MathJaxConfig: 'local'};</script>\n",
              "        <script src=\"https://cdn.plot.ly/plotly-2.8.3.min.js\"></script>                <div id=\"ba50d5e7-4147-454c-be8d-581d3a8c74d5\" class=\"plotly-graph-div\" style=\"height:525px; width:100%;\"></div>            <script type=\"text/javascript\">                                    window.PLOTLYENV=window.PLOTLYENV || {};                                    if (document.getElementById(\"ba50d5e7-4147-454c-be8d-581d3a8c74d5\")) {                    Plotly.newPlot(                        \"ba50d5e7-4147-454c-be8d-581d3a8c74d5\",                        [{\"dimensions\":[{\"label\":\"PERCEIVING\",\"values\":[\"Low\",\"Moderate\",\"Moderate\",\"Low\",\"Low\",\"High\",\"High\",\"Low\",\"Moderate\",\"Low\",\"Moderate\",\"Moderate\",\"Moderate\",\"Low\",\"High\",\"Low\",\"Low\",\"High\",\"High\",\"High\",\"Moderate\",\"High\",\"High\",\"Low\",\"Moderate\",\"Moderate\",\"High\",\"High\",\"Low\",\"Extreme\",\"Extreme\",\"Low\",\"High\",\"Low\",\"High\",\"Low\",\"Moderate\",\"Extreme\",\"High\",\"Low\",\"Moderate\",\"Moderate\",\"Extreme\",\"Extreme\",\"High\",\"Moderate\",\"High\",\"Moderate\",\"Moderate\",\"Low\",\"Moderate\",\"High\",\"High\",\"Moderate\",\"Moderate\",\"Low\",\"High\",\"High\",\"Low\",\"High\",\"Low\",\"High\",\"High\",\"High\",\"High\",\"Low\",\"Low\",\"High\",\"High\",\"Extreme\",\"High\",\"Low\",\"Moderate\",\"Low\",\"Low\",\"Low\",\"Moderate\",\"High\",\"Low\",\"Moderate\",\"High\",\"High\",\"High\",\"High\",\"Moderate\",\"Extreme\",\"Extreme\",\"Moderate\",\"Moderate\",\"High\",\"Moderate\",\"Moderate\",\"Extreme\",\"Moderate\",\"Extreme\",\"Extreme\"]},{\"label\":\"POSTURE\",\"values\":[\"A\",\"B\",\"A\",\"D\",\"A\",\"D\",\"B\",\"D\",\"C\",\"D\",\"B\",\"B\",\"D\",\"B\",\"A\",\"D\",\"A\",\"B\",\"B\",\"C\",\"D\",\"B\",\"B\",\"D\",\"C\",\"C\",\"A\",\"D\",\"D\",\"A\",\"A\",\"D\",\"B\",\"C\",\"D\",\"C\",\"C\",\"A\",\"B\",\"B\",\"C\",\"D\",\"A\",\"A\",\"A\",\"D\",\"D\",\"B\",\"B\",\"B\",\"C\",\"B\",\"A\",\"D\",\"B\",\"B\",\"B\",\"B\",\"C\",\"B\",\"B\",\"A\",\"B\",\"C\",\"A\",\"B\",\"C\",\"B\",\"C\",\"D\",\"A\",\"C\",\"B\",\"C\",\"B\",\"A\",\"C\",\"D\",\"B\",\"B\",\"C\",\"C\",\"D\",\"B\",\"D\",\"A\",\"A\",\"B\",\"B\",\"C\",\"A\",\"B\",\"B\",\"B\",\"A\",\"A\"]}],\"domain\":{\"x\":[0.0,1.0],\"y\":[0.0,1.0]},\"name\":\"\",\"type\":\"parcats\"}],                        {\"template\":{\"data\":{\"bar\":[{\"error_x\":{\"color\":\"#2a3f5f\"},\"error_y\":{\"color\":\"#2a3f5f\"},\"marker\":{\"line\":{\"color\":\"#E5ECF6\",\"width\":0.5},\"pattern\":{\"fillmode\":\"overlay\",\"size\":10,\"solidity\":0.2}},\"type\":\"bar\"}],\"barpolar\":[{\"marker\":{\"line\":{\"color\":\"#E5ECF6\",\"width\":0.5},\"pattern\":{\"fillmode\":\"overlay\",\"size\":10,\"solidity\":0.2}},\"type\":\"barpolar\"}],\"carpet\":[{\"aaxis\":{\"endlinecolor\":\"#2a3f5f\",\"gridcolor\":\"white\",\"linecolor\":\"white\",\"minorgridcolor\":\"white\",\"startlinecolor\":\"#2a3f5f\"},\"baxis\":{\"endlinecolor\":\"#2a3f5f\",\"gridcolor\":\"white\",\"linecolor\":\"white\",\"minorgridcolor\":\"white\",\"startlinecolor\":\"#2a3f5f\"},\"type\":\"carpet\"}],\"choropleth\":[{\"colorbar\":{\"outlinewidth\":0,\"ticks\":\"\"},\"type\":\"choropleth\"}],\"contour\":[{\"colorbar\":{\"outlinewidth\":0,\"ticks\":\"\"},\"colorscale\":[[0.0,\"#0d0887\"],[0.1111111111111111,\"#46039f\"],[0.2222222222222222,\"#7201a8\"],[0.3333333333333333,\"#9c179e\"],[0.4444444444444444,\"#bd3786\"],[0.5555555555555556,\"#d8576b\"],[0.6666666666666666,\"#ed7953\"],[0.7777777777777778,\"#fb9f3a\"],[0.8888888888888888,\"#fdca26\"],[1.0,\"#f0f921\"]],\"type\":\"contour\"}],\"contourcarpet\":[{\"colorbar\":{\"outlinewidth\":0,\"ticks\":\"\"},\"type\":\"contourcarpet\"}],\"heatmap\":[{\"colorbar\":{\"outlinewidth\":0,\"ticks\":\"\"},\"colorscale\":[[0.0,\"#0d0887\"],[0.1111111111111111,\"#46039f\"],[0.2222222222222222,\"#7201a8\"],[0.3333333333333333,\"#9c179e\"],[0.4444444444444444,\"#bd3786\"],[0.5555555555555556,\"#d8576b\"],[0.6666666666666666,\"#ed7953\"],[0.7777777777777778,\"#fb9f3a\"],[0.8888888888888888,\"#fdca26\"],[1.0,\"#f0f921\"]],\"type\":\"heatmap\"}],\"heatmapgl\":[{\"colorbar\":{\"outlinewidth\":0,\"ticks\":\"\"},\"colorscale\":[[0.0,\"#0d0887\"],[0.1111111111111111,\"#46039f\"],[0.2222222222222222,\"#7201a8\"],[0.3333333333333333,\"#9c179e\"],[0.4444444444444444,\"#bd3786\"],[0.5555555555555556,\"#d8576b\"],[0.6666666666666666,\"#ed7953\"],[0.7777777777777778,\"#fb9f3a\"],[0.8888888888888888,\"#fdca26\"],[1.0,\"#f0f921\"]],\"type\":\"heatmapgl\"}],\"histogram\":[{\"marker\":{\"pattern\":{\"fillmode\":\"overlay\",\"size\":10,\"solidity\":0.2}},\"type\":\"histogram\"}],\"histogram2d\":[{\"colorbar\":{\"outlinewidth\":0,\"ticks\":\"\"},\"colorscale\":[[0.0,\"#0d0887\"],[0.1111111111111111,\"#46039f\"],[0.2222222222222222,\"#7201a8\"],[0.3333333333333333,\"#9c179e\"],[0.4444444444444444,\"#bd3786\"],[0.5555555555555556,\"#d8576b\"],[0.6666666666666666,\"#ed7953\"],[0.7777777777777778,\"#fb9f3a\"],[0.8888888888888888,\"#fdca26\"],[1.0,\"#f0f921\"]],\"type\":\"histogram2d\"}],\"histogram2dcontour\":[{\"colorbar\":{\"outlinewidth\":0,\"ticks\":\"\"},\"colorscale\":[[0.0,\"#0d0887\"],[0.1111111111111111,\"#46039f\"],[0.2222222222222222,\"#7201a8\"],[0.3333333333333333,\"#9c179e\"],[0.4444444444444444,\"#bd3786\"],[0.5555555555555556,\"#d8576b\"],[0.6666666666666666,\"#ed7953\"],[0.7777777777777778,\"#fb9f3a\"],[0.8888888888888888,\"#fdca26\"],[1.0,\"#f0f921\"]],\"type\":\"histogram2dcontour\"}],\"mesh3d\":[{\"colorbar\":{\"outlinewidth\":0,\"ticks\":\"\"},\"type\":\"mesh3d\"}],\"parcoords\":[{\"line\":{\"colorbar\":{\"outlinewidth\":0,\"ticks\":\"\"}},\"type\":\"parcoords\"}],\"pie\":[{\"automargin\":true,\"type\":\"pie\"}],\"scatter\":[{\"marker\":{\"colorbar\":{\"outlinewidth\":0,\"ticks\":\"\"}},\"type\":\"scatter\"}],\"scatter3d\":[{\"line\":{\"colorbar\":{\"outlinewidth\":0,\"ticks\":\"\"}},\"marker\":{\"colorbar\":{\"outlinewidth\":0,\"ticks\":\"\"}},\"type\":\"scatter3d\"}],\"scattercarpet\":[{\"marker\":{\"colorbar\":{\"outlinewidth\":0,\"ticks\":\"\"}},\"type\":\"scattercarpet\"}],\"scattergeo\":[{\"marker\":{\"colorbar\":{\"outlinewidth\":0,\"ticks\":\"\"}},\"type\":\"scattergeo\"}],\"scattergl\":[{\"marker\":{\"colorbar\":{\"outlinewidth\":0,\"ticks\":\"\"}},\"type\":\"scattergl\"}],\"scattermapbox\":[{\"marker\":{\"colorbar\":{\"outlinewidth\":0,\"ticks\":\"\"}},\"type\":\"scattermapbox\"}],\"scatterpolar\":[{\"marker\":{\"colorbar\":{\"outlinewidth\":0,\"ticks\":\"\"}},\"type\":\"scatterpolar\"}],\"scatterpolargl\":[{\"marker\":{\"colorbar\":{\"outlinewidth\":0,\"ticks\":\"\"}},\"type\":\"scatterpolargl\"}],\"scatterternary\":[{\"marker\":{\"colorbar\":{\"outlinewidth\":0,\"ticks\":\"\"}},\"type\":\"scatterternary\"}],\"surface\":[{\"colorbar\":{\"outlinewidth\":0,\"ticks\":\"\"},\"colorscale\":[[0.0,\"#0d0887\"],[0.1111111111111111,\"#46039f\"],[0.2222222222222222,\"#7201a8\"],[0.3333333333333333,\"#9c179e\"],[0.4444444444444444,\"#bd3786\"],[0.5555555555555556,\"#d8576b\"],[0.6666666666666666,\"#ed7953\"],[0.7777777777777778,\"#fb9f3a\"],[0.8888888888888888,\"#fdca26\"],[1.0,\"#f0f921\"]],\"type\":\"surface\"}],\"table\":[{\"cells\":{\"fill\":{\"color\":\"#EBF0F8\"},\"line\":{\"color\":\"white\"}},\"header\":{\"fill\":{\"color\":\"#C8D4E3\"},\"line\":{\"color\":\"white\"}},\"type\":\"table\"}]},\"layout\":{\"annotationdefaults\":{\"arrowcolor\":\"#2a3f5f\",\"arrowhead\":0,\"arrowwidth\":1},\"autotypenumbers\":\"strict\",\"coloraxis\":{\"colorbar\":{\"outlinewidth\":0,\"ticks\":\"\"}},\"colorscale\":{\"diverging\":[[0,\"#8e0152\"],[0.1,\"#c51b7d\"],[0.2,\"#de77ae\"],[0.3,\"#f1b6da\"],[0.4,\"#fde0ef\"],[0.5,\"#f7f7f7\"],[0.6,\"#e6f5d0\"],[0.7,\"#b8e186\"],[0.8,\"#7fbc41\"],[0.9,\"#4d9221\"],[1,\"#276419\"]],\"sequential\":[[0.0,\"#0d0887\"],[0.1111111111111111,\"#46039f\"],[0.2222222222222222,\"#7201a8\"],[0.3333333333333333,\"#9c179e\"],[0.4444444444444444,\"#bd3786\"],[0.5555555555555556,\"#d8576b\"],[0.6666666666666666,\"#ed7953\"],[0.7777777777777778,\"#fb9f3a\"],[0.8888888888888888,\"#fdca26\"],[1.0,\"#f0f921\"]],\"sequentialminus\":[[0.0,\"#0d0887\"],[0.1111111111111111,\"#46039f\"],[0.2222222222222222,\"#7201a8\"],[0.3333333333333333,\"#9c179e\"],[0.4444444444444444,\"#bd3786\"],[0.5555555555555556,\"#d8576b\"],[0.6666666666666666,\"#ed7953\"],[0.7777777777777778,\"#fb9f3a\"],[0.8888888888888888,\"#fdca26\"],[1.0,\"#f0f921\"]]},\"colorway\":[\"#636efa\",\"#EF553B\",\"#00cc96\",\"#ab63fa\",\"#FFA15A\",\"#19d3f3\",\"#FF6692\",\"#B6E880\",\"#FF97FF\",\"#FECB52\"],\"font\":{\"color\":\"#2a3f5f\"},\"geo\":{\"bgcolor\":\"white\",\"lakecolor\":\"white\",\"landcolor\":\"#E5ECF6\",\"showlakes\":true,\"showland\":true,\"subunitcolor\":\"white\"},\"hoverlabel\":{\"align\":\"left\"},\"hovermode\":\"closest\",\"mapbox\":{\"style\":\"light\"},\"paper_bgcolor\":\"white\",\"plot_bgcolor\":\"#E5ECF6\",\"polar\":{\"angularaxis\":{\"gridcolor\":\"white\",\"linecolor\":\"white\",\"ticks\":\"\"},\"bgcolor\":\"#E5ECF6\",\"radialaxis\":{\"gridcolor\":\"white\",\"linecolor\":\"white\",\"ticks\":\"\"}},\"scene\":{\"xaxis\":{\"backgroundcolor\":\"#E5ECF6\",\"gridcolor\":\"white\",\"gridwidth\":2,\"linecolor\":\"white\",\"showbackground\":true,\"ticks\":\"\",\"zerolinecolor\":\"white\"},\"yaxis\":{\"backgroundcolor\":\"#E5ECF6\",\"gridcolor\":\"white\",\"gridwidth\":2,\"linecolor\":\"white\",\"showbackground\":true,\"ticks\":\"\",\"zerolinecolor\":\"white\"},\"zaxis\":{\"backgroundcolor\":\"#E5ECF6\",\"gridcolor\":\"white\",\"gridwidth\":2,\"linecolor\":\"white\",\"showbackground\":true,\"ticks\":\"\",\"zerolinecolor\":\"white\"}},\"shapedefaults\":{\"line\":{\"color\":\"#2a3f5f\"}},\"ternary\":{\"aaxis\":{\"gridcolor\":\"white\",\"linecolor\":\"white\",\"ticks\":\"\"},\"baxis\":{\"gridcolor\":\"white\",\"linecolor\":\"white\",\"ticks\":\"\"},\"bgcolor\":\"#E5ECF6\",\"caxis\":{\"gridcolor\":\"white\",\"linecolor\":\"white\",\"ticks\":\"\"}},\"title\":{\"x\":0.05},\"xaxis\":{\"automargin\":true,\"gridcolor\":\"white\",\"linecolor\":\"white\",\"ticks\":\"\",\"title\":{\"standoff\":15},\"zerolinecolor\":\"white\",\"zerolinewidth\":2},\"yaxis\":{\"automargin\":true,\"gridcolor\":\"white\",\"linecolor\":\"white\",\"ticks\":\"\",\"title\":{\"standoff\":15},\"zerolinecolor\":\"white\",\"zerolinewidth\":2}}},\"legend\":{\"tracegroupgap\":0},\"margin\":{\"t\":60}},                        {\"responsive\": true}                    ).then(function(){\n",
              "                            \n",
              "var gd = document.getElementById('ba50d5e7-4147-454c-be8d-581d3a8c74d5');\n",
              "var x = new MutationObserver(function (mutations, observer) {{\n",
              "        var display = window.getComputedStyle(gd).display;\n",
              "        if (!display || display === 'none') {{\n",
              "            console.log([gd, 'removed!']);\n",
              "            Plotly.purge(gd);\n",
              "            observer.disconnect();\n",
              "        }}\n",
              "}});\n",
              "\n",
              "// Listen for the removal of the full notebook cells\n",
              "var notebookContainer = gd.closest('#notebook-container');\n",
              "if (notebookContainer) {{\n",
              "    x.observe(notebookContainer, {childList: true});\n",
              "}}\n",
              "\n",
              "// Listen for the clearing of the current output cell\n",
              "var outputEl = gd.closest('.output');\n",
              "if (outputEl) {{\n",
              "    x.observe(outputEl, {childList: true});\n",
              "}}\n",
              "\n",
              "                        })                };                            </script>        </div>\n",
              "</body>\n",
              "</html>"
            ]
          },
          "metadata": {}
        }
      ],
      "source": [
        "plot = px.parallel_categories(posture_personality_df, dimensions=['PERCEIVING', 'POSTURE'])\n",
        "plot.show()"
      ]
    },
    {
      "cell_type": "code",
      "execution_count": 1197,
      "metadata": {
        "colab": {
          "base_uri": "https://localhost:8080/",
          "height": 542
        },
        "id": "qz6wfcvxfRtB",
        "outputId": "bdf416e9-da5e-4c0a-c240-2263a6117e7e"
      },
      "outputs": [
        {
          "output_type": "display_data",
          "data": {
            "text/html": [
              "<html>\n",
              "<head><meta charset=\"utf-8\" /></head>\n",
              "<body>\n",
              "    <div>            <script src=\"https://cdnjs.cloudflare.com/ajax/libs/mathjax/2.7.5/MathJax.js?config=TeX-AMS-MML_SVG\"></script><script type=\"text/javascript\">if (window.MathJax) {MathJax.Hub.Config({SVG: {font: \"STIX-Web\"}});}</script>                <script type=\"text/javascript\">window.PlotlyConfig = {MathJaxConfig: 'local'};</script>\n",
              "        <script src=\"https://cdn.plot.ly/plotly-2.8.3.min.js\"></script>                <div id=\"7a984270-ea8b-4540-b2dd-b58bad800045\" class=\"plotly-graph-div\" style=\"height:525px; width:100%;\"></div>            <script type=\"text/javascript\">                                    window.PLOTLYENV=window.PLOTLYENV || {};                                    if (document.getElementById(\"7a984270-ea8b-4540-b2dd-b58bad800045\")) {                    Plotly.newPlot(                        \"7a984270-ea8b-4540-b2dd-b58bad800045\",                        [{\"dimensions\":[{\"label\":\"NECK PAIN\",\"values\":[\"No Pain\",\"Moderate Pain\",\"No Pain\",\"High Pain\",\"Low Pain\",\"No Pain\",\"Moderate Pain\",\"No Pain\",\"No Pain\",\"No Pain\",\"Moderate Pain\",\"No Pain\",\"Moderate Pain\",\"Low Pain\",\"No Pain\",\"No Pain\",\"Moderate Pain\",\"Low Pain\",\"Low Pain\",\"High Pain\",\"High Pain\",\"No Pain\",\"No Pain\",\"High Pain\",\"Moderate Pain\",\"Moderate Pain\",\"No Pain\",\"No Pain\",\"No Pain\",\"No Pain\",\"No Pain\",\"No Pain\",\"No Pain\",\"No Pain\",\"No Pain\",\"No Pain\",\"No Pain\",\"Low Pain\",\"Low Pain\",\"No Pain\",\"No Pain\",\"No Pain\",\"No Pain\",\"No Pain\",\"No Pain\",\"Low Pain\",\"No Pain\",\"Low Pain\",\"No Pain\",\"Low Pain\",\"No Pain\",\"No Pain\",\"No Pain\",\"No Pain\",\"High Pain\",\"No Pain\",\"No Pain\",\"Low Pain\",\"No Pain\",\"No Pain\",\"No Pain\",\"Moderate Pain\",\"High Pain\",\"No Pain\",\"No Pain\",\"Low Pain\",\"No Pain\",\"No Pain\",\"No Pain\",\"No Pain\",\"Moderate Pain\",\"No Pain\",\"No Pain\",\"No Pain\",\"No Pain\",\"No Pain\",\"No Pain\",\"No Pain\",\"Low Pain\",\"No Pain\",\"No Pain\",\"Low Pain\",\"No Pain\",\"Low Pain\",\"No Pain\",\"Moderate Pain\",\"Low Pain\",\"No Pain\",\"Moderate Pain\",\"No Pain\",\"No Pain\",\"Moderate Pain\",\"No Pain\",\"No Pain\",\"No Pain\",\"Low Pain\"]},{\"label\":\"POSTURE\",\"values\":[\"A\",\"B\",\"A\",\"D\",\"A\",\"D\",\"B\",\"D\",\"C\",\"D\",\"B\",\"B\",\"D\",\"B\",\"A\",\"D\",\"A\",\"B\",\"B\",\"C\",\"D\",\"B\",\"B\",\"D\",\"C\",\"C\",\"A\",\"D\",\"D\",\"A\",\"A\",\"D\",\"B\",\"C\",\"D\",\"C\",\"C\",\"A\",\"B\",\"B\",\"C\",\"D\",\"A\",\"A\",\"A\",\"D\",\"D\",\"B\",\"B\",\"B\",\"C\",\"B\",\"A\",\"D\",\"B\",\"B\",\"B\",\"B\",\"C\",\"B\",\"B\",\"A\",\"B\",\"C\",\"A\",\"B\",\"C\",\"B\",\"C\",\"D\",\"A\",\"C\",\"B\",\"C\",\"B\",\"A\",\"C\",\"D\",\"B\",\"B\",\"C\",\"C\",\"D\",\"B\",\"D\",\"A\",\"A\",\"B\",\"B\",\"C\",\"A\",\"B\",\"B\",\"B\",\"A\",\"A\"]}],\"domain\":{\"x\":[0.0,1.0],\"y\":[0.0,1.0]},\"name\":\"\",\"type\":\"parcats\"}],                        {\"template\":{\"data\":{\"bar\":[{\"error_x\":{\"color\":\"#2a3f5f\"},\"error_y\":{\"color\":\"#2a3f5f\"},\"marker\":{\"line\":{\"color\":\"#E5ECF6\",\"width\":0.5},\"pattern\":{\"fillmode\":\"overlay\",\"size\":10,\"solidity\":0.2}},\"type\":\"bar\"}],\"barpolar\":[{\"marker\":{\"line\":{\"color\":\"#E5ECF6\",\"width\":0.5},\"pattern\":{\"fillmode\":\"overlay\",\"size\":10,\"solidity\":0.2}},\"type\":\"barpolar\"}],\"carpet\":[{\"aaxis\":{\"endlinecolor\":\"#2a3f5f\",\"gridcolor\":\"white\",\"linecolor\":\"white\",\"minorgridcolor\":\"white\",\"startlinecolor\":\"#2a3f5f\"},\"baxis\":{\"endlinecolor\":\"#2a3f5f\",\"gridcolor\":\"white\",\"linecolor\":\"white\",\"minorgridcolor\":\"white\",\"startlinecolor\":\"#2a3f5f\"},\"type\":\"carpet\"}],\"choropleth\":[{\"colorbar\":{\"outlinewidth\":0,\"ticks\":\"\"},\"type\":\"choropleth\"}],\"contour\":[{\"colorbar\":{\"outlinewidth\":0,\"ticks\":\"\"},\"colorscale\":[[0.0,\"#0d0887\"],[0.1111111111111111,\"#46039f\"],[0.2222222222222222,\"#7201a8\"],[0.3333333333333333,\"#9c179e\"],[0.4444444444444444,\"#bd3786\"],[0.5555555555555556,\"#d8576b\"],[0.6666666666666666,\"#ed7953\"],[0.7777777777777778,\"#fb9f3a\"],[0.8888888888888888,\"#fdca26\"],[1.0,\"#f0f921\"]],\"type\":\"contour\"}],\"contourcarpet\":[{\"colorbar\":{\"outlinewidth\":0,\"ticks\":\"\"},\"type\":\"contourcarpet\"}],\"heatmap\":[{\"colorbar\":{\"outlinewidth\":0,\"ticks\":\"\"},\"colorscale\":[[0.0,\"#0d0887\"],[0.1111111111111111,\"#46039f\"],[0.2222222222222222,\"#7201a8\"],[0.3333333333333333,\"#9c179e\"],[0.4444444444444444,\"#bd3786\"],[0.5555555555555556,\"#d8576b\"],[0.6666666666666666,\"#ed7953\"],[0.7777777777777778,\"#fb9f3a\"],[0.8888888888888888,\"#fdca26\"],[1.0,\"#f0f921\"]],\"type\":\"heatmap\"}],\"heatmapgl\":[{\"colorbar\":{\"outlinewidth\":0,\"ticks\":\"\"},\"colorscale\":[[0.0,\"#0d0887\"],[0.1111111111111111,\"#46039f\"],[0.2222222222222222,\"#7201a8\"],[0.3333333333333333,\"#9c179e\"],[0.4444444444444444,\"#bd3786\"],[0.5555555555555556,\"#d8576b\"],[0.6666666666666666,\"#ed7953\"],[0.7777777777777778,\"#fb9f3a\"],[0.8888888888888888,\"#fdca26\"],[1.0,\"#f0f921\"]],\"type\":\"heatmapgl\"}],\"histogram\":[{\"marker\":{\"pattern\":{\"fillmode\":\"overlay\",\"size\":10,\"solidity\":0.2}},\"type\":\"histogram\"}],\"histogram2d\":[{\"colorbar\":{\"outlinewidth\":0,\"ticks\":\"\"},\"colorscale\":[[0.0,\"#0d0887\"],[0.1111111111111111,\"#46039f\"],[0.2222222222222222,\"#7201a8\"],[0.3333333333333333,\"#9c179e\"],[0.4444444444444444,\"#bd3786\"],[0.5555555555555556,\"#d8576b\"],[0.6666666666666666,\"#ed7953\"],[0.7777777777777778,\"#fb9f3a\"],[0.8888888888888888,\"#fdca26\"],[1.0,\"#f0f921\"]],\"type\":\"histogram2d\"}],\"histogram2dcontour\":[{\"colorbar\":{\"outlinewidth\":0,\"ticks\":\"\"},\"colorscale\":[[0.0,\"#0d0887\"],[0.1111111111111111,\"#46039f\"],[0.2222222222222222,\"#7201a8\"],[0.3333333333333333,\"#9c179e\"],[0.4444444444444444,\"#bd3786\"],[0.5555555555555556,\"#d8576b\"],[0.6666666666666666,\"#ed7953\"],[0.7777777777777778,\"#fb9f3a\"],[0.8888888888888888,\"#fdca26\"],[1.0,\"#f0f921\"]],\"type\":\"histogram2dcontour\"}],\"mesh3d\":[{\"colorbar\":{\"outlinewidth\":0,\"ticks\":\"\"},\"type\":\"mesh3d\"}],\"parcoords\":[{\"line\":{\"colorbar\":{\"outlinewidth\":0,\"ticks\":\"\"}},\"type\":\"parcoords\"}],\"pie\":[{\"automargin\":true,\"type\":\"pie\"}],\"scatter\":[{\"marker\":{\"colorbar\":{\"outlinewidth\":0,\"ticks\":\"\"}},\"type\":\"scatter\"}],\"scatter3d\":[{\"line\":{\"colorbar\":{\"outlinewidth\":0,\"ticks\":\"\"}},\"marker\":{\"colorbar\":{\"outlinewidth\":0,\"ticks\":\"\"}},\"type\":\"scatter3d\"}],\"scattercarpet\":[{\"marker\":{\"colorbar\":{\"outlinewidth\":0,\"ticks\":\"\"}},\"type\":\"scattercarpet\"}],\"scattergeo\":[{\"marker\":{\"colorbar\":{\"outlinewidth\":0,\"ticks\":\"\"}},\"type\":\"scattergeo\"}],\"scattergl\":[{\"marker\":{\"colorbar\":{\"outlinewidth\":0,\"ticks\":\"\"}},\"type\":\"scattergl\"}],\"scattermapbox\":[{\"marker\":{\"colorbar\":{\"outlinewidth\":0,\"ticks\":\"\"}},\"type\":\"scattermapbox\"}],\"scatterpolar\":[{\"marker\":{\"colorbar\":{\"outlinewidth\":0,\"ticks\":\"\"}},\"type\":\"scatterpolar\"}],\"scatterpolargl\":[{\"marker\":{\"colorbar\":{\"outlinewidth\":0,\"ticks\":\"\"}},\"type\":\"scatterpolargl\"}],\"scatterternary\":[{\"marker\":{\"colorbar\":{\"outlinewidth\":0,\"ticks\":\"\"}},\"type\":\"scatterternary\"}],\"surface\":[{\"colorbar\":{\"outlinewidth\":0,\"ticks\":\"\"},\"colorscale\":[[0.0,\"#0d0887\"],[0.1111111111111111,\"#46039f\"],[0.2222222222222222,\"#7201a8\"],[0.3333333333333333,\"#9c179e\"],[0.4444444444444444,\"#bd3786\"],[0.5555555555555556,\"#d8576b\"],[0.6666666666666666,\"#ed7953\"],[0.7777777777777778,\"#fb9f3a\"],[0.8888888888888888,\"#fdca26\"],[1.0,\"#f0f921\"]],\"type\":\"surface\"}],\"table\":[{\"cells\":{\"fill\":{\"color\":\"#EBF0F8\"},\"line\":{\"color\":\"white\"}},\"header\":{\"fill\":{\"color\":\"#C8D4E3\"},\"line\":{\"color\":\"white\"}},\"type\":\"table\"}]},\"layout\":{\"annotationdefaults\":{\"arrowcolor\":\"#2a3f5f\",\"arrowhead\":0,\"arrowwidth\":1},\"autotypenumbers\":\"strict\",\"coloraxis\":{\"colorbar\":{\"outlinewidth\":0,\"ticks\":\"\"}},\"colorscale\":{\"diverging\":[[0,\"#8e0152\"],[0.1,\"#c51b7d\"],[0.2,\"#de77ae\"],[0.3,\"#f1b6da\"],[0.4,\"#fde0ef\"],[0.5,\"#f7f7f7\"],[0.6,\"#e6f5d0\"],[0.7,\"#b8e186\"],[0.8,\"#7fbc41\"],[0.9,\"#4d9221\"],[1,\"#276419\"]],\"sequential\":[[0.0,\"#0d0887\"],[0.1111111111111111,\"#46039f\"],[0.2222222222222222,\"#7201a8\"],[0.3333333333333333,\"#9c179e\"],[0.4444444444444444,\"#bd3786\"],[0.5555555555555556,\"#d8576b\"],[0.6666666666666666,\"#ed7953\"],[0.7777777777777778,\"#fb9f3a\"],[0.8888888888888888,\"#fdca26\"],[1.0,\"#f0f921\"]],\"sequentialminus\":[[0.0,\"#0d0887\"],[0.1111111111111111,\"#46039f\"],[0.2222222222222222,\"#7201a8\"],[0.3333333333333333,\"#9c179e\"],[0.4444444444444444,\"#bd3786\"],[0.5555555555555556,\"#d8576b\"],[0.6666666666666666,\"#ed7953\"],[0.7777777777777778,\"#fb9f3a\"],[0.8888888888888888,\"#fdca26\"],[1.0,\"#f0f921\"]]},\"colorway\":[\"#636efa\",\"#EF553B\",\"#00cc96\",\"#ab63fa\",\"#FFA15A\",\"#19d3f3\",\"#FF6692\",\"#B6E880\",\"#FF97FF\",\"#FECB52\"],\"font\":{\"color\":\"#2a3f5f\"},\"geo\":{\"bgcolor\":\"white\",\"lakecolor\":\"white\",\"landcolor\":\"#E5ECF6\",\"showlakes\":true,\"showland\":true,\"subunitcolor\":\"white\"},\"hoverlabel\":{\"align\":\"left\"},\"hovermode\":\"closest\",\"mapbox\":{\"style\":\"light\"},\"paper_bgcolor\":\"white\",\"plot_bgcolor\":\"#E5ECF6\",\"polar\":{\"angularaxis\":{\"gridcolor\":\"white\",\"linecolor\":\"white\",\"ticks\":\"\"},\"bgcolor\":\"#E5ECF6\",\"radialaxis\":{\"gridcolor\":\"white\",\"linecolor\":\"white\",\"ticks\":\"\"}},\"scene\":{\"xaxis\":{\"backgroundcolor\":\"#E5ECF6\",\"gridcolor\":\"white\",\"gridwidth\":2,\"linecolor\":\"white\",\"showbackground\":true,\"ticks\":\"\",\"zerolinecolor\":\"white\"},\"yaxis\":{\"backgroundcolor\":\"#E5ECF6\",\"gridcolor\":\"white\",\"gridwidth\":2,\"linecolor\":\"white\",\"showbackground\":true,\"ticks\":\"\",\"zerolinecolor\":\"white\"},\"zaxis\":{\"backgroundcolor\":\"#E5ECF6\",\"gridcolor\":\"white\",\"gridwidth\":2,\"linecolor\":\"white\",\"showbackground\":true,\"ticks\":\"\",\"zerolinecolor\":\"white\"}},\"shapedefaults\":{\"line\":{\"color\":\"#2a3f5f\"}},\"ternary\":{\"aaxis\":{\"gridcolor\":\"white\",\"linecolor\":\"white\",\"ticks\":\"\"},\"baxis\":{\"gridcolor\":\"white\",\"linecolor\":\"white\",\"ticks\":\"\"},\"bgcolor\":\"#E5ECF6\",\"caxis\":{\"gridcolor\":\"white\",\"linecolor\":\"white\",\"ticks\":\"\"}},\"title\":{\"x\":0.05},\"xaxis\":{\"automargin\":true,\"gridcolor\":\"white\",\"linecolor\":\"white\",\"ticks\":\"\",\"title\":{\"standoff\":15},\"zerolinecolor\":\"white\",\"zerolinewidth\":2},\"yaxis\":{\"automargin\":true,\"gridcolor\":\"white\",\"linecolor\":\"white\",\"ticks\":\"\",\"title\":{\"standoff\":15},\"zerolinecolor\":\"white\",\"zerolinewidth\":2}}},\"legend\":{\"tracegroupgap\":0},\"margin\":{\"t\":60}},                        {\"responsive\": true}                    ).then(function(){\n",
              "                            \n",
              "var gd = document.getElementById('7a984270-ea8b-4540-b2dd-b58bad800045');\n",
              "var x = new MutationObserver(function (mutations, observer) {{\n",
              "        var display = window.getComputedStyle(gd).display;\n",
              "        if (!display || display === 'none') {{\n",
              "            console.log([gd, 'removed!']);\n",
              "            Plotly.purge(gd);\n",
              "            observer.disconnect();\n",
              "        }}\n",
              "}});\n",
              "\n",
              "// Listen for the removal of the full notebook cells\n",
              "var notebookContainer = gd.closest('#notebook-container');\n",
              "if (notebookContainer) {{\n",
              "    x.observe(notebookContainer, {childList: true});\n",
              "}}\n",
              "\n",
              "// Listen for the clearing of the current output cell\n",
              "var outputEl = gd.closest('.output');\n",
              "if (outputEl) {{\n",
              "    x.observe(outputEl, {childList: true});\n",
              "}}\n",
              "\n",
              "                        })                };                            </script>        </div>\n",
              "</body>\n",
              "</html>"
            ]
          },
          "metadata": {}
        }
      ],
      "source": [
        "plot = px.parallel_categories(posture_personality_df, dimensions=['NECK PAIN', 'POSTURE'])\n",
        "plot.show()"
      ]
    },
    {
      "cell_type": "code",
      "execution_count": 1198,
      "metadata": {
        "colab": {
          "base_uri": "https://localhost:8080/",
          "height": 542
        },
        "id": "PIf3Kcv1fR2L",
        "outputId": "b37152be-8a7a-4b25-b37a-45bcfa845aee"
      },
      "outputs": [
        {
          "output_type": "display_data",
          "data": {
            "text/html": [
              "<html>\n",
              "<head><meta charset=\"utf-8\" /></head>\n",
              "<body>\n",
              "    <div>            <script src=\"https://cdnjs.cloudflare.com/ajax/libs/mathjax/2.7.5/MathJax.js?config=TeX-AMS-MML_SVG\"></script><script type=\"text/javascript\">if (window.MathJax) {MathJax.Hub.Config({SVG: {font: \"STIX-Web\"}});}</script>                <script type=\"text/javascript\">window.PlotlyConfig = {MathJaxConfig: 'local'};</script>\n",
              "        <script src=\"https://cdn.plot.ly/plotly-2.8.3.min.js\"></script>                <div id=\"38c1e0a6-ba10-4986-bf9e-0b02d1de9599\" class=\"plotly-graph-div\" style=\"height:525px; width:100%;\"></div>            <script type=\"text/javascript\">                                    window.PLOTLYENV=window.PLOTLYENV || {};                                    if (document.getElementById(\"38c1e0a6-ba10-4986-bf9e-0b02d1de9599\")) {                    Plotly.newPlot(                        \"38c1e0a6-ba10-4986-bf9e-0b02d1de9599\",                        [{\"dimensions\":[{\"label\":\"THORACIC PAIN\",\"values\":[\"No Pain\",\"High Pain\",\"No Pain\",\"High Pain\",\"Moderate Pain\",\"Low Pain\",\"High Pain\",\"High Pain\",\"Low Pain\",\"High Pain\",\"No Pain\",\"Low Pain\",\"Moderate Pain\",\"High Pain\",\"No Pain\",\"No Pain\",\"Low Pain\",\"High Pain\",\"High Pain\",\"High Pain\",\"No Pain\",\"No Pain\",\"High Pain\",\"Low Pain\",\"Moderate Pain\",\"Low Pain\",\"No Pain\",\"Low Pain\",\"No Pain\",\"No Pain\",\"No Pain\",\"No Pain\",\"Moderate Pain\",\"High Pain\",\"Moderate Pain\",\"No Pain\",\"High Pain\",\"Moderate Pain\",\"Low Pain\",\"High Pain\",\"Moderate Pain\",\"Moderate Pain\",\"No Pain\",\"No Pain\",\"No Pain\",\"Low Pain\",\"High Pain\",\"No Pain\",\"Low Pain\",\"Low Pain\",\"No Pain\",\"Moderate Pain\",\"No Pain\",\"Low Pain\",\"Low Pain\",\"No Pain\",\"High Pain\",\"High Pain\",\"Moderate Pain\",\"Low Pain\",\"No Pain\",\"No Pain\",\"Low Pain\",\"High Pain\",\"Low Pain\",\"Moderate Pain\",\"Low Pain\",\"Low Pain\",\"No Pain\",\"High Pain\",\"Moderate Pain\",\"Low Pain\",\"Low Pain\",\"No Pain\",\"Low Pain\",\"No Pain\",\"Moderate Pain\",\"Low Pain\",\"Moderate Pain\",\"Low Pain\",\"Moderate Pain\",\"Moderate Pain\",\"No Pain\",\"No Pain\",\"Low Pain\",\"Low Pain\",\"Low Pain\",\"No Pain\",\"Moderate Pain\",\"Moderate Pain\",\"No Pain\",\"No Pain\",\"No Pain\",\"Low Pain\",\"No Pain\",\"No Pain\"]},{\"label\":\"POSTURE\",\"values\":[\"A\",\"B\",\"A\",\"D\",\"A\",\"D\",\"B\",\"D\",\"C\",\"D\",\"B\",\"B\",\"D\",\"B\",\"A\",\"D\",\"A\",\"B\",\"B\",\"C\",\"D\",\"B\",\"B\",\"D\",\"C\",\"C\",\"A\",\"D\",\"D\",\"A\",\"A\",\"D\",\"B\",\"C\",\"D\",\"C\",\"C\",\"A\",\"B\",\"B\",\"C\",\"D\",\"A\",\"A\",\"A\",\"D\",\"D\",\"B\",\"B\",\"B\",\"C\",\"B\",\"A\",\"D\",\"B\",\"B\",\"B\",\"B\",\"C\",\"B\",\"B\",\"A\",\"B\",\"C\",\"A\",\"B\",\"C\",\"B\",\"C\",\"D\",\"A\",\"C\",\"B\",\"C\",\"B\",\"A\",\"C\",\"D\",\"B\",\"B\",\"C\",\"C\",\"D\",\"B\",\"D\",\"A\",\"A\",\"B\",\"B\",\"C\",\"A\",\"B\",\"B\",\"B\",\"A\",\"A\"]}],\"domain\":{\"x\":[0.0,1.0],\"y\":[0.0,1.0]},\"name\":\"\",\"type\":\"parcats\"}],                        {\"template\":{\"data\":{\"bar\":[{\"error_x\":{\"color\":\"#2a3f5f\"},\"error_y\":{\"color\":\"#2a3f5f\"},\"marker\":{\"line\":{\"color\":\"#E5ECF6\",\"width\":0.5},\"pattern\":{\"fillmode\":\"overlay\",\"size\":10,\"solidity\":0.2}},\"type\":\"bar\"}],\"barpolar\":[{\"marker\":{\"line\":{\"color\":\"#E5ECF6\",\"width\":0.5},\"pattern\":{\"fillmode\":\"overlay\",\"size\":10,\"solidity\":0.2}},\"type\":\"barpolar\"}],\"carpet\":[{\"aaxis\":{\"endlinecolor\":\"#2a3f5f\",\"gridcolor\":\"white\",\"linecolor\":\"white\",\"minorgridcolor\":\"white\",\"startlinecolor\":\"#2a3f5f\"},\"baxis\":{\"endlinecolor\":\"#2a3f5f\",\"gridcolor\":\"white\",\"linecolor\":\"white\",\"minorgridcolor\":\"white\",\"startlinecolor\":\"#2a3f5f\"},\"type\":\"carpet\"}],\"choropleth\":[{\"colorbar\":{\"outlinewidth\":0,\"ticks\":\"\"},\"type\":\"choropleth\"}],\"contour\":[{\"colorbar\":{\"outlinewidth\":0,\"ticks\":\"\"},\"colorscale\":[[0.0,\"#0d0887\"],[0.1111111111111111,\"#46039f\"],[0.2222222222222222,\"#7201a8\"],[0.3333333333333333,\"#9c179e\"],[0.4444444444444444,\"#bd3786\"],[0.5555555555555556,\"#d8576b\"],[0.6666666666666666,\"#ed7953\"],[0.7777777777777778,\"#fb9f3a\"],[0.8888888888888888,\"#fdca26\"],[1.0,\"#f0f921\"]],\"type\":\"contour\"}],\"contourcarpet\":[{\"colorbar\":{\"outlinewidth\":0,\"ticks\":\"\"},\"type\":\"contourcarpet\"}],\"heatmap\":[{\"colorbar\":{\"outlinewidth\":0,\"ticks\":\"\"},\"colorscale\":[[0.0,\"#0d0887\"],[0.1111111111111111,\"#46039f\"],[0.2222222222222222,\"#7201a8\"],[0.3333333333333333,\"#9c179e\"],[0.4444444444444444,\"#bd3786\"],[0.5555555555555556,\"#d8576b\"],[0.6666666666666666,\"#ed7953\"],[0.7777777777777778,\"#fb9f3a\"],[0.8888888888888888,\"#fdca26\"],[1.0,\"#f0f921\"]],\"type\":\"heatmap\"}],\"heatmapgl\":[{\"colorbar\":{\"outlinewidth\":0,\"ticks\":\"\"},\"colorscale\":[[0.0,\"#0d0887\"],[0.1111111111111111,\"#46039f\"],[0.2222222222222222,\"#7201a8\"],[0.3333333333333333,\"#9c179e\"],[0.4444444444444444,\"#bd3786\"],[0.5555555555555556,\"#d8576b\"],[0.6666666666666666,\"#ed7953\"],[0.7777777777777778,\"#fb9f3a\"],[0.8888888888888888,\"#fdca26\"],[1.0,\"#f0f921\"]],\"type\":\"heatmapgl\"}],\"histogram\":[{\"marker\":{\"pattern\":{\"fillmode\":\"overlay\",\"size\":10,\"solidity\":0.2}},\"type\":\"histogram\"}],\"histogram2d\":[{\"colorbar\":{\"outlinewidth\":0,\"ticks\":\"\"},\"colorscale\":[[0.0,\"#0d0887\"],[0.1111111111111111,\"#46039f\"],[0.2222222222222222,\"#7201a8\"],[0.3333333333333333,\"#9c179e\"],[0.4444444444444444,\"#bd3786\"],[0.5555555555555556,\"#d8576b\"],[0.6666666666666666,\"#ed7953\"],[0.7777777777777778,\"#fb9f3a\"],[0.8888888888888888,\"#fdca26\"],[1.0,\"#f0f921\"]],\"type\":\"histogram2d\"}],\"histogram2dcontour\":[{\"colorbar\":{\"outlinewidth\":0,\"ticks\":\"\"},\"colorscale\":[[0.0,\"#0d0887\"],[0.1111111111111111,\"#46039f\"],[0.2222222222222222,\"#7201a8\"],[0.3333333333333333,\"#9c179e\"],[0.4444444444444444,\"#bd3786\"],[0.5555555555555556,\"#d8576b\"],[0.6666666666666666,\"#ed7953\"],[0.7777777777777778,\"#fb9f3a\"],[0.8888888888888888,\"#fdca26\"],[1.0,\"#f0f921\"]],\"type\":\"histogram2dcontour\"}],\"mesh3d\":[{\"colorbar\":{\"outlinewidth\":0,\"ticks\":\"\"},\"type\":\"mesh3d\"}],\"parcoords\":[{\"line\":{\"colorbar\":{\"outlinewidth\":0,\"ticks\":\"\"}},\"type\":\"parcoords\"}],\"pie\":[{\"automargin\":true,\"type\":\"pie\"}],\"scatter\":[{\"marker\":{\"colorbar\":{\"outlinewidth\":0,\"ticks\":\"\"}},\"type\":\"scatter\"}],\"scatter3d\":[{\"line\":{\"colorbar\":{\"outlinewidth\":0,\"ticks\":\"\"}},\"marker\":{\"colorbar\":{\"outlinewidth\":0,\"ticks\":\"\"}},\"type\":\"scatter3d\"}],\"scattercarpet\":[{\"marker\":{\"colorbar\":{\"outlinewidth\":0,\"ticks\":\"\"}},\"type\":\"scattercarpet\"}],\"scattergeo\":[{\"marker\":{\"colorbar\":{\"outlinewidth\":0,\"ticks\":\"\"}},\"type\":\"scattergeo\"}],\"scattergl\":[{\"marker\":{\"colorbar\":{\"outlinewidth\":0,\"ticks\":\"\"}},\"type\":\"scattergl\"}],\"scattermapbox\":[{\"marker\":{\"colorbar\":{\"outlinewidth\":0,\"ticks\":\"\"}},\"type\":\"scattermapbox\"}],\"scatterpolar\":[{\"marker\":{\"colorbar\":{\"outlinewidth\":0,\"ticks\":\"\"}},\"type\":\"scatterpolar\"}],\"scatterpolargl\":[{\"marker\":{\"colorbar\":{\"outlinewidth\":0,\"ticks\":\"\"}},\"type\":\"scatterpolargl\"}],\"scatterternary\":[{\"marker\":{\"colorbar\":{\"outlinewidth\":0,\"ticks\":\"\"}},\"type\":\"scatterternary\"}],\"surface\":[{\"colorbar\":{\"outlinewidth\":0,\"ticks\":\"\"},\"colorscale\":[[0.0,\"#0d0887\"],[0.1111111111111111,\"#46039f\"],[0.2222222222222222,\"#7201a8\"],[0.3333333333333333,\"#9c179e\"],[0.4444444444444444,\"#bd3786\"],[0.5555555555555556,\"#d8576b\"],[0.6666666666666666,\"#ed7953\"],[0.7777777777777778,\"#fb9f3a\"],[0.8888888888888888,\"#fdca26\"],[1.0,\"#f0f921\"]],\"type\":\"surface\"}],\"table\":[{\"cells\":{\"fill\":{\"color\":\"#EBF0F8\"},\"line\":{\"color\":\"white\"}},\"header\":{\"fill\":{\"color\":\"#C8D4E3\"},\"line\":{\"color\":\"white\"}},\"type\":\"table\"}]},\"layout\":{\"annotationdefaults\":{\"arrowcolor\":\"#2a3f5f\",\"arrowhead\":0,\"arrowwidth\":1},\"autotypenumbers\":\"strict\",\"coloraxis\":{\"colorbar\":{\"outlinewidth\":0,\"ticks\":\"\"}},\"colorscale\":{\"diverging\":[[0,\"#8e0152\"],[0.1,\"#c51b7d\"],[0.2,\"#de77ae\"],[0.3,\"#f1b6da\"],[0.4,\"#fde0ef\"],[0.5,\"#f7f7f7\"],[0.6,\"#e6f5d0\"],[0.7,\"#b8e186\"],[0.8,\"#7fbc41\"],[0.9,\"#4d9221\"],[1,\"#276419\"]],\"sequential\":[[0.0,\"#0d0887\"],[0.1111111111111111,\"#46039f\"],[0.2222222222222222,\"#7201a8\"],[0.3333333333333333,\"#9c179e\"],[0.4444444444444444,\"#bd3786\"],[0.5555555555555556,\"#d8576b\"],[0.6666666666666666,\"#ed7953\"],[0.7777777777777778,\"#fb9f3a\"],[0.8888888888888888,\"#fdca26\"],[1.0,\"#f0f921\"]],\"sequentialminus\":[[0.0,\"#0d0887\"],[0.1111111111111111,\"#46039f\"],[0.2222222222222222,\"#7201a8\"],[0.3333333333333333,\"#9c179e\"],[0.4444444444444444,\"#bd3786\"],[0.5555555555555556,\"#d8576b\"],[0.6666666666666666,\"#ed7953\"],[0.7777777777777778,\"#fb9f3a\"],[0.8888888888888888,\"#fdca26\"],[1.0,\"#f0f921\"]]},\"colorway\":[\"#636efa\",\"#EF553B\",\"#00cc96\",\"#ab63fa\",\"#FFA15A\",\"#19d3f3\",\"#FF6692\",\"#B6E880\",\"#FF97FF\",\"#FECB52\"],\"font\":{\"color\":\"#2a3f5f\"},\"geo\":{\"bgcolor\":\"white\",\"lakecolor\":\"white\",\"landcolor\":\"#E5ECF6\",\"showlakes\":true,\"showland\":true,\"subunitcolor\":\"white\"},\"hoverlabel\":{\"align\":\"left\"},\"hovermode\":\"closest\",\"mapbox\":{\"style\":\"light\"},\"paper_bgcolor\":\"white\",\"plot_bgcolor\":\"#E5ECF6\",\"polar\":{\"angularaxis\":{\"gridcolor\":\"white\",\"linecolor\":\"white\",\"ticks\":\"\"},\"bgcolor\":\"#E5ECF6\",\"radialaxis\":{\"gridcolor\":\"white\",\"linecolor\":\"white\",\"ticks\":\"\"}},\"scene\":{\"xaxis\":{\"backgroundcolor\":\"#E5ECF6\",\"gridcolor\":\"white\",\"gridwidth\":2,\"linecolor\":\"white\",\"showbackground\":true,\"ticks\":\"\",\"zerolinecolor\":\"white\"},\"yaxis\":{\"backgroundcolor\":\"#E5ECF6\",\"gridcolor\":\"white\",\"gridwidth\":2,\"linecolor\":\"white\",\"showbackground\":true,\"ticks\":\"\",\"zerolinecolor\":\"white\"},\"zaxis\":{\"backgroundcolor\":\"#E5ECF6\",\"gridcolor\":\"white\",\"gridwidth\":2,\"linecolor\":\"white\",\"showbackground\":true,\"ticks\":\"\",\"zerolinecolor\":\"white\"}},\"shapedefaults\":{\"line\":{\"color\":\"#2a3f5f\"}},\"ternary\":{\"aaxis\":{\"gridcolor\":\"white\",\"linecolor\":\"white\",\"ticks\":\"\"},\"baxis\":{\"gridcolor\":\"white\",\"linecolor\":\"white\",\"ticks\":\"\"},\"bgcolor\":\"#E5ECF6\",\"caxis\":{\"gridcolor\":\"white\",\"linecolor\":\"white\",\"ticks\":\"\"}},\"title\":{\"x\":0.05},\"xaxis\":{\"automargin\":true,\"gridcolor\":\"white\",\"linecolor\":\"white\",\"ticks\":\"\",\"title\":{\"standoff\":15},\"zerolinecolor\":\"white\",\"zerolinewidth\":2},\"yaxis\":{\"automargin\":true,\"gridcolor\":\"white\",\"linecolor\":\"white\",\"ticks\":\"\",\"title\":{\"standoff\":15},\"zerolinecolor\":\"white\",\"zerolinewidth\":2}}},\"legend\":{\"tracegroupgap\":0},\"margin\":{\"t\":60}},                        {\"responsive\": true}                    ).then(function(){\n",
              "                            \n",
              "var gd = document.getElementById('38c1e0a6-ba10-4986-bf9e-0b02d1de9599');\n",
              "var x = new MutationObserver(function (mutations, observer) {{\n",
              "        var display = window.getComputedStyle(gd).display;\n",
              "        if (!display || display === 'none') {{\n",
              "            console.log([gd, 'removed!']);\n",
              "            Plotly.purge(gd);\n",
              "            observer.disconnect();\n",
              "        }}\n",
              "}});\n",
              "\n",
              "// Listen for the removal of the full notebook cells\n",
              "var notebookContainer = gd.closest('#notebook-container');\n",
              "if (notebookContainer) {{\n",
              "    x.observe(notebookContainer, {childList: true});\n",
              "}}\n",
              "\n",
              "// Listen for the clearing of the current output cell\n",
              "var outputEl = gd.closest('.output');\n",
              "if (outputEl) {{\n",
              "    x.observe(outputEl, {childList: true});\n",
              "}}\n",
              "\n",
              "                        })                };                            </script>        </div>\n",
              "</body>\n",
              "</html>"
            ]
          },
          "metadata": {}
        }
      ],
      "source": [
        "plot = px.parallel_categories(posture_personality_df, dimensions=['THORACIC PAIN', 'POSTURE'])\n",
        "plot.show()"
      ]
    },
    {
      "cell_type": "code",
      "execution_count": 1199,
      "metadata": {
        "colab": {
          "base_uri": "https://localhost:8080/",
          "height": 542
        },
        "id": "ZbqA1A70fR-6",
        "outputId": "061185f5-27a8-43dc-d9f6-c35616629fa3"
      },
      "outputs": [
        {
          "output_type": "display_data",
          "data": {
            "text/html": [
              "<html>\n",
              "<head><meta charset=\"utf-8\" /></head>\n",
              "<body>\n",
              "    <div>            <script src=\"https://cdnjs.cloudflare.com/ajax/libs/mathjax/2.7.5/MathJax.js?config=TeX-AMS-MML_SVG\"></script><script type=\"text/javascript\">if (window.MathJax) {MathJax.Hub.Config({SVG: {font: \"STIX-Web\"}});}</script>                <script type=\"text/javascript\">window.PlotlyConfig = {MathJaxConfig: 'local'};</script>\n",
              "        <script src=\"https://cdn.plot.ly/plotly-2.8.3.min.js\"></script>                <div id=\"b06c3f4e-2434-4457-9ceb-84dc63ef2b12\" class=\"plotly-graph-div\" style=\"height:525px; width:100%;\"></div>            <script type=\"text/javascript\">                                    window.PLOTLYENV=window.PLOTLYENV || {};                                    if (document.getElementById(\"b06c3f4e-2434-4457-9ceb-84dc63ef2b12\")) {                    Plotly.newPlot(                        \"b06c3f4e-2434-4457-9ceb-84dc63ef2b12\",                        [{\"dimensions\":[{\"label\":\"LUMBAR PAIN\",\"values\":[\"No Pain\",\"Moderate Pain\",\"No Pain\",\"High Pain\",\"No Pain\",\"No Pain\",\"High Pain\",\"Moderate Pain\",\"No Pain\",\"Moderate Pain\",\"No Pain\",\"No Pain\",\"High Pain\",\"No Pain\",\"Low Pain\",\"No Pain\",\"Moderate Pain\",\"High Pain\",\"No Pain\",\"Moderate Pain\",\"Low Pain\",\"No Pain\",\"No Pain\",\"Low Pain\",\"No Pain\",\"No Pain\",\"No Pain\",\"No Pain\",\"No Pain\",\"No Pain\",\"No Pain\",\"Low Pain\",\"No Pain\",\"Moderate Pain\",\"Low Pain\",\"No Pain\",\"No Pain\",\"Low Pain\",\"Low Pain\",\"Moderate Pain\",\"No Pain\",\"No Pain\",\"No Pain\",\"No Pain\",\"No Pain\",\"No Pain\",\"No Pain\",\"No Pain\",\"No Pain\",\"Moderate Pain\",\"No Pain\",\"No Pain\",\"No Pain\",\"Moderate Pain\",\"Low Pain\",\"No Pain\",\"No Pain\",\"No Pain\",\"No Pain\",\"Low Pain\",\"No Pain\",\"High Pain\",\"Moderate Pain\",\"No Pain\",\"No Pain\",\"No Pain\",\"No Pain\",\"No Pain\",\"No Pain\",\"No Pain\",\"No Pain\",\"No Pain\",\"No Pain\",\"No Pain\",\"No Pain\",\"No Pain\",\"No Pain\",\"No Pain\",\"Low Pain\",\"No Pain\",\"Low Pain\",\"Low Pain\",\"No Pain\",\"No Pain\",\"No Pain\",\"No Pain\",\"Low Pain\",\"No Pain\",\"Moderate Pain\",\"No Pain\",\"No Pain\",\"Moderate Pain\",\"No Pain\",\"No Pain\",\"No Pain\",\"No Pain\"]},{\"label\":\"POSTURE\",\"values\":[\"A\",\"B\",\"A\",\"D\",\"A\",\"D\",\"B\",\"D\",\"C\",\"D\",\"B\",\"B\",\"D\",\"B\",\"A\",\"D\",\"A\",\"B\",\"B\",\"C\",\"D\",\"B\",\"B\",\"D\",\"C\",\"C\",\"A\",\"D\",\"D\",\"A\",\"A\",\"D\",\"B\",\"C\",\"D\",\"C\",\"C\",\"A\",\"B\",\"B\",\"C\",\"D\",\"A\",\"A\",\"A\",\"D\",\"D\",\"B\",\"B\",\"B\",\"C\",\"B\",\"A\",\"D\",\"B\",\"B\",\"B\",\"B\",\"C\",\"B\",\"B\",\"A\",\"B\",\"C\",\"A\",\"B\",\"C\",\"B\",\"C\",\"D\",\"A\",\"C\",\"B\",\"C\",\"B\",\"A\",\"C\",\"D\",\"B\",\"B\",\"C\",\"C\",\"D\",\"B\",\"D\",\"A\",\"A\",\"B\",\"B\",\"C\",\"A\",\"B\",\"B\",\"B\",\"A\",\"A\"]}],\"domain\":{\"x\":[0.0,1.0],\"y\":[0.0,1.0]},\"name\":\"\",\"type\":\"parcats\"}],                        {\"template\":{\"data\":{\"bar\":[{\"error_x\":{\"color\":\"#2a3f5f\"},\"error_y\":{\"color\":\"#2a3f5f\"},\"marker\":{\"line\":{\"color\":\"#E5ECF6\",\"width\":0.5},\"pattern\":{\"fillmode\":\"overlay\",\"size\":10,\"solidity\":0.2}},\"type\":\"bar\"}],\"barpolar\":[{\"marker\":{\"line\":{\"color\":\"#E5ECF6\",\"width\":0.5},\"pattern\":{\"fillmode\":\"overlay\",\"size\":10,\"solidity\":0.2}},\"type\":\"barpolar\"}],\"carpet\":[{\"aaxis\":{\"endlinecolor\":\"#2a3f5f\",\"gridcolor\":\"white\",\"linecolor\":\"white\",\"minorgridcolor\":\"white\",\"startlinecolor\":\"#2a3f5f\"},\"baxis\":{\"endlinecolor\":\"#2a3f5f\",\"gridcolor\":\"white\",\"linecolor\":\"white\",\"minorgridcolor\":\"white\",\"startlinecolor\":\"#2a3f5f\"},\"type\":\"carpet\"}],\"choropleth\":[{\"colorbar\":{\"outlinewidth\":0,\"ticks\":\"\"},\"type\":\"choropleth\"}],\"contour\":[{\"colorbar\":{\"outlinewidth\":0,\"ticks\":\"\"},\"colorscale\":[[0.0,\"#0d0887\"],[0.1111111111111111,\"#46039f\"],[0.2222222222222222,\"#7201a8\"],[0.3333333333333333,\"#9c179e\"],[0.4444444444444444,\"#bd3786\"],[0.5555555555555556,\"#d8576b\"],[0.6666666666666666,\"#ed7953\"],[0.7777777777777778,\"#fb9f3a\"],[0.8888888888888888,\"#fdca26\"],[1.0,\"#f0f921\"]],\"type\":\"contour\"}],\"contourcarpet\":[{\"colorbar\":{\"outlinewidth\":0,\"ticks\":\"\"},\"type\":\"contourcarpet\"}],\"heatmap\":[{\"colorbar\":{\"outlinewidth\":0,\"ticks\":\"\"},\"colorscale\":[[0.0,\"#0d0887\"],[0.1111111111111111,\"#46039f\"],[0.2222222222222222,\"#7201a8\"],[0.3333333333333333,\"#9c179e\"],[0.4444444444444444,\"#bd3786\"],[0.5555555555555556,\"#d8576b\"],[0.6666666666666666,\"#ed7953\"],[0.7777777777777778,\"#fb9f3a\"],[0.8888888888888888,\"#fdca26\"],[1.0,\"#f0f921\"]],\"type\":\"heatmap\"}],\"heatmapgl\":[{\"colorbar\":{\"outlinewidth\":0,\"ticks\":\"\"},\"colorscale\":[[0.0,\"#0d0887\"],[0.1111111111111111,\"#46039f\"],[0.2222222222222222,\"#7201a8\"],[0.3333333333333333,\"#9c179e\"],[0.4444444444444444,\"#bd3786\"],[0.5555555555555556,\"#d8576b\"],[0.6666666666666666,\"#ed7953\"],[0.7777777777777778,\"#fb9f3a\"],[0.8888888888888888,\"#fdca26\"],[1.0,\"#f0f921\"]],\"type\":\"heatmapgl\"}],\"histogram\":[{\"marker\":{\"pattern\":{\"fillmode\":\"overlay\",\"size\":10,\"solidity\":0.2}},\"type\":\"histogram\"}],\"histogram2d\":[{\"colorbar\":{\"outlinewidth\":0,\"ticks\":\"\"},\"colorscale\":[[0.0,\"#0d0887\"],[0.1111111111111111,\"#46039f\"],[0.2222222222222222,\"#7201a8\"],[0.3333333333333333,\"#9c179e\"],[0.4444444444444444,\"#bd3786\"],[0.5555555555555556,\"#d8576b\"],[0.6666666666666666,\"#ed7953\"],[0.7777777777777778,\"#fb9f3a\"],[0.8888888888888888,\"#fdca26\"],[1.0,\"#f0f921\"]],\"type\":\"histogram2d\"}],\"histogram2dcontour\":[{\"colorbar\":{\"outlinewidth\":0,\"ticks\":\"\"},\"colorscale\":[[0.0,\"#0d0887\"],[0.1111111111111111,\"#46039f\"],[0.2222222222222222,\"#7201a8\"],[0.3333333333333333,\"#9c179e\"],[0.4444444444444444,\"#bd3786\"],[0.5555555555555556,\"#d8576b\"],[0.6666666666666666,\"#ed7953\"],[0.7777777777777778,\"#fb9f3a\"],[0.8888888888888888,\"#fdca26\"],[1.0,\"#f0f921\"]],\"type\":\"histogram2dcontour\"}],\"mesh3d\":[{\"colorbar\":{\"outlinewidth\":0,\"ticks\":\"\"},\"type\":\"mesh3d\"}],\"parcoords\":[{\"line\":{\"colorbar\":{\"outlinewidth\":0,\"ticks\":\"\"}},\"type\":\"parcoords\"}],\"pie\":[{\"automargin\":true,\"type\":\"pie\"}],\"scatter\":[{\"marker\":{\"colorbar\":{\"outlinewidth\":0,\"ticks\":\"\"}},\"type\":\"scatter\"}],\"scatter3d\":[{\"line\":{\"colorbar\":{\"outlinewidth\":0,\"ticks\":\"\"}},\"marker\":{\"colorbar\":{\"outlinewidth\":0,\"ticks\":\"\"}},\"type\":\"scatter3d\"}],\"scattercarpet\":[{\"marker\":{\"colorbar\":{\"outlinewidth\":0,\"ticks\":\"\"}},\"type\":\"scattercarpet\"}],\"scattergeo\":[{\"marker\":{\"colorbar\":{\"outlinewidth\":0,\"ticks\":\"\"}},\"type\":\"scattergeo\"}],\"scattergl\":[{\"marker\":{\"colorbar\":{\"outlinewidth\":0,\"ticks\":\"\"}},\"type\":\"scattergl\"}],\"scattermapbox\":[{\"marker\":{\"colorbar\":{\"outlinewidth\":0,\"ticks\":\"\"}},\"type\":\"scattermapbox\"}],\"scatterpolar\":[{\"marker\":{\"colorbar\":{\"outlinewidth\":0,\"ticks\":\"\"}},\"type\":\"scatterpolar\"}],\"scatterpolargl\":[{\"marker\":{\"colorbar\":{\"outlinewidth\":0,\"ticks\":\"\"}},\"type\":\"scatterpolargl\"}],\"scatterternary\":[{\"marker\":{\"colorbar\":{\"outlinewidth\":0,\"ticks\":\"\"}},\"type\":\"scatterternary\"}],\"surface\":[{\"colorbar\":{\"outlinewidth\":0,\"ticks\":\"\"},\"colorscale\":[[0.0,\"#0d0887\"],[0.1111111111111111,\"#46039f\"],[0.2222222222222222,\"#7201a8\"],[0.3333333333333333,\"#9c179e\"],[0.4444444444444444,\"#bd3786\"],[0.5555555555555556,\"#d8576b\"],[0.6666666666666666,\"#ed7953\"],[0.7777777777777778,\"#fb9f3a\"],[0.8888888888888888,\"#fdca26\"],[1.0,\"#f0f921\"]],\"type\":\"surface\"}],\"table\":[{\"cells\":{\"fill\":{\"color\":\"#EBF0F8\"},\"line\":{\"color\":\"white\"}},\"header\":{\"fill\":{\"color\":\"#C8D4E3\"},\"line\":{\"color\":\"white\"}},\"type\":\"table\"}]},\"layout\":{\"annotationdefaults\":{\"arrowcolor\":\"#2a3f5f\",\"arrowhead\":0,\"arrowwidth\":1},\"autotypenumbers\":\"strict\",\"coloraxis\":{\"colorbar\":{\"outlinewidth\":0,\"ticks\":\"\"}},\"colorscale\":{\"diverging\":[[0,\"#8e0152\"],[0.1,\"#c51b7d\"],[0.2,\"#de77ae\"],[0.3,\"#f1b6da\"],[0.4,\"#fde0ef\"],[0.5,\"#f7f7f7\"],[0.6,\"#e6f5d0\"],[0.7,\"#b8e186\"],[0.8,\"#7fbc41\"],[0.9,\"#4d9221\"],[1,\"#276419\"]],\"sequential\":[[0.0,\"#0d0887\"],[0.1111111111111111,\"#46039f\"],[0.2222222222222222,\"#7201a8\"],[0.3333333333333333,\"#9c179e\"],[0.4444444444444444,\"#bd3786\"],[0.5555555555555556,\"#d8576b\"],[0.6666666666666666,\"#ed7953\"],[0.7777777777777778,\"#fb9f3a\"],[0.8888888888888888,\"#fdca26\"],[1.0,\"#f0f921\"]],\"sequentialminus\":[[0.0,\"#0d0887\"],[0.1111111111111111,\"#46039f\"],[0.2222222222222222,\"#7201a8\"],[0.3333333333333333,\"#9c179e\"],[0.4444444444444444,\"#bd3786\"],[0.5555555555555556,\"#d8576b\"],[0.6666666666666666,\"#ed7953\"],[0.7777777777777778,\"#fb9f3a\"],[0.8888888888888888,\"#fdca26\"],[1.0,\"#f0f921\"]]},\"colorway\":[\"#636efa\",\"#EF553B\",\"#00cc96\",\"#ab63fa\",\"#FFA15A\",\"#19d3f3\",\"#FF6692\",\"#B6E880\",\"#FF97FF\",\"#FECB52\"],\"font\":{\"color\":\"#2a3f5f\"},\"geo\":{\"bgcolor\":\"white\",\"lakecolor\":\"white\",\"landcolor\":\"#E5ECF6\",\"showlakes\":true,\"showland\":true,\"subunitcolor\":\"white\"},\"hoverlabel\":{\"align\":\"left\"},\"hovermode\":\"closest\",\"mapbox\":{\"style\":\"light\"},\"paper_bgcolor\":\"white\",\"plot_bgcolor\":\"#E5ECF6\",\"polar\":{\"angularaxis\":{\"gridcolor\":\"white\",\"linecolor\":\"white\",\"ticks\":\"\"},\"bgcolor\":\"#E5ECF6\",\"radialaxis\":{\"gridcolor\":\"white\",\"linecolor\":\"white\",\"ticks\":\"\"}},\"scene\":{\"xaxis\":{\"backgroundcolor\":\"#E5ECF6\",\"gridcolor\":\"white\",\"gridwidth\":2,\"linecolor\":\"white\",\"showbackground\":true,\"ticks\":\"\",\"zerolinecolor\":\"white\"},\"yaxis\":{\"backgroundcolor\":\"#E5ECF6\",\"gridcolor\":\"white\",\"gridwidth\":2,\"linecolor\":\"white\",\"showbackground\":true,\"ticks\":\"\",\"zerolinecolor\":\"white\"},\"zaxis\":{\"backgroundcolor\":\"#E5ECF6\",\"gridcolor\":\"white\",\"gridwidth\":2,\"linecolor\":\"white\",\"showbackground\":true,\"ticks\":\"\",\"zerolinecolor\":\"white\"}},\"shapedefaults\":{\"line\":{\"color\":\"#2a3f5f\"}},\"ternary\":{\"aaxis\":{\"gridcolor\":\"white\",\"linecolor\":\"white\",\"ticks\":\"\"},\"baxis\":{\"gridcolor\":\"white\",\"linecolor\":\"white\",\"ticks\":\"\"},\"bgcolor\":\"#E5ECF6\",\"caxis\":{\"gridcolor\":\"white\",\"linecolor\":\"white\",\"ticks\":\"\"}},\"title\":{\"x\":0.05},\"xaxis\":{\"automargin\":true,\"gridcolor\":\"white\",\"linecolor\":\"white\",\"ticks\":\"\",\"title\":{\"standoff\":15},\"zerolinecolor\":\"white\",\"zerolinewidth\":2},\"yaxis\":{\"automargin\":true,\"gridcolor\":\"white\",\"linecolor\":\"white\",\"ticks\":\"\",\"title\":{\"standoff\":15},\"zerolinecolor\":\"white\",\"zerolinewidth\":2}}},\"legend\":{\"tracegroupgap\":0},\"margin\":{\"t\":60}},                        {\"responsive\": true}                    ).then(function(){\n",
              "                            \n",
              "var gd = document.getElementById('b06c3f4e-2434-4457-9ceb-84dc63ef2b12');\n",
              "var x = new MutationObserver(function (mutations, observer) {{\n",
              "        var display = window.getComputedStyle(gd).display;\n",
              "        if (!display || display === 'none') {{\n",
              "            console.log([gd, 'removed!']);\n",
              "            Plotly.purge(gd);\n",
              "            observer.disconnect();\n",
              "        }}\n",
              "}});\n",
              "\n",
              "// Listen for the removal of the full notebook cells\n",
              "var notebookContainer = gd.closest('#notebook-container');\n",
              "if (notebookContainer) {{\n",
              "    x.observe(notebookContainer, {childList: true});\n",
              "}}\n",
              "\n",
              "// Listen for the clearing of the current output cell\n",
              "var outputEl = gd.closest('.output');\n",
              "if (outputEl) {{\n",
              "    x.observe(outputEl, {childList: true});\n",
              "}}\n",
              "\n",
              "                        })                };                            </script>        </div>\n",
              "</body>\n",
              "</html>"
            ]
          },
          "metadata": {}
        }
      ],
      "source": [
        "plot = px.parallel_categories(posture_personality_df, dimensions=['LUMBAR PAIN', 'POSTURE'])\n",
        "plot.show()"
      ]
    },
    {
      "cell_type": "code",
      "execution_count": 1200,
      "metadata": {
        "colab": {
          "base_uri": "https://localhost:8080/",
          "height": 542
        },
        "id": "VSuJQ5hAfSH7",
        "outputId": "61be023e-d98d-4c4f-9825-6f57ac054b69"
      },
      "outputs": [
        {
          "output_type": "display_data",
          "data": {
            "text/html": [
              "<html>\n",
              "<head><meta charset=\"utf-8\" /></head>\n",
              "<body>\n",
              "    <div>            <script src=\"https://cdnjs.cloudflare.com/ajax/libs/mathjax/2.7.5/MathJax.js?config=TeX-AMS-MML_SVG\"></script><script type=\"text/javascript\">if (window.MathJax) {MathJax.Hub.Config({SVG: {font: \"STIX-Web\"}});}</script>                <script type=\"text/javascript\">window.PlotlyConfig = {MathJaxConfig: 'local'};</script>\n",
              "        <script src=\"https://cdn.plot.ly/plotly-2.8.3.min.js\"></script>                <div id=\"fbcac45e-6898-42c5-9cfe-81f9946ea39c\" class=\"plotly-graph-div\" style=\"height:525px; width:100%;\"></div>            <script type=\"text/javascript\">                                    window.PLOTLYENV=window.PLOTLYENV || {};                                    if (document.getElementById(\"fbcac45e-6898-42c5-9cfe-81f9946ea39c\")) {                    Plotly.newPlot(                        \"fbcac45e-6898-42c5-9cfe-81f9946ea39c\",                        [{\"dimensions\":[{\"label\":\"OTHER PARTS PAIN\",\"values\":[\"No Pain\",\"Low Pain\",\"No Pain\",\"No Pain\",\"No Pain\",\"No Pain\",\"High Pain\",\"High Pain\",\"High Pain\",\"Low Pain\",\"High Pain\",\"No Pain\",\"Moderate Pain\",\"Moderate Pain\",\"Moderate Pain\",\"No Pain\",\"Moderate Pain\",\"No Pain\",\"No Pain\",\"High Pain\",\"Moderate Pain\",\"No Pain\",\"Moderate Pain\",\"High Pain\",\"No Pain\",\"No Pain\",\"No Pain\",\"No Pain\",\"No Pain\",\"Moderate Pain\",\"High Pain\",\"Moderate Pain\",\"No Pain\",\"No Pain\",\"No Pain\",\"No Pain\",\"No Pain\",\"Low Pain\",\"Moderate Pain\",\"Low Pain\",\"No Pain\",\"No Pain\",\"No Pain\",\"No Pain\",\"No Pain\",\"No Pain\",\"Low Pain\",\"Moderate Pain\",\"No Pain\",\"Moderate Pain\",\"No Pain\",\"No Pain\",\"Low Pain\",\"No Pain\",\"High Pain\",\"No Pain\",\"No Pain\",\"Moderate Pain\",\"No Pain\",\"No Pain\",\"High Pain\",\"No Pain\",\"No Pain\",\"Moderate Pain\",\"No Pain\",\"No Pain\",\"No Pain\",\"No Pain\",\"Low Pain\",\"Moderate Pain\",\"No Pain\",\"Moderate Pain\",\"No Pain\",\"No Pain\",\"Low Pain\",\"No Pain\",\"Low Pain\",\"Low Pain\",\"Moderate Pain\",\"No Pain\",\"No Pain\",\"Moderate Pain\",\"No Pain\",\"No Pain\",\"No Pain\",\"No Pain\",\"High Pain\",\"No Pain\",\"No Pain\",\"No Pain\",\"Low Pain\",\"Moderate Pain\",\"Low Pain\",\"No Pain\",\"No Pain\",\"No Pain\"]},{\"label\":\"POSTURE\",\"values\":[\"A\",\"B\",\"A\",\"D\",\"A\",\"D\",\"B\",\"D\",\"C\",\"D\",\"B\",\"B\",\"D\",\"B\",\"A\",\"D\",\"A\",\"B\",\"B\",\"C\",\"D\",\"B\",\"B\",\"D\",\"C\",\"C\",\"A\",\"D\",\"D\",\"A\",\"A\",\"D\",\"B\",\"C\",\"D\",\"C\",\"C\",\"A\",\"B\",\"B\",\"C\",\"D\",\"A\",\"A\",\"A\",\"D\",\"D\",\"B\",\"B\",\"B\",\"C\",\"B\",\"A\",\"D\",\"B\",\"B\",\"B\",\"B\",\"C\",\"B\",\"B\",\"A\",\"B\",\"C\",\"A\",\"B\",\"C\",\"B\",\"C\",\"D\",\"A\",\"C\",\"B\",\"C\",\"B\",\"A\",\"C\",\"D\",\"B\",\"B\",\"C\",\"C\",\"D\",\"B\",\"D\",\"A\",\"A\",\"B\",\"B\",\"C\",\"A\",\"B\",\"B\",\"B\",\"A\",\"A\"]}],\"domain\":{\"x\":[0.0,1.0],\"y\":[0.0,1.0]},\"name\":\"\",\"type\":\"parcats\"}],                        {\"template\":{\"data\":{\"bar\":[{\"error_x\":{\"color\":\"#2a3f5f\"},\"error_y\":{\"color\":\"#2a3f5f\"},\"marker\":{\"line\":{\"color\":\"#E5ECF6\",\"width\":0.5},\"pattern\":{\"fillmode\":\"overlay\",\"size\":10,\"solidity\":0.2}},\"type\":\"bar\"}],\"barpolar\":[{\"marker\":{\"line\":{\"color\":\"#E5ECF6\",\"width\":0.5},\"pattern\":{\"fillmode\":\"overlay\",\"size\":10,\"solidity\":0.2}},\"type\":\"barpolar\"}],\"carpet\":[{\"aaxis\":{\"endlinecolor\":\"#2a3f5f\",\"gridcolor\":\"white\",\"linecolor\":\"white\",\"minorgridcolor\":\"white\",\"startlinecolor\":\"#2a3f5f\"},\"baxis\":{\"endlinecolor\":\"#2a3f5f\",\"gridcolor\":\"white\",\"linecolor\":\"white\",\"minorgridcolor\":\"white\",\"startlinecolor\":\"#2a3f5f\"},\"type\":\"carpet\"}],\"choropleth\":[{\"colorbar\":{\"outlinewidth\":0,\"ticks\":\"\"},\"type\":\"choropleth\"}],\"contour\":[{\"colorbar\":{\"outlinewidth\":0,\"ticks\":\"\"},\"colorscale\":[[0.0,\"#0d0887\"],[0.1111111111111111,\"#46039f\"],[0.2222222222222222,\"#7201a8\"],[0.3333333333333333,\"#9c179e\"],[0.4444444444444444,\"#bd3786\"],[0.5555555555555556,\"#d8576b\"],[0.6666666666666666,\"#ed7953\"],[0.7777777777777778,\"#fb9f3a\"],[0.8888888888888888,\"#fdca26\"],[1.0,\"#f0f921\"]],\"type\":\"contour\"}],\"contourcarpet\":[{\"colorbar\":{\"outlinewidth\":0,\"ticks\":\"\"},\"type\":\"contourcarpet\"}],\"heatmap\":[{\"colorbar\":{\"outlinewidth\":0,\"ticks\":\"\"},\"colorscale\":[[0.0,\"#0d0887\"],[0.1111111111111111,\"#46039f\"],[0.2222222222222222,\"#7201a8\"],[0.3333333333333333,\"#9c179e\"],[0.4444444444444444,\"#bd3786\"],[0.5555555555555556,\"#d8576b\"],[0.6666666666666666,\"#ed7953\"],[0.7777777777777778,\"#fb9f3a\"],[0.8888888888888888,\"#fdca26\"],[1.0,\"#f0f921\"]],\"type\":\"heatmap\"}],\"heatmapgl\":[{\"colorbar\":{\"outlinewidth\":0,\"ticks\":\"\"},\"colorscale\":[[0.0,\"#0d0887\"],[0.1111111111111111,\"#46039f\"],[0.2222222222222222,\"#7201a8\"],[0.3333333333333333,\"#9c179e\"],[0.4444444444444444,\"#bd3786\"],[0.5555555555555556,\"#d8576b\"],[0.6666666666666666,\"#ed7953\"],[0.7777777777777778,\"#fb9f3a\"],[0.8888888888888888,\"#fdca26\"],[1.0,\"#f0f921\"]],\"type\":\"heatmapgl\"}],\"histogram\":[{\"marker\":{\"pattern\":{\"fillmode\":\"overlay\",\"size\":10,\"solidity\":0.2}},\"type\":\"histogram\"}],\"histogram2d\":[{\"colorbar\":{\"outlinewidth\":0,\"ticks\":\"\"},\"colorscale\":[[0.0,\"#0d0887\"],[0.1111111111111111,\"#46039f\"],[0.2222222222222222,\"#7201a8\"],[0.3333333333333333,\"#9c179e\"],[0.4444444444444444,\"#bd3786\"],[0.5555555555555556,\"#d8576b\"],[0.6666666666666666,\"#ed7953\"],[0.7777777777777778,\"#fb9f3a\"],[0.8888888888888888,\"#fdca26\"],[1.0,\"#f0f921\"]],\"type\":\"histogram2d\"}],\"histogram2dcontour\":[{\"colorbar\":{\"outlinewidth\":0,\"ticks\":\"\"},\"colorscale\":[[0.0,\"#0d0887\"],[0.1111111111111111,\"#46039f\"],[0.2222222222222222,\"#7201a8\"],[0.3333333333333333,\"#9c179e\"],[0.4444444444444444,\"#bd3786\"],[0.5555555555555556,\"#d8576b\"],[0.6666666666666666,\"#ed7953\"],[0.7777777777777778,\"#fb9f3a\"],[0.8888888888888888,\"#fdca26\"],[1.0,\"#f0f921\"]],\"type\":\"histogram2dcontour\"}],\"mesh3d\":[{\"colorbar\":{\"outlinewidth\":0,\"ticks\":\"\"},\"type\":\"mesh3d\"}],\"parcoords\":[{\"line\":{\"colorbar\":{\"outlinewidth\":0,\"ticks\":\"\"}},\"type\":\"parcoords\"}],\"pie\":[{\"automargin\":true,\"type\":\"pie\"}],\"scatter\":[{\"marker\":{\"colorbar\":{\"outlinewidth\":0,\"ticks\":\"\"}},\"type\":\"scatter\"}],\"scatter3d\":[{\"line\":{\"colorbar\":{\"outlinewidth\":0,\"ticks\":\"\"}},\"marker\":{\"colorbar\":{\"outlinewidth\":0,\"ticks\":\"\"}},\"type\":\"scatter3d\"}],\"scattercarpet\":[{\"marker\":{\"colorbar\":{\"outlinewidth\":0,\"ticks\":\"\"}},\"type\":\"scattercarpet\"}],\"scattergeo\":[{\"marker\":{\"colorbar\":{\"outlinewidth\":0,\"ticks\":\"\"}},\"type\":\"scattergeo\"}],\"scattergl\":[{\"marker\":{\"colorbar\":{\"outlinewidth\":0,\"ticks\":\"\"}},\"type\":\"scattergl\"}],\"scattermapbox\":[{\"marker\":{\"colorbar\":{\"outlinewidth\":0,\"ticks\":\"\"}},\"type\":\"scattermapbox\"}],\"scatterpolar\":[{\"marker\":{\"colorbar\":{\"outlinewidth\":0,\"ticks\":\"\"}},\"type\":\"scatterpolar\"}],\"scatterpolargl\":[{\"marker\":{\"colorbar\":{\"outlinewidth\":0,\"ticks\":\"\"}},\"type\":\"scatterpolargl\"}],\"scatterternary\":[{\"marker\":{\"colorbar\":{\"outlinewidth\":0,\"ticks\":\"\"}},\"type\":\"scatterternary\"}],\"surface\":[{\"colorbar\":{\"outlinewidth\":0,\"ticks\":\"\"},\"colorscale\":[[0.0,\"#0d0887\"],[0.1111111111111111,\"#46039f\"],[0.2222222222222222,\"#7201a8\"],[0.3333333333333333,\"#9c179e\"],[0.4444444444444444,\"#bd3786\"],[0.5555555555555556,\"#d8576b\"],[0.6666666666666666,\"#ed7953\"],[0.7777777777777778,\"#fb9f3a\"],[0.8888888888888888,\"#fdca26\"],[1.0,\"#f0f921\"]],\"type\":\"surface\"}],\"table\":[{\"cells\":{\"fill\":{\"color\":\"#EBF0F8\"},\"line\":{\"color\":\"white\"}},\"header\":{\"fill\":{\"color\":\"#C8D4E3\"},\"line\":{\"color\":\"white\"}},\"type\":\"table\"}]},\"layout\":{\"annotationdefaults\":{\"arrowcolor\":\"#2a3f5f\",\"arrowhead\":0,\"arrowwidth\":1},\"autotypenumbers\":\"strict\",\"coloraxis\":{\"colorbar\":{\"outlinewidth\":0,\"ticks\":\"\"}},\"colorscale\":{\"diverging\":[[0,\"#8e0152\"],[0.1,\"#c51b7d\"],[0.2,\"#de77ae\"],[0.3,\"#f1b6da\"],[0.4,\"#fde0ef\"],[0.5,\"#f7f7f7\"],[0.6,\"#e6f5d0\"],[0.7,\"#b8e186\"],[0.8,\"#7fbc41\"],[0.9,\"#4d9221\"],[1,\"#276419\"]],\"sequential\":[[0.0,\"#0d0887\"],[0.1111111111111111,\"#46039f\"],[0.2222222222222222,\"#7201a8\"],[0.3333333333333333,\"#9c179e\"],[0.4444444444444444,\"#bd3786\"],[0.5555555555555556,\"#d8576b\"],[0.6666666666666666,\"#ed7953\"],[0.7777777777777778,\"#fb9f3a\"],[0.8888888888888888,\"#fdca26\"],[1.0,\"#f0f921\"]],\"sequentialminus\":[[0.0,\"#0d0887\"],[0.1111111111111111,\"#46039f\"],[0.2222222222222222,\"#7201a8\"],[0.3333333333333333,\"#9c179e\"],[0.4444444444444444,\"#bd3786\"],[0.5555555555555556,\"#d8576b\"],[0.6666666666666666,\"#ed7953\"],[0.7777777777777778,\"#fb9f3a\"],[0.8888888888888888,\"#fdca26\"],[1.0,\"#f0f921\"]]},\"colorway\":[\"#636efa\",\"#EF553B\",\"#00cc96\",\"#ab63fa\",\"#FFA15A\",\"#19d3f3\",\"#FF6692\",\"#B6E880\",\"#FF97FF\",\"#FECB52\"],\"font\":{\"color\":\"#2a3f5f\"},\"geo\":{\"bgcolor\":\"white\",\"lakecolor\":\"white\",\"landcolor\":\"#E5ECF6\",\"showlakes\":true,\"showland\":true,\"subunitcolor\":\"white\"},\"hoverlabel\":{\"align\":\"left\"},\"hovermode\":\"closest\",\"mapbox\":{\"style\":\"light\"},\"paper_bgcolor\":\"white\",\"plot_bgcolor\":\"#E5ECF6\",\"polar\":{\"angularaxis\":{\"gridcolor\":\"white\",\"linecolor\":\"white\",\"ticks\":\"\"},\"bgcolor\":\"#E5ECF6\",\"radialaxis\":{\"gridcolor\":\"white\",\"linecolor\":\"white\",\"ticks\":\"\"}},\"scene\":{\"xaxis\":{\"backgroundcolor\":\"#E5ECF6\",\"gridcolor\":\"white\",\"gridwidth\":2,\"linecolor\":\"white\",\"showbackground\":true,\"ticks\":\"\",\"zerolinecolor\":\"white\"},\"yaxis\":{\"backgroundcolor\":\"#E5ECF6\",\"gridcolor\":\"white\",\"gridwidth\":2,\"linecolor\":\"white\",\"showbackground\":true,\"ticks\":\"\",\"zerolinecolor\":\"white\"},\"zaxis\":{\"backgroundcolor\":\"#E5ECF6\",\"gridcolor\":\"white\",\"gridwidth\":2,\"linecolor\":\"white\",\"showbackground\":true,\"ticks\":\"\",\"zerolinecolor\":\"white\"}},\"shapedefaults\":{\"line\":{\"color\":\"#2a3f5f\"}},\"ternary\":{\"aaxis\":{\"gridcolor\":\"white\",\"linecolor\":\"white\",\"ticks\":\"\"},\"baxis\":{\"gridcolor\":\"white\",\"linecolor\":\"white\",\"ticks\":\"\"},\"bgcolor\":\"#E5ECF6\",\"caxis\":{\"gridcolor\":\"white\",\"linecolor\":\"white\",\"ticks\":\"\"}},\"title\":{\"x\":0.05},\"xaxis\":{\"automargin\":true,\"gridcolor\":\"white\",\"linecolor\":\"white\",\"ticks\":\"\",\"title\":{\"standoff\":15},\"zerolinecolor\":\"white\",\"zerolinewidth\":2},\"yaxis\":{\"automargin\":true,\"gridcolor\":\"white\",\"linecolor\":\"white\",\"ticks\":\"\",\"title\":{\"standoff\":15},\"zerolinecolor\":\"white\",\"zerolinewidth\":2}}},\"legend\":{\"tracegroupgap\":0},\"margin\":{\"t\":60}},                        {\"responsive\": true}                    ).then(function(){\n",
              "                            \n",
              "var gd = document.getElementById('fbcac45e-6898-42c5-9cfe-81f9946ea39c');\n",
              "var x = new MutationObserver(function (mutations, observer) {{\n",
              "        var display = window.getComputedStyle(gd).display;\n",
              "        if (!display || display === 'none') {{\n",
              "            console.log([gd, 'removed!']);\n",
              "            Plotly.purge(gd);\n",
              "            observer.disconnect();\n",
              "        }}\n",
              "}});\n",
              "\n",
              "// Listen for the removal of the full notebook cells\n",
              "var notebookContainer = gd.closest('#notebook-container');\n",
              "if (notebookContainer) {{\n",
              "    x.observe(notebookContainer, {childList: true});\n",
              "}}\n",
              "\n",
              "// Listen for the clearing of the current output cell\n",
              "var outputEl = gd.closest('.output');\n",
              "if (outputEl) {{\n",
              "    x.observe(outputEl, {childList: true});\n",
              "}}\n",
              "\n",
              "                        })                };                            </script>        </div>\n",
              "</body>\n",
              "</html>"
            ]
          },
          "metadata": {}
        }
      ],
      "source": [
        "plot = px.parallel_categories(posture_personality_df, dimensions=['OTHER PARTS PAIN', 'POSTURE'])\n",
        "plot.show()"
      ]
    },
    {
      "cell_type": "markdown",
      "metadata": {
        "id": "UTGt4tTxhRZA"
      },
      "source": [
        "Ao observamos os traços de personalidade individualmente não é possível perceber uma correlação entre personalidade e postura, iremos ver se é possível desenvolver um modelo que somados os traços de personlidade ira prever a postura do candidato."
      ]
    },
    {
      "cell_type": "markdown",
      "metadata": {
        "id": "AiMi4SHUj2i2"
      },
      "source": [
        "## **4.0 Pré-processamento dos dados**"
      ]
    },
    {
      "cell_type": "code",
      "execution_count": 1201,
      "metadata": {
        "id": "aTHe47H1il8I"
      },
      "outputs": [],
      "source": [
        "# Divisão entre atributos previsores e classe\n",
        "X_posture_personality = posture_personality_df.iloc[:, [3,10,11,12,13,14,15,16,17]].values\n",
        "y_posture_personality = posture_personality_df.iloc[:, -1].values"
      ]
    },
    {
      "cell_type": "code",
      "execution_count": 1202,
      "metadata": {
        "id": "NyXPz9iTi201"
      },
      "outputs": [],
      "source": [
        "# Importando bibliotecas OneHot\n",
        "from sklearn.preprocessing import OneHotEncoder\n",
        "from sklearn.compose import ColumnTransformer\n",
        "\n",
        "# Instanciando OneHotEncoder\n",
        "oneHotEncoder = ColumnTransformer(transformers=[('OneHot', OneHotEncoder(), [0,1,2,3,4,5,6,7,8])], remainder='passthrough')\n",
        "\n",
        "# Encodando atributos previsores no formato OneHot\n",
        "X_posture_personality = oneHotEncoder.fit_transform(X_posture_personality).toarray()"
      ]
    },
    {
      "cell_type": "code",
      "execution_count": 1203,
      "metadata": {
        "id": "M0xkuI0FtN-M"
      },
      "outputs": [],
      "source": [
        "# Importando biblioteca de padronização\n",
        "from sklearn.preprocessing import StandardScaler\n",
        "\n",
        "# Instanciando StandartScaler\n",
        "scaler = StandardScaler()\n",
        "\n",
        "# Padronizando atributos previsores\n",
        "X_posture_personality = scaler.fit_transform(X_posture_personality)"
      ]
    },
    {
      "cell_type": "code",
      "execution_count": 1204,
      "metadata": {
        "id": "EAuQ9vESu1C9"
      },
      "outputs": [],
      "source": [
        "# Importando biblioteca LabelEncoder\n",
        "from sklearn.preprocessing import LabelEncoder\n",
        "\n",
        "# Instanciando LabelEncoder\n",
        "labelEncoder = LabelEncoder()\n",
        "\n",
        "# Encodando atributo alvo\n",
        "y_posture_personality = labelEncoder.fit_transform(y_posture_personality)"
      ]
    },
    {
      "cell_type": "markdown",
      "metadata": {
        "id": "_JBlcVef9sPD"
      },
      "source": [
        "## **5.0 Seleção do modelo**"
      ]
    },
    {
      "cell_type": "code",
      "execution_count": 1205,
      "metadata": {
        "id": "yc9xvTDbgRPH"
      },
      "outputs": [],
      "source": [
        "scores = {}"
      ]
    },
    {
      "cell_type": "markdown",
      "metadata": {
        "id": "DlplilXX6GF3"
      },
      "source": [
        "### **Naive Bayes**"
      ]
    },
    {
      "cell_type": "code",
      "execution_count": 1206,
      "metadata": {
        "id": "BbMLcwr3vexu"
      },
      "outputs": [],
      "source": [
        "# Usaremos o GridSearchCV para fazer a validação cruzada e identificar os melhores parâmetros para cada modelo\n",
        "from sklearn.model_selection import GridSearchCV"
      ]
    },
    {
      "cell_type": "code",
      "execution_count": 1207,
      "metadata": {
        "id": "EXyQCfx1-Fmb"
      },
      "outputs": [],
      "source": [
        "# Importando o modelo Naive Bayes\n",
        "from sklearn.naive_bayes import GaussianNB"
      ]
    },
    {
      "cell_type": "code",
      "execution_count": 1208,
      "metadata": {
        "id": "8lhmAnWP-QPE"
      },
      "outputs": [],
      "source": [
        "# Passando parâmetros que serão testas pelo GridSearchCV\n",
        "parameters = {}"
      ]
    },
    {
      "cell_type": "code",
      "execution_count": 1209,
      "metadata": {
        "id": "yA9W4yE1wVYd"
      },
      "outputs": [],
      "source": [
        "# Instanciando GridSearchCV\n",
        "grid_search = GridSearchCV(estimator=GaussianNB(), param_grid=parameters, cv=10)"
      ]
    },
    {
      "cell_type": "code",
      "execution_count": 1210,
      "metadata": {
        "colab": {
          "base_uri": "https://localhost:8080/"
        },
        "id": "c65ntSdy-a9a",
        "outputId": "0b6b1088-653d-4b8c-c405-743fa9b45944"
      },
      "outputs": [
        {
          "output_type": "execute_result",
          "data": {
            "text/plain": [
              "GridSearchCV(cv=10, estimator=GaussianNB(), param_grid={})"
            ]
          },
          "metadata": {},
          "execution_count": 1210
        }
      ],
      "source": [
        "# Treinando modelo com os atributos teste e alvo\n",
        "grid_search.fit(X_posture_personality, y_posture_personality)"
      ]
    },
    {
      "cell_type": "code",
      "execution_count": 1211,
      "metadata": {
        "colab": {
          "base_uri": "https://localhost:8080/"
        },
        "id": "hTl76gda9987",
        "outputId": "71aaa8fe-9a66-4df8-989d-f738dbd8d0f3"
      },
      "outputs": [
        {
          "output_type": "stream",
          "name": "stdout",
          "text": [
            "{}\n"
          ]
        }
      ],
      "source": [
        "# Identificando os melhores parâmetros\n",
        "best_parameters = grid_search.best_params_\n",
        "print(best_parameters)"
      ]
    },
    {
      "cell_type": "code",
      "execution_count": 1212,
      "metadata": {
        "colab": {
          "base_uri": "https://localhost:8080/"
        },
        "id": "nn_asumM-W4c",
        "outputId": "ce42c4f5-b9be-4ab6-9b86-fbc0440b9899"
      },
      "outputs": [
        {
          "output_type": "stream",
          "name": "stdout",
          "text": [
            "25.000000000000007\n"
          ]
        }
      ],
      "source": [
        "# Retornando Nível de acertos das previsões\n",
        "best_score = grid_search.best_score_\n",
        "print(best_score * 100)"
      ]
    },
    {
      "cell_type": "code",
      "source": [
        "scores['Naive Bays'] = [round(best_score, 2)]"
      ],
      "metadata": {
        "id": "Q62p6IP1izmU"
      },
      "execution_count": 1213,
      "outputs": []
    },
    {
      "cell_type": "markdown",
      "metadata": {
        "id": "oEDZLkIK6ODr"
      },
      "source": [
        "### **Decision Tree**"
      ]
    },
    {
      "cell_type": "code",
      "execution_count": 1214,
      "metadata": {
        "id": "I8yYPHve_J7E"
      },
      "outputs": [],
      "source": [
        "from sklearn.tree import DecisionTreeClassifier"
      ]
    },
    {
      "cell_type": "code",
      "execution_count": 1215,
      "metadata": {
        "id": "-12VaSvF_MjV"
      },
      "outputs": [],
      "source": [
        "# Passando parâmetros que serão testas pelo GridSearchCV\n",
        "parameters = { 'criterion': ['gini', 'entropy'],\n",
        "               'splitter': ['best', 'random'],\n",
        "               'min_samples_split': [2, 5, 10],\n",
        "               'min_samples_leaf': [1,5,10]}"
      ]
    },
    {
      "cell_type": "code",
      "execution_count": 1216,
      "metadata": {
        "id": "cQg9Zkgp_RRS"
      },
      "outputs": [],
      "source": [
        "# Instanciando GridSearchCV\n",
        "grid_search = GridSearchCV(estimator=DecisionTreeClassifier(), param_grid=parameters, cv=10)"
      ]
    },
    {
      "cell_type": "code",
      "execution_count": 1217,
      "metadata": {
        "colab": {
          "base_uri": "https://localhost:8080/"
        },
        "id": "bj7Bk5_i_SyL",
        "outputId": "2b441b32-7d40-419a-8393-d2b73711f89d"
      },
      "outputs": [
        {
          "output_type": "execute_result",
          "data": {
            "text/plain": [
              "GridSearchCV(cv=10, estimator=DecisionTreeClassifier(),\n",
              "             param_grid={'criterion': ['gini', 'entropy'],\n",
              "                         'min_samples_leaf': [1, 5, 10],\n",
              "                         'min_samples_split': [2, 5, 10],\n",
              "                         'splitter': ['best', 'random']})"
            ]
          },
          "metadata": {},
          "execution_count": 1217
        }
      ],
      "source": [
        "# Treinando modelo com os atributos teste e alvo\n",
        "grid_search.fit(X_posture_personality, y_posture_personality)"
      ]
    },
    {
      "cell_type": "code",
      "execution_count": 1218,
      "metadata": {
        "colab": {
          "base_uri": "https://localhost:8080/"
        },
        "id": "esAXFnGO_ftX",
        "outputId": "c70c8780-db67-4889-f640-994802210298"
      },
      "outputs": [
        {
          "output_type": "stream",
          "name": "stdout",
          "text": [
            "{'criterion': 'entropy', 'min_samples_leaf': 10, 'min_samples_split': 2, 'splitter': 'best'}\n"
          ]
        }
      ],
      "source": [
        "# Identificando os melhores parâmetros\n",
        "best_parameters = grid_search.best_params_\n",
        "print(best_parameters)"
      ]
    },
    {
      "cell_type": "code",
      "execution_count": 1219,
      "metadata": {
        "colab": {
          "base_uri": "https://localhost:8080/"
        },
        "id": "_AUp1J94_jV_",
        "outputId": "acd8d723-baf6-4893-ab63-a35f44cbf4d5"
      },
      "outputs": [
        {
          "output_type": "stream",
          "name": "stdout",
          "text": [
            "41.77777777777778\n"
          ]
        }
      ],
      "source": [
        "# Retornando Nível de acertos das previsões\n",
        "best_score = grid_search.best_score_\n",
        "print(best_score * 100)"
      ]
    },
    {
      "cell_type": "code",
      "source": [
        "scores['Decision Tree'] = [round(best_score, 2)]"
      ],
      "metadata": {
        "id": "Qzl7IIf7jBDa"
      },
      "execution_count": 1220,
      "outputs": []
    },
    {
      "cell_type": "markdown",
      "metadata": {
        "id": "W29o3rh36XOX"
      },
      "source": [
        "### **Random Forest**"
      ]
    },
    {
      "cell_type": "code",
      "execution_count": 1221,
      "metadata": {
        "id": "QJLP_Xgz_k6I"
      },
      "outputs": [],
      "source": [
        "from sklearn.ensemble import RandomForestClassifier"
      ]
    },
    {
      "cell_type": "code",
      "execution_count": 1222,
      "metadata": {
        "id": "bcWoDf86AsWK"
      },
      "outputs": [],
      "source": [
        "# Passando parâmetros que serão testas pelo GridSearchCV\n",
        "parameters = { 'criterion': ['gini', 'entropy'],\n",
        "               'n_estimators': [10, 40 ,100, 150],\n",
        "               'min_samples_split': [2, 5, 10],\n",
        "               'min_samples_leaf': [1,5,10]}"
      ]
    },
    {
      "cell_type": "code",
      "execution_count": 1223,
      "metadata": {
        "id": "0PYO792SAth-"
      },
      "outputs": [],
      "source": [
        "# Instanciando GridSearchCV\n",
        "grid_search = GridSearchCV(estimator=RandomForestClassifier(), param_grid=parameters, cv=10)"
      ]
    },
    {
      "cell_type": "code",
      "execution_count": 1224,
      "metadata": {
        "colab": {
          "base_uri": "https://localhost:8080/"
        },
        "id": "5vTpShtBAzpa",
        "outputId": "1d315c84-ae91-4452-cab9-b07ec0e7c25f"
      },
      "outputs": [
        {
          "output_type": "execute_result",
          "data": {
            "text/plain": [
              "GridSearchCV(cv=10, estimator=RandomForestClassifier(),\n",
              "             param_grid={'criterion': ['gini', 'entropy'],\n",
              "                         'min_samples_leaf': [1, 5, 10],\n",
              "                         'min_samples_split': [2, 5, 10],\n",
              "                         'n_estimators': [10, 40, 100, 150]})"
            ]
          },
          "metadata": {},
          "execution_count": 1224
        }
      ],
      "source": [
        "# Treinando modelo com os atributos teste e alvo\n",
        "grid_search.fit(X_posture_personality, y_posture_personality)"
      ]
    },
    {
      "cell_type": "code",
      "execution_count": 1225,
      "metadata": {
        "colab": {
          "base_uri": "https://localhost:8080/"
        },
        "id": "Alfk-aewA0g3",
        "outputId": "521a952c-2263-4ff2-c3cb-46363560d140"
      },
      "outputs": [
        {
          "output_type": "stream",
          "name": "stdout",
          "text": [
            "{'criterion': 'gini', 'min_samples_leaf': 5, 'min_samples_split': 5, 'n_estimators': 150}\n"
          ]
        }
      ],
      "source": [
        "# Identificando os melhores parâmetros\n",
        "best_parameters = grid_search.best_params_\n",
        "print(best_parameters)"
      ]
    },
    {
      "cell_type": "code",
      "execution_count": 1226,
      "metadata": {
        "colab": {
          "base_uri": "https://localhost:8080/"
        },
        "id": "avcJYFKxA3FT",
        "outputId": "0e3a3f0f-242e-4082-885c-55b59b089915"
      },
      "outputs": [
        {
          "output_type": "stream",
          "name": "stdout",
          "text": [
            "48.11111111111111\n"
          ]
        }
      ],
      "source": [
        "# Retornando Nível de acertos das previsões\n",
        "best_score = grid_search.best_score_\n",
        "print(best_score * 100)"
      ]
    },
    {
      "cell_type": "code",
      "source": [
        "scores['Random Forest'] = [round(best_score, 2)]"
      ],
      "metadata": {
        "id": "w3foIrPVjOR1"
      },
      "execution_count": 1227,
      "outputs": []
    },
    {
      "cell_type": "markdown",
      "metadata": {
        "id": "D-dXODCt6byA"
      },
      "source": [
        "### **K-Nearest Neighbour**"
      ]
    },
    {
      "cell_type": "code",
      "execution_count": 1228,
      "metadata": {
        "id": "DPJGdHKUBOkN"
      },
      "outputs": [],
      "source": [
        "from sklearn.neighbors import KNeighborsClassifier"
      ]
    },
    {
      "cell_type": "code",
      "execution_count": 1229,
      "metadata": {
        "id": "g-OT42KgBOs2"
      },
      "outputs": [],
      "source": [
        "# Passando parâmetros que serão testas pelo GridSearchCV\n",
        "parameters = { 'n_neighbors': [3, 5, 10, 20],\n",
        "              'p': [1, 2]}"
      ]
    },
    {
      "cell_type": "code",
      "execution_count": 1230,
      "metadata": {
        "id": "Dbp8GYhlBOvb"
      },
      "outputs": [],
      "source": [
        "# Instanciando GridSearchCV\n",
        "grid_search = GridSearchCV(estimator=KNeighborsClassifier(), param_grid=parameters, cv=10)"
      ]
    },
    {
      "cell_type": "code",
      "execution_count": 1231,
      "metadata": {
        "colab": {
          "base_uri": "https://localhost:8080/"
        },
        "id": "TgKjUk7aBOyY",
        "outputId": "a3982a7e-43e5-4007-82aa-9dfb7183cf94"
      },
      "outputs": [
        {
          "output_type": "execute_result",
          "data": {
            "text/plain": [
              "GridSearchCV(cv=10, estimator=KNeighborsClassifier(),\n",
              "             param_grid={'n_neighbors': [3, 5, 10, 20], 'p': [1, 2]})"
            ]
          },
          "metadata": {},
          "execution_count": 1231
        }
      ],
      "source": [
        "# Treinando modelo com os atributos teste e alvo\n",
        "grid_search.fit(X_posture_personality, y_posture_personality)"
      ]
    },
    {
      "cell_type": "code",
      "execution_count": 1232,
      "metadata": {
        "colab": {
          "base_uri": "https://localhost:8080/"
        },
        "id": "YjYS-BI0BO03",
        "outputId": "2759e520-4714-49bb-98d4-9fd3e52c6419"
      },
      "outputs": [
        {
          "output_type": "stream",
          "name": "stdout",
          "text": [
            "{'n_neighbors': 20, 'p': 2}\n"
          ]
        }
      ],
      "source": [
        "# Identificando os melhores parâmetros\n",
        "best_parameters = grid_search.best_params_\n",
        "print(best_parameters)"
      ]
    },
    {
      "cell_type": "code",
      "execution_count": 1233,
      "metadata": {
        "colab": {
          "base_uri": "https://localhost:8080/"
        },
        "id": "8X23hq4oBO8v",
        "outputId": "2a7c42e0-4801-4760-9cb9-8556e1981ac0"
      },
      "outputs": [
        {
          "output_type": "stream",
          "name": "stdout",
          "text": [
            "45.888888888888886\n"
          ]
        }
      ],
      "source": [
        "# Retornando Nível de acertos das previsões\n",
        "best_score = grid_search.best_score_\n",
        "print(best_score * 100)"
      ]
    },
    {
      "cell_type": "code",
      "source": [
        "scores['K-Nearest Neighbour'] = [round(best_score, 2)]"
      ],
      "metadata": {
        "id": "kYus0glhjWDe"
      },
      "execution_count": 1234,
      "outputs": []
    },
    {
      "cell_type": "markdown",
      "metadata": {
        "id": "VggJAED16wzE"
      },
      "source": [
        "### **Logistic Regression**"
      ]
    },
    {
      "cell_type": "code",
      "execution_count": 1235,
      "metadata": {
        "id": "M5o6YBJyBPA6"
      },
      "outputs": [],
      "source": [
        "from sklearn.linear_model import LogisticRegression"
      ]
    },
    {
      "cell_type": "code",
      "execution_count": 1236,
      "metadata": {
        "id": "Gh4W8modBPDV"
      },
      "outputs": [],
      "source": [
        "# Passando parâmetros que serão testas pelo GridSearchCV\n",
        "parameters = {'tol': [0.0001, 0.00001, 0.000001],\n",
        "              'C': [1.0, 1.5, 2.0],\n",
        "              'solver': ['lbfgs', 'sag', 'saga']}"
      ]
    },
    {
      "cell_type": "code",
      "execution_count": 1237,
      "metadata": {
        "id": "xXTr-aeXBPF6"
      },
      "outputs": [],
      "source": [
        "# Instanciando GridSearchCV\n",
        "grid_search = GridSearchCV(estimator=LogisticRegression(), param_grid=parameters, cv=10)"
      ]
    },
    {
      "cell_type": "code",
      "execution_count": 1238,
      "metadata": {
        "colab": {
          "base_uri": "https://localhost:8080/"
        },
        "id": "3JEC43NtBPIy",
        "outputId": "994146b2-1172-47df-eb17-5ecc4d1a9f43"
      },
      "outputs": [
        {
          "output_type": "execute_result",
          "data": {
            "text/plain": [
              "GridSearchCV(cv=10, estimator=LogisticRegression(),\n",
              "             param_grid={'C': [1.0, 1.5, 2.0],\n",
              "                         'solver': ['lbfgs', 'sag', 'saga'],\n",
              "                         'tol': [0.0001, 1e-05, 1e-06]})"
            ]
          },
          "metadata": {},
          "execution_count": 1238
        }
      ],
      "source": [
        "# Treinando modelo com os atributos teste e alvo\n",
        "grid_search.fit(X_posture_personality, y_posture_personality)"
      ]
    },
    {
      "cell_type": "code",
      "execution_count": 1239,
      "metadata": {
        "colab": {
          "base_uri": "https://localhost:8080/"
        },
        "id": "wlGz9JSuBPLf",
        "outputId": "27a7131b-1ba1-4c23-a041-cc441fb5e9cf"
      },
      "outputs": [
        {
          "output_type": "stream",
          "name": "stdout",
          "text": [
            "{'C': 1.0, 'solver': 'lbfgs', 'tol': 0.0001}\n"
          ]
        }
      ],
      "source": [
        "# Identificando os melhores parâmetros\n",
        "best_parameters = grid_search.best_params_\n",
        "print(best_parameters)"
      ]
    },
    {
      "cell_type": "code",
      "execution_count": 1240,
      "metadata": {
        "colab": {
          "base_uri": "https://localhost:8080/"
        },
        "id": "orhvfDyxBPN4",
        "outputId": "320b77dd-a498-4691-e966-c760ea929cce"
      },
      "outputs": [
        {
          "output_type": "stream",
          "name": "stdout",
          "text": [
            "31.333333333333336\n"
          ]
        }
      ],
      "source": [
        "# Retornando Nível de acertos das previsões\n",
        "best_score = grid_search.best_score_\n",
        "print(best_score * 100)"
      ]
    },
    {
      "cell_type": "code",
      "source": [
        "scores['Logistic Regression'] = [round(best_score, 2)]"
      ],
      "metadata": {
        "id": "6lB9Nc3pkDBD"
      },
      "execution_count": 1241,
      "outputs": []
    },
    {
      "cell_type": "markdown",
      "metadata": {
        "id": "GxyF78PS62Od"
      },
      "source": [
        "### **SVM**"
      ]
    },
    {
      "cell_type": "code",
      "execution_count": 1242,
      "metadata": {
        "id": "WlhgscvvBPQ5"
      },
      "outputs": [],
      "source": [
        "from sklearn.svm import SVC"
      ]
    },
    {
      "cell_type": "code",
      "execution_count": 1243,
      "metadata": {
        "id": "quy8KQ-ICRa7"
      },
      "outputs": [],
      "source": [
        "# Passando parâmetros que serão testas pelo GridSearchCV\n",
        "parameters = {'tol': [0.0001, 0.00001, 0.000001],\n",
        "              'C': [1.0, 1.5, 2.0],\n",
        "              'kernel': ['rbf', 'linear', 'poly', 'sigmoid']}"
      ]
    },
    {
      "cell_type": "code",
      "execution_count": 1244,
      "metadata": {
        "id": "HuxG7x_6BPTr"
      },
      "outputs": [],
      "source": [
        "# Instanciando GridSearchCV\n",
        "grid_search = GridSearchCV(estimator=SVC(), param_grid=parameters, cv=10)"
      ]
    },
    {
      "cell_type": "code",
      "execution_count": 1245,
      "metadata": {
        "colab": {
          "base_uri": "https://localhost:8080/"
        },
        "id": "9nYx57DWBPWQ",
        "outputId": "63c00193-b867-4900-a220-cacadc71a7ad"
      },
      "outputs": [
        {
          "output_type": "execute_result",
          "data": {
            "text/plain": [
              "GridSearchCV(cv=10, estimator=SVC(),\n",
              "             param_grid={'C': [1.0, 1.5, 2.0],\n",
              "                         'kernel': ['rbf', 'linear', 'poly', 'sigmoid'],\n",
              "                         'tol': [0.0001, 1e-05, 1e-06]})"
            ]
          },
          "metadata": {},
          "execution_count": 1245
        }
      ],
      "source": [
        "# Treinando modelo com os atributos teste e alvo\n",
        "grid_search.fit(X_posture_personality, y_posture_personality)"
      ]
    },
    {
      "cell_type": "code",
      "execution_count": 1246,
      "metadata": {
        "colab": {
          "base_uri": "https://localhost:8080/"
        },
        "id": "_MpXM4L-BPY_",
        "outputId": "3267787d-d45e-4b62-8136-7952c7021e9e"
      },
      "outputs": [
        {
          "output_type": "stream",
          "name": "stdout",
          "text": [
            "{'C': 1.0, 'kernel': 'sigmoid', 'tol': 0.0001}\n"
          ]
        }
      ],
      "source": [
        "# Identificando os melhores parâmetros\n",
        "best_parameters = grid_search.best_params_\n",
        "print(best_parameters)"
      ]
    },
    {
      "cell_type": "code",
      "execution_count": 1247,
      "metadata": {
        "colab": {
          "base_uri": "https://localhost:8080/"
        },
        "id": "j0XRs_bSBPms",
        "outputId": "bb7a0ac0-9838-499c-f499-098232ecc640"
      },
      "outputs": [
        {
          "output_type": "stream",
          "name": "stdout",
          "text": [
            "41.77777777777777\n"
          ]
        }
      ],
      "source": [
        "# Retornando Nível de acertos das previsões\n",
        "best_score = grid_search.best_score_\n",
        "print(best_score * 100)"
      ]
    },
    {
      "cell_type": "code",
      "source": [
        "scores['SVM'] = [round(best_score, 2)]"
      ],
      "metadata": {
        "id": "zIpyrBU9kMjA"
      },
      "execution_count": 1248,
      "outputs": []
    },
    {
      "cell_type": "code",
      "source": [
        "scores"
      ],
      "metadata": {
        "colab": {
          "base_uri": "https://localhost:8080/"
        },
        "id": "MiRxF0qZyCES",
        "outputId": "a1440d32-36d0-43ac-c065-d1060d351b59"
      },
      "execution_count": 1249,
      "outputs": [
        {
          "output_type": "execute_result",
          "data": {
            "text/plain": [
              "{'Naive Bays': [0.25],\n",
              " 'Decision Tree': [0.42],\n",
              " 'Random Forest': [0.48],\n",
              " 'K-Nearest Neighbour': [0.46],\n",
              " 'Logistic Regression': [0.31],\n",
              " 'SVM': [0.42]}"
            ]
          },
          "metadata": {},
          "execution_count": 1249
        }
      ]
    },
    {
      "cell_type": "markdown",
      "source": [
        "### **Avaliação dos modelos**"
      ],
      "metadata": {
        "id": "CA_J8ZJBvA19"
      }
    },
    {
      "cell_type": "code",
      "source": [
        "scores_df = pd.DataFrame(scores)\n",
        "figure = plt.figure\n",
        "plt.title('Score')\n",
        "plot = sns.barplot(data=scores_df, orient='h', order=['Random Forest', 'K-Nearest Neighbour', 'SVM', 'Decision Tree', 'Logistic Regression', 'Naive Bays' ]);\n",
        "for i in plot.patches:\n",
        "  plot.annotate(i.get_width(), (i.get_width(), i.get_y() + i.get_height() / 2))\n",
        "plot.set(xticklabels='')"
      ],
      "metadata": {
        "colab": {
          "base_uri": "https://localhost:8080/",
          "height": 285
        },
        "outputId": "00e8deb6-0cd7-4bd9-ba3a-1c4e2e162add",
        "id": "Z6LT8O8KkMjB"
      },
      "execution_count": 1250,
      "outputs": [
        {
          "output_type": "execute_result",
          "data": {
            "text/plain": [
              "[[]]"
            ]
          },
          "metadata": {},
          "execution_count": 1250
        },
        {
          "output_type": "display_data",
          "data": {
            "text/plain": [
              "<Figure size 432x288 with 1 Axes>"
            ],
            "image/png": "[encoded data removed]"
          },
          "metadata": {
            "needs_background": "light"
          }
        }
      ]
    },
    {
      "cell_type": "markdown",
      "metadata": {
        "id": "hD4m0QBIlELx"
      },
      "source": [
        "Usando somente as colunas relacionadas a personalidade não foi possível criar um modelo com um alto nível de acerto nas previsões, então testaremos os modelos novamente usando também as colunas relacionadas as dores relatadas pelos candidatos da pesquisa."
      ]
    },
    {
      "cell_type": "markdown",
      "metadata": {
        "id": "LmxmSxFR7Hhp"
      },
      "source": [
        "## **6.0 Pré-processamento dos dados adicionando atributos relacionado a dores**"
      ]
    },
    {
      "cell_type": "code",
      "execution_count": 1251,
      "metadata": {
        "id": "MBFkbw-Ldm9e"
      },
      "outputs": [],
      "source": [
        "# Divisão entre atributos previsores e classe, aqui adicionamos as colunas relacionadas as queixas de dores.\n",
        "\n",
        "X_posture_personality = posture_personality_df.iloc[:, [3,5,6,7,10,11,12,13,14,15,16,17]].values\n",
        "y_posture_personality = posture_personality_df.iloc[:, -1].values"
      ]
    },
    {
      "cell_type": "code",
      "execution_count": 1252,
      "metadata": {
        "id": "XsPcy9AxeHLP"
      },
      "outputs": [],
      "source": [
        "# Importando bibliotecas OneHot\n",
        "from sklearn.preprocessing import OneHotEncoder\n",
        "from sklearn.compose import ColumnTransformer\n",
        "\n",
        "# Instanciando OneHotEncoder\n",
        "oneHotEncoder = ColumnTransformer(transformers=[('OneHot', OneHotEncoder(), [0,1,2,3,4,5,6,7,8,9,10,11])], remainder='passthrough')\n",
        "\n",
        "# Encodando atributos previsores no formato OneHot\n",
        "X_posture_personality = oneHotEncoder.fit_transform(X_posture_personality).toarray()"
      ]
    },
    {
      "cell_type": "code",
      "execution_count": 1253,
      "metadata": {
        "id": "jaeSrCk8eHLQ"
      },
      "outputs": [],
      "source": [
        "# Importando biblioteca de padronização\n",
        "from sklearn.preprocessing import StandardScaler\n",
        "\n",
        "# Instanciando StandartScaler\n",
        "scaler = StandardScaler()\n",
        "\n",
        "# Padronizando atributos previsores\n",
        "X_posture_personality = scaler.fit_transform(X_posture_personality)"
      ]
    },
    {
      "cell_type": "code",
      "execution_count": 1254,
      "metadata": {
        "id": "gf0HZi3-eHLR"
      },
      "outputs": [],
      "source": [
        "# Importando biblioteca LabelEncoder\n",
        "from sklearn.preprocessing import LabelEncoder\n",
        "\n",
        "# Instanciando LabelEncoder\n",
        "labelEncoder = LabelEncoder()\n",
        "\n",
        "# Encodando atributo alvo\n",
        "y_posture_personality = labelEncoder.fit_transform(y_posture_personality)"
      ]
    },
    {
      "cell_type": "markdown",
      "metadata": {
        "id": "_mQAcBR07gTU"
      },
      "source": [
        "## **7.0 Seleção do modelo com novos dados pré-processados**"
      ]
    },
    {
      "cell_type": "markdown",
      "metadata": {
        "id": "_tizWynP8GNT"
      },
      "source": [
        "### **Naiver Bayes**"
      ]
    },
    {
      "cell_type": "code",
      "execution_count": 1255,
      "metadata": {
        "id": "VsQyMwNFeHLU"
      },
      "outputs": [],
      "source": [
        "from sklearn.naive_bayes import GaussianNB"
      ]
    },
    {
      "cell_type": "code",
      "execution_count": 1256,
      "metadata": {
        "id": "bjkbxq4keHLU"
      },
      "outputs": [],
      "source": [
        "# Passando parâmetros que serão testas pelo GridSearchCV\n",
        "parameters = {}"
      ]
    },
    {
      "cell_type": "code",
      "execution_count": 1257,
      "metadata": {
        "id": "RYGR0CBreHLU"
      },
      "outputs": [],
      "source": [
        "# Instanciando GridSearchCV\n",
        "grid_search = GridSearchCV(estimator=GaussianNB(), param_grid=parameters, cv=10)"
      ]
    },
    {
      "cell_type": "code",
      "execution_count": 1258,
      "metadata": {
        "colab": {
          "base_uri": "https://localhost:8080/"
        },
        "id": "GAdVAFM5eHLU",
        "outputId": "3680ec18-0614-4a19-ac70-07431245c453"
      },
      "outputs": [
        {
          "output_type": "execute_result",
          "data": {
            "text/plain": [
              "GridSearchCV(cv=10, estimator=GaussianNB(), param_grid={})"
            ]
          },
          "metadata": {},
          "execution_count": 1258
        }
      ],
      "source": [
        "# Treinando modelo com os atributos teste e alvo\n",
        "grid_search.fit(X_posture_personality, y_posture_personality)"
      ]
    },
    {
      "cell_type": "code",
      "execution_count": 1259,
      "metadata": {
        "colab": {
          "base_uri": "https://localhost:8080/"
        },
        "id": "oI8IDN51eHLV",
        "outputId": "e19de714-d1e0-472c-9184-701032904643"
      },
      "outputs": [
        {
          "output_type": "stream",
          "name": "stdout",
          "text": [
            "{}\n"
          ]
        }
      ],
      "source": [
        "# Identificando os melhores parâmetros\n",
        "best_parameters = grid_search.best_params_\n",
        "print(best_parameters)"
      ]
    },
    {
      "cell_type": "code",
      "execution_count": 1260,
      "metadata": {
        "colab": {
          "base_uri": "https://localhost:8080/"
        },
        "id": "iK7V1TgAeHLV",
        "outputId": "5904c3bc-84ce-4d13-e7f2-98009a7aa528"
      },
      "outputs": [
        {
          "output_type": "stream",
          "name": "stdout",
          "text": [
            "23.77777777777778\n"
          ]
        }
      ],
      "source": [
        "# Retornando Nível de acertos das previsões\n",
        "best_score = grid_search.best_score_\n",
        "print(best_score * 100)"
      ]
    },
    {
      "cell_type": "code",
      "source": [
        "scores['Naive Bays'] = [round(best_score, 2)]"
      ],
      "metadata": {
        "id": "EBlEqJAN3trv"
      },
      "execution_count": 1261,
      "outputs": []
    },
    {
      "cell_type": "markdown",
      "metadata": {
        "id": "kcukmTqU8JUw"
      },
      "source": [
        "### **Decision Tree**"
      ]
    },
    {
      "cell_type": "code",
      "execution_count": 1262,
      "metadata": {
        "id": "dQdAD7LceHLV"
      },
      "outputs": [],
      "source": [
        "from sklearn.tree import DecisionTreeClassifier"
      ]
    },
    {
      "cell_type": "code",
      "execution_count": 1263,
      "metadata": {
        "id": "Gy8ckhaoeHLV"
      },
      "outputs": [],
      "source": [
        "# Passando parâmetros que serão testas pelo GridSearchCV\n",
        "parameters = { 'criterion': ['gini', 'entropy'],\n",
        "               'splitter': ['best', 'random'],\n",
        "               'min_samples_split': [2, 5, 10],\n",
        "               'min_samples_leaf': [1,5,10]}"
      ]
    },
    {
      "cell_type": "code",
      "execution_count": 1264,
      "metadata": {
        "id": "XSzVNXqOeHLV"
      },
      "outputs": [],
      "source": [
        "# Instanciando GridSearchCV\n",
        "grid_search = GridSearchCV(estimator=DecisionTreeClassifier(), param_grid=parameters, cv=10)"
      ]
    },
    {
      "cell_type": "code",
      "execution_count": 1265,
      "metadata": {
        "colab": {
          "base_uri": "https://localhost:8080/"
        },
        "id": "iSoEDZHVeHLW",
        "outputId": "1a25bbf7-7c1a-4a0d-92dc-442ae2687ed9"
      },
      "outputs": [
        {
          "output_type": "execute_result",
          "data": {
            "text/plain": [
              "GridSearchCV(cv=10, estimator=DecisionTreeClassifier(),\n",
              "             param_grid={'criterion': ['gini', 'entropy'],\n",
              "                         'min_samples_leaf': [1, 5, 10],\n",
              "                         'min_samples_split': [2, 5, 10],\n",
              "                         'splitter': ['best', 'random']})"
            ]
          },
          "metadata": {},
          "execution_count": 1265
        }
      ],
      "source": [
        "# Treinando modelo com os atributos teste e alvo\n",
        "grid_search.fit(X_posture_personality, y_posture_personality)"
      ]
    },
    {
      "cell_type": "code",
      "execution_count": 1266,
      "metadata": {
        "colab": {
          "base_uri": "https://localhost:8080/"
        },
        "id": "XLkF4KkdeHLW",
        "outputId": "03b98157-9c71-433f-cce2-e8f779cacfa8"
      },
      "outputs": [
        {
          "output_type": "stream",
          "name": "stdout",
          "text": [
            "{'criterion': 'gini', 'min_samples_leaf': 10, 'min_samples_split': 2, 'splitter': 'best'}\n"
          ]
        }
      ],
      "source": [
        "# Identificando os melhores parâmetros\n",
        "best_parameters = grid_search.best_params_\n",
        "print(best_parameters)"
      ]
    },
    {
      "cell_type": "code",
      "execution_count": 1267,
      "metadata": {
        "colab": {
          "base_uri": "https://localhost:8080/"
        },
        "id": "ePyO34CbeHLW",
        "outputId": "46535c2e-57af-4a1c-c46f-14ee95beba8e"
      },
      "outputs": [
        {
          "output_type": "stream",
          "name": "stdout",
          "text": [
            "42.666666666666664\n"
          ]
        }
      ],
      "source": [
        "# Retornando Nível de acertos das previsões\n",
        "best_score = grid_search.best_score_\n",
        "print(best_score * 100)"
      ]
    },
    {
      "cell_type": "code",
      "source": [
        "scores['Decision Tree'] = [round(best_score, 2)]"
      ],
      "metadata": {
        "id": "eVXi8yiP3xV6"
      },
      "execution_count": 1268,
      "outputs": []
    },
    {
      "cell_type": "markdown",
      "metadata": {
        "id": "hk-F-F7V8Ov_"
      },
      "source": [
        "### **Random Forest**"
      ]
    },
    {
      "cell_type": "code",
      "execution_count": 1269,
      "metadata": {
        "id": "2V00_DByeHLW"
      },
      "outputs": [],
      "source": [
        "from sklearn.ensemble import RandomForestClassifier"
      ]
    },
    {
      "cell_type": "code",
      "execution_count": 1270,
      "metadata": {
        "id": "TrWBzxpJeHLW"
      },
      "outputs": [],
      "source": [
        "# Passando parâmetros que serão testas pelo GridSearchCV\n",
        "parameters = { 'criterion': ['gini', 'entropy'],\n",
        "               'n_estimators': [10, 40 ,100, 150],\n",
        "               'min_samples_split': [2, 5, 10],\n",
        "               'min_samples_leaf': [1,5,10]}"
      ]
    },
    {
      "cell_type": "code",
      "execution_count": 1271,
      "metadata": {
        "id": "W8tmaFy_eHLW"
      },
      "outputs": [],
      "source": [
        "# Instanciando GridSearchCV\n",
        "grid_search = GridSearchCV(estimator=RandomForestClassifier(), param_grid=parameters, cv=10)"
      ]
    },
    {
      "cell_type": "code",
      "execution_count": 1272,
      "metadata": {
        "colab": {
          "base_uri": "https://localhost:8080/"
        },
        "id": "B8q0nR7OeHLW",
        "outputId": "31e952bc-3a6f-422f-b620-ac22731b8865"
      },
      "outputs": [
        {
          "output_type": "execute_result",
          "data": {
            "text/plain": [
              "GridSearchCV(cv=10, estimator=RandomForestClassifier(),\n",
              "             param_grid={'criterion': ['gini', 'entropy'],\n",
              "                         'min_samples_leaf': [1, 5, 10],\n",
              "                         'min_samples_split': [2, 5, 10],\n",
              "                         'n_estimators': [10, 40, 100, 150]})"
            ]
          },
          "metadata": {},
          "execution_count": 1272
        }
      ],
      "source": [
        "# Treinando modelo com os atributos teste e alvo\n",
        "grid_search.fit(X_posture_personality, y_posture_personality)"
      ]
    },
    {
      "cell_type": "code",
      "execution_count": 1273,
      "metadata": {
        "colab": {
          "base_uri": "https://localhost:8080/"
        },
        "id": "dTVLlZifeHLX",
        "outputId": "080ecc12-bf66-4dcc-fc0c-931d1665ffe1"
      },
      "outputs": [
        {
          "output_type": "stream",
          "name": "stdout",
          "text": [
            "{'criterion': 'gini', 'min_samples_leaf': 5, 'min_samples_split': 10, 'n_estimators': 100}\n"
          ]
        }
      ],
      "source": [
        "# Identificando os melhores parâmetros\n",
        "best_parameters = grid_search.best_params_\n",
        "print(best_parameters)"
      ]
    },
    {
      "cell_type": "code",
      "execution_count": 1274,
      "metadata": {
        "colab": {
          "base_uri": "https://localhost:8080/"
        },
        "id": "wZkbU545eHLX",
        "outputId": "a88511c6-cae0-4796-f058-ff2ad7cc6ca2"
      },
      "outputs": [
        {
          "output_type": "stream",
          "name": "stdout",
          "text": [
            "50.0\n"
          ]
        }
      ],
      "source": [
        "# Retornando Nível de acertos das previsões\n",
        "best_score = grid_search.best_score_\n",
        "print(best_score * 100)"
      ]
    },
    {
      "cell_type": "markdown",
      "metadata": {
        "id": "xXTtDZHf8YAP"
      },
      "source": [
        "### **K-Nearest Neighbour**"
      ]
    },
    {
      "cell_type": "code",
      "execution_count": 1275,
      "metadata": {
        "id": "XsGrkhm0eHLX"
      },
      "outputs": [],
      "source": [
        "from sklearn.neighbors import KNeighborsClassifier"
      ]
    },
    {
      "cell_type": "code",
      "execution_count": 1276,
      "metadata": {
        "id": "6nTweSeReHLX"
      },
      "outputs": [],
      "source": [
        "# Passando parâmetros que serão testas pelo GridSearchCV\n",
        "parameters = { 'n_neighbors': [3, 5, 10, 20],\n",
        "              'p': [1, 2]}"
      ]
    },
    {
      "cell_type": "code",
      "execution_count": 1277,
      "metadata": {
        "id": "Mz7pEZ6teHLY"
      },
      "outputs": [],
      "source": [
        "# Instanciando GridSearchCV\n",
        "grid_search = GridSearchCV(estimator=KNeighborsClassifier(), param_grid=parameters, cv=10)"
      ]
    },
    {
      "cell_type": "code",
      "execution_count": 1278,
      "metadata": {
        "colab": {
          "base_uri": "https://localhost:8080/"
        },
        "id": "r7YXiGi-eHLY",
        "outputId": "9ab8f2ee-32f1-453c-afdd-f4229cecc900"
      },
      "outputs": [
        {
          "output_type": "execute_result",
          "data": {
            "text/plain": [
              "GridSearchCV(cv=10, estimator=KNeighborsClassifier(),\n",
              "             param_grid={'n_neighbors': [3, 5, 10, 20], 'p': [1, 2]})"
            ]
          },
          "metadata": {},
          "execution_count": 1278
        }
      ],
      "source": [
        "# Treinando modelo com os atributos teste e alvo\n",
        "grid_search.fit(X_posture_personality, y_posture_personality)"
      ]
    },
    {
      "cell_type": "code",
      "execution_count": 1279,
      "metadata": {
        "colab": {
          "base_uri": "https://localhost:8080/"
        },
        "id": "9kIbQCVheHLY",
        "outputId": "8751a709-9b5d-40fe-fcd0-1106fa8d96f7"
      },
      "outputs": [
        {
          "output_type": "stream",
          "name": "stdout",
          "text": [
            "{'n_neighbors': 20, 'p': 2}\n"
          ]
        }
      ],
      "source": [
        "# Identificando os melhores parâmetros\n",
        "best_parameters = grid_search.best_params_\n",
        "print(best_parameters)"
      ]
    },
    {
      "cell_type": "code",
      "execution_count": 1280,
      "metadata": {
        "colab": {
          "base_uri": "https://localhost:8080/"
        },
        "id": "ZxhPUSDweHLY",
        "outputId": "4fa512e4-b917-4d99-c6ab-a9355af248e6"
      },
      "outputs": [
        {
          "output_type": "stream",
          "name": "stdout",
          "text": [
            "41.666666666666664\n"
          ]
        }
      ],
      "source": [
        "# Retornando Nível de acertos das previsões\n",
        "best_score = grid_search.best_score_\n",
        "print(best_score * 100)"
      ]
    },
    {
      "cell_type": "code",
      "source": [
        "scores['K-Nearest Neighbour'] = [round(best_score, 2)]"
      ],
      "metadata": {
        "id": "DTxwQKWX30Tw"
      },
      "execution_count": 1281,
      "outputs": []
    },
    {
      "cell_type": "markdown",
      "metadata": {
        "id": "Ou9OJ5KS8fwB"
      },
      "source": [
        "### **Logistic Regression**"
      ]
    },
    {
      "cell_type": "code",
      "execution_count": 1282,
      "metadata": {
        "id": "uARRaKj-eHLY"
      },
      "outputs": [],
      "source": [
        "from sklearn.linear_model import LogisticRegression"
      ]
    },
    {
      "cell_type": "code",
      "execution_count": 1283,
      "metadata": {
        "id": "3VLfhProeHLY"
      },
      "outputs": [],
      "source": [
        "# Passando parâmetros que serão testas pelo GridSearchCV\n",
        "parameters = {'tol': [0.0001, 0.00001, 0.000001],\n",
        "              'C': [1.0, 1.5, 2.0],\n",
        "              'solver': ['lbfgs', 'sag', 'saga']}"
      ]
    },
    {
      "cell_type": "code",
      "execution_count": 1284,
      "metadata": {
        "id": "7UeA87lBeHLY"
      },
      "outputs": [],
      "source": [
        "# Instanciando GridSearchCV\n",
        "grid_search = GridSearchCV(estimator=LogisticRegression(), param_grid=parameters, cv=10)"
      ]
    },
    {
      "cell_type": "code",
      "execution_count": 1285,
      "metadata": {
        "colab": {
          "base_uri": "https://localhost:8080/"
        },
        "id": "6Zek7wzfeHLZ",
        "outputId": "f4e63851-72a6-48e0-f925-13839ad28344"
      },
      "outputs": [
        {
          "output_type": "execute_result",
          "data": {
            "text/plain": [
              "GridSearchCV(cv=10, estimator=LogisticRegression(),\n",
              "             param_grid={'C': [1.0, 1.5, 2.0],\n",
              "                         'solver': ['lbfgs', 'sag', 'saga'],\n",
              "                         'tol': [0.0001, 1e-05, 1e-06]})"
            ]
          },
          "metadata": {},
          "execution_count": 1285
        }
      ],
      "source": [
        "# Treinando modelo com os atributos teste e alvo\n",
        "grid_search.fit(X_posture_personality, y_posture_personality)"
      ]
    },
    {
      "cell_type": "code",
      "execution_count": 1286,
      "metadata": {
        "colab": {
          "base_uri": "https://localhost:8080/"
        },
        "id": "H1H-ySuGeHLZ",
        "outputId": "7e4fe463-c8db-4eb9-ee6e-ed61892fd60b"
      },
      "outputs": [
        {
          "output_type": "stream",
          "name": "stdout",
          "text": [
            "{'C': 2.0, 'solver': 'lbfgs', 'tol': 0.0001}\n"
          ]
        }
      ],
      "source": [
        "# Identificando os melhores parâmetros\n",
        "best_parameters = grid_search.best_params_\n",
        "print(best_parameters)"
      ]
    },
    {
      "cell_type": "code",
      "execution_count": 1287,
      "metadata": {
        "colab": {
          "base_uri": "https://localhost:8080/"
        },
        "id": "S_G6q5O1eHLZ",
        "outputId": "8ddaafb0-2ad2-477f-bb32-a90d0d11122e"
      },
      "outputs": [
        {
          "output_type": "stream",
          "name": "stdout",
          "text": [
            "31.333333333333336\n"
          ]
        }
      ],
      "source": [
        "# Retornando Nível de acertos das previsões\n",
        "best_score = grid_search.best_score_\n",
        "print(best_score * 100)"
      ]
    },
    {
      "cell_type": "code",
      "source": [
        "scores['Logist Regression'] = [round(best_score, 2)]"
      ],
      "metadata": {
        "id": "KKSg4Zld33pv"
      },
      "execution_count": 1288,
      "outputs": []
    },
    {
      "cell_type": "markdown",
      "metadata": {
        "id": "4mjd1ZCW8kG1"
      },
      "source": [
        "### **SVM**"
      ]
    },
    {
      "cell_type": "code",
      "execution_count": 1289,
      "metadata": {
        "id": "CGpcpUBdeHLZ"
      },
      "outputs": [],
      "source": [
        "from sklearn.svm import SVC"
      ]
    },
    {
      "cell_type": "code",
      "execution_count": 1290,
      "metadata": {
        "id": "0Z7l66GfeHLZ"
      },
      "outputs": [],
      "source": [
        "# Passando parâmetros que serão testas pelo GridSearchCV\n",
        "parameters = {'tol': [0.0001, 0.00001, 0.000001],\n",
        "              'C': [1.0, 1.5, 2.0],\n",
        "              'kernel': ['rbf', 'linear', 'poly', 'sigmoid']}"
      ]
    },
    {
      "cell_type": "code",
      "execution_count": 1291,
      "metadata": {
        "id": "abQ49X5_eHLZ"
      },
      "outputs": [],
      "source": [
        "# Instanciando GridSearchCV\n",
        "grid_search = GridSearchCV(estimator=SVC(), param_grid=parameters, cv=10)"
      ]
    },
    {
      "cell_type": "code",
      "execution_count": 1292,
      "metadata": {
        "colab": {
          "base_uri": "https://localhost:8080/"
        },
        "id": "AISrRTmFeHLZ",
        "outputId": "ee9c8a9c-5519-4dae-a055-4b1a1eba8130"
      },
      "outputs": [
        {
          "output_type": "execute_result",
          "data": {
            "text/plain": [
              "GridSearchCV(cv=10, estimator=SVC(),\n",
              "             param_grid={'C': [1.0, 1.5, 2.0],\n",
              "                         'kernel': ['rbf', 'linear', 'poly', 'sigmoid'],\n",
              "                         'tol': [0.0001, 1e-05, 1e-06]})"
            ]
          },
          "metadata": {},
          "execution_count": 1292
        }
      ],
      "source": [
        "# Treinando modelo com os atributos teste e alvo\n",
        "grid_search.fit(X_posture_personality, y_posture_personality)"
      ]
    },
    {
      "cell_type": "code",
      "execution_count": 1293,
      "metadata": {
        "colab": {
          "base_uri": "https://localhost:8080/"
        },
        "id": "RQPG39zleHLZ",
        "outputId": "aa979c3f-bd9d-43e1-a828-35d0bcb2b3d7"
      },
      "outputs": [
        {
          "output_type": "stream",
          "name": "stdout",
          "text": [
            "{'C': 1.0, 'kernel': 'rbf', 'tol': 0.0001}\n"
          ]
        }
      ],
      "source": [
        "# Identificando os melhores parâmetros\n",
        "best_parameters = grid_search.best_params_\n",
        "print(best_parameters)"
      ]
    },
    {
      "cell_type": "code",
      "execution_count": 1294,
      "metadata": {
        "colab": {
          "base_uri": "https://localhost:8080/"
        },
        "id": "3csU8P1VeHLa",
        "outputId": "b07daf19-84e5-4bd3-e354-a63c2cf731be"
      },
      "outputs": [
        {
          "output_type": "stream",
          "name": "stdout",
          "text": [
            "42.77777777777778\n"
          ]
        }
      ],
      "source": [
        "# Retornando Nível de acertos das previsões\n",
        "best_score = grid_search.best_score_\n",
        "print(best_score * 100)"
      ]
    },
    {
      "cell_type": "code",
      "source": [
        "scores['Naive Bays'] = [round(best_score, 2)]"
      ],
      "metadata": {
        "id": "N5RO2ydK4Bjv"
      },
      "execution_count": 1295,
      "outputs": []
    },
    {
      "cell_type": "markdown",
      "source": [
        "### **Avaliação dos modelos**"
      ],
      "metadata": {
        "id": "-wBj9lcu3f-9"
      }
    },
    {
      "cell_type": "code",
      "source": [
        "scores_df = pd.DataFrame(scores)\n",
        "figure = plt.figure\n",
        "plt.title('Score')\n",
        "plot = sns.barplot(data=scores_df, orient='h', order=['Random Forest', 'K-Nearest Neighbour', 'SVM', 'Decision Tree', 'Logistic Regression', 'Naive Bays' ]);\n",
        "for i in plot.patches:\n",
        "  plot.annotate(i.get_width(), (i.get_width(), i.get_y() + i.get_height() / 2))\n",
        "plot.set(xticklabels='')"
      ],
      "metadata": {
        "colab": {
          "base_uri": "https://localhost:8080/",
          "height": 285
        },
        "id": "u3CHt-oK3l94",
        "outputId": "c7d242e1-d737-4cbe-cb63-419fd7e60ca0"
      },
      "execution_count": 1296,
      "outputs": [
        {
          "output_type": "execute_result",
          "data": {
            "text/plain": [
              "[[]]"
            ]
          },
          "metadata": {},
          "execution_count": 1296
        },
        {
          "output_type": "display_data",
          "data": {
            "text/plain": [
              "<Figure size 432x288 with 1 Axes>"
            ],
            "image/png": "[encoded data removed]"
          },
          "metadata": {
            "needs_background": "light"
          }
        }
      ]
    },
    {
      "cell_type": "markdown",
      "metadata": {
        "id": "ECRn3riKc3vl"
      },
      "source": [
        "### **8.0 Conclusão**"
      ]
    },
    {
      "cell_type": "markdown",
      "metadata": {
        "id": "wgGxrQt5c9z8"
      },
      "source": [
        "Mesmo adicionando as colunas relacionadas a dores aos modelos não foi possível criar um modelo com um bom nível de acertos o que indica que não existe correlação entre postura e pesonalidade, contudo o banco de dados utilizado neste projeto e pequeno com hapenas 97 candidatos o que não nos permite treinar nossos modelos de forma mais robusta."
      ]
    }
  ],
  "metadata": {
    "colab": {
      "provenance": [],
      "authorship_tag": "ABX9TyPSKRdpsIAQM6vu+o4vQQrc",
      "include_colab_link": true
    },
    "kernelspec": {
      "display_name": "Python 3",
      "name": "python3"
    },
    "language_info": {
      "name": "python"
    }
  },
  "nbformat": 4,
  "nbformat_minor": 0
}